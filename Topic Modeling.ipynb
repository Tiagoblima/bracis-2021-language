{
 "cells": [
  {
   "cell_type": "markdown",
   "metadata": {
    "collapsed": true,
    "pycharm": {
     "name": "#%% md\n"
    }
   },
   "source": [
    "## Topic Modeling for Language Classification"
   ]
  },
  {
   "cell_type": "code",
   "execution_count": 75,
   "outputs": [
    {
     "name": "stderr",
     "output_type": "stream",
     "text": [
      "C:\\Users\\Acer\\anaconda3\\lib\\site-packages\\ipykernel\\ipkernel.py:287: DeprecationWarning: `should_run_async` will not call `transform_cell` automatically in the future. Please pass the result to `transformed_cell` argument and any exception that happen during thetransform in `preprocessing_exc_tuple` in IPython 7.17 and above.\n",
      "  and should_run_async(code)\n"
     ]
    }
   ],
   "source": [
    "# Converts the unicode file to ascii\n",
    "import re\n",
    "\n",
    "import numpy as np\n",
    "import pyLDAvis\n",
    "import unicodedata\n",
    "from nltk import word_tokenize\n",
    "from sklearn.feature_extraction.text import TfidfVectorizer"
   ],
   "metadata": {
    "collapsed": false,
    "pycharm": {
     "name": "#%%\n"
    }
   }
  },
  {
   "cell_type": "code",
   "execution_count": null,
   "outputs": [],
   "source": [
    "def unicode_to_ascii(s):\n",
    "    return ''.join(c for c in unicodedata.normalize('NFD', s)\n",
    "                   if unicodedata.category(c) != 'Mn')\n",
    "\n",
    "\n",
    "def preprocess_sentence(w):\n",
    "    w = w.strip().lower()\n",
    "\n",
    "    # creating a space between a word and the punctuation following it eg: \"he is a boy.\" => \"he is a boy .\"\n",
    "    # Reference:- https://stackoverflow.com/questions/3645931/python-padding-punctuation-with-white-spaces-keeping\n",
    "    # -punctuation\n",
    "    w = re.sub(r\"([?.!,¿#@0-9])\", r\"\", w)\n",
    "\n",
    "    return w"
   ],
   "metadata": {
    "collapsed": false,
    "pycharm": {
     "name": "#%%\n"
    }
   }
  },
  {
   "cell_type": "code",
   "execution_count": 60,
   "outputs": [],
   "source": [
    "import pandas as pd\n",
    "\n",
    "\n",
    "family = pd.read_csv('family.csv')\n",
    "\n",
    "def get_family(language):\n",
    "\n",
    "    family['unit'] = family['unit'].apply(lambda sent:unicode_to_ascii(sent).lower().split(' ')[0])\n",
    "\n",
    "    return family.loc[family['unit']==language][\"family\"].astype(str)"
   ],
   "metadata": {
    "collapsed": false,
    "pycharm": {
     "name": "#%%\n"
    }
   }
  },
  {
   "cell_type": "code",
   "execution_count": 88,
   "outputs": [
    {
     "name": "stderr",
     "output_type": "stream",
     "text": [
      "C:\\Users\\Acer\\anaconda3\\lib\\site-packages\\ipykernel\\ipkernel.py:287: DeprecationWarning: `should_run_async` will not call `transform_cell` automatically in the future. Please pass the result to `transformed_cell` argument and any exception that happen during thetransform in `preprocessing_exc_tuple` in IPython 7.17 and above.\n",
      "  and should_run_async(code)\n"
     ]
    },
    {
     "data": {
      "text/plain": "(array(['yrome taroino kapu ae ayhtohpyry porohnõko mana ritonõpo apotunuru wino emero motye jamihme ritonõpo omiry mana jomiry roropa isaaro jamihme mana tykase jezu eya xine',\n        'ynara tykase jezu eya xine —aparão enurupyra ro ahtao nae ro exine tykase jezu eya xine',\n        'moroto awahtao xine tuaro ehtoko jomiry kurã ekarotohme imehnomo a moroto matose',\n        ...,\n        \"'re ĩhâimana u'âsi mono hã wamama hã te te 're wa'azawi pese te duré te te 're wa'apawapto wapẽ'ẽ 're 're wanomro wẽ u'âsi mono da wahâimana nhiptete sina wanhimi'ẽ na sô 're wanhimipari u'âsi za'ra mono da ĩwẽ zô taha wa wa za wamama wi wa te 're rowaptẽrẽ u'âsi za'ra duré wanhib'apito zezu cristuhu wi zama ato sina 're aihâimana za'ra wa'aba mono da duré asiptete sina ĩwẽ na si tãma 're romhuri pese za'ra wa'aba mono da asimirowasu'u wẽ za'ra wa'aba na\",\n        \"'re ĩhâimana u'âsi mono hã ma tô ĩ̱pisutu ĩsib'a'uwẽ norĩ te tãma 're apawapto mono da ai'udâna za'ra wa'aba te 're romhuri mono da ma tô romhuri hã ĩ̱ma tisõ uburé ĩsadawa wasu'uwẽ na te aima 're rowasu'u za'ra wa'aba mono da\",\n        \"zezusi hã te te ĩda'apesezé wasu'u tawamhã zezusi norĩ hã te ai'aba'ré darireza na ĩsõ'u nhisi u da'ahâ uptabi na te ĩsarina ai'aba'ré ni darireza na danhipti'a nho'õmo nhisi hawimhã duré zudeza na danhipti'a nho'õmo nhisi hawimhã duré zeruzarẽ hawimhã duré idumeza hawimhã duré zodã pa zara hawimhã duré tiru hawimhã duré sido hawimhã zezusihi wasu'u hã ma tô wapari za'ra ni aré te te 're ĩda'apawapto mono zé wasu'u na hã taha wa ma tô ĩtẽme dasito daro mono bâ\"],\n       dtype=object),\n array(['apalai', 'apalai', 'apalai', ..., 'xavante', 'xavante', 'xavante'],\n       dtype=object))"
     },
     "execution_count": 88,
     "metadata": {},
     "output_type": "execute_result"
    }
   ],
   "source": [
    "samples = pd.read_csv('datasets/samples.csv')\n",
    "samples = samples[samples['LANG'] != 'portuguese']\n",
    "X = samples['TEXT'].apply(preprocess_sentence).to_numpy()\n",
    "y = samples['LANG'].to_numpy()\n",
    "\n",
    "y_family = list(map(get_family, y))\n",
    "\n",
    "\n",
    "\n",
    "X, y"
   ],
   "metadata": {
    "collapsed": false,
    "pycharm": {
     "name": "#%%\n"
    }
   }
  },
  {
   "cell_type": "code",
   "source": [
    "from sklearn.decomposition import LatentDirichletAllocation\n",
    "\n",
    "from sklearn.datasets import make_multilabel_classification\n",
    "# This produces a feature matrix of token counts, similar to what\n",
    "# CountVectorizer would produce on text.\n",
    "tfidf = TfidfVectorizer(analyzer='word', ngram_range=(2, 3))\n",
    "print(X)\n",
    "X_transformed = tfidf.fit_transform(X)\n",
    "lda = LatentDirichletAllocation(n_components=15,\n",
    "                                random_state=0)\n",
    "lda.fit(X_transformed)\n",
    "\n",
    "# get topics for some given samples:\n",
    "topics_probs = lda.transform(X_transformed[-1])\n",
    "\n",
    "print(np.argmax(topics_probs))\n",
    "\n"
   ],
   "metadata": {
    "collapsed": false,
    "pycharm": {
     "name": "#%%\n"
    }
   },
   "execution_count": 90,
   "outputs": [
    {
     "name": "stderr",
     "output_type": "stream",
     "text": [
      "C:\\Users\\Acer\\anaconda3\\lib\\site-packages\\ipykernel\\ipkernel.py:287: DeprecationWarning: `should_run_async` will not call `transform_cell` automatically in the future. Please pass the result to `transformed_cell` argument and any exception that happen during thetransform in `preprocessing_exc_tuple` in IPython 7.17 and above.\n",
      "  and should_run_async(code)\n"
     ]
    },
    {
     "name": "stdout",
     "output_type": "stream",
     "text": [
      "['yrome taroino kapu ae ayhtohpyry porohnõko mana ritonõpo apotunuru wino emero motye jamihme ritonõpo omiry mana jomiry roropa isaaro jamihme mana tykase jezu eya xine'\n",
      " 'ynara tykase jezu eya xine —aparão enurupyra ro ahtao nae ro exine tykase jezu eya xine'\n",
      " 'moroto awahtao xine tuaro ehtoko jomiry kurã ekarotohme imehnomo a moroto matose'\n",
      " ...\n",
      " \"'re ĩhâimana u'âsi mono hã wamama hã te te 're wa'azawi pese te duré te te 're wa'apawapto wapẽ'ẽ 're 're wanomro wẽ u'âsi mono da wahâimana nhiptete sina wanhimi'ẽ na sô 're wanhimipari u'âsi za'ra mono da ĩwẽ zô taha wa wa za wamama wi wa te 're rowaptẽrẽ u'âsi za'ra duré wanhib'apito zezu cristuhu wi zama ato sina 're aihâimana za'ra wa'aba mono da duré asiptete sina ĩwẽ na si tãma 're romhuri pese za'ra wa'aba mono da asimirowasu'u wẽ za'ra wa'aba na\"\n",
      " \"'re ĩhâimana u'âsi mono hã ma tô ĩ̱pisutu ĩsib'a'uwẽ norĩ te tãma 're apawapto mono da ai'udâna za'ra wa'aba te 're romhuri mono da ma tô romhuri hã ĩ̱ma tisõ uburé ĩsadawa wasu'uwẽ na te aima 're rowasu'u za'ra wa'aba mono da\"\n",
      " \"zezusi hã te te ĩda'apesezé wasu'u tawamhã zezusi norĩ hã te ai'aba'ré darireza na ĩsõ'u nhisi u da'ahâ uptabi na te ĩsarina ai'aba'ré ni darireza na danhipti'a nho'õmo nhisi hawimhã duré zudeza na danhipti'a nho'õmo nhisi hawimhã duré zeruzarẽ hawimhã duré idumeza hawimhã duré zodã pa zara hawimhã duré tiru hawimhã duré sido hawimhã zezusihi wasu'u hã ma tô wapari za'ra ni aré te te 're ĩda'apawapto mono zé wasu'u na hã taha wa ma tô ĩtẽme dasito daro mono bâ\"]\n",
      "\n"
     ]
    }
   ]
  },
  {
   "cell_type": "code",
   "execution_count": 98,
   "outputs": [
    {
     "name": "stderr",
     "output_type": "stream",
     "text": [
      "C:\\Users\\Acer\\anaconda3\\lib\\site-packages\\ipykernel\\ipkernel.py:287: DeprecationWarning: `should_run_async` will not call `transform_cell` automatically in the future. Please pass the result to `transformed_cell` argument and any exception that happen during thetransform in `preprocessing_exc_tuple` in IPython 7.17 and above.\n",
      "  and should_run_async(code)\n"
     ]
    },
    {
     "name": "stdout",
     "output_type": "stream",
     "text": [
      "[[0.00850983 0.00850983 0.00850983 ... 0.00850983 0.00850983 0.00850983]\n",
      " [0.01153065 0.01153065 0.01153065 ... 0.01153065 0.01153065 0.01153065]\n",
      " [0.01245393 0.01245393 0.01245393 ... 0.01245393 0.01245393 0.82564501]\n",
      " ...\n",
      " [0.00503063 0.00503063 0.00503063 ... 0.00503063 0.00503063 0.92957124]\n",
      " [0.00661592 0.00661592 0.00661592 ... 0.00661592 0.00661594 0.3503952 ]\n",
      " [0.00540454 0.00540454 0.00540454 ... 0.00540455 0.00540455 0.32666825]]\n",
      "(15, 187399)\n",
      "(2600,)\n"
     ]
    }
   ],
   "source": [
    "topics_probs = lda.transform(X_transformed)\n",
    "print(topics_probs)\n",
    "family_pred = list(map(lambda probs:family['family'][np.argmax(probs)], topics_probs))\n",
    "\n",
    "print(lda.components_.shape)\n",
    "print(X.shape)"
   ],
   "metadata": {
    "collapsed": false,
    "pycharm": {
     "name": "#%%\n"
    }
   }
  },
  {
   "cell_type": "code",
   "execution_count": 102,
   "outputs": [
    {
     "name": "stderr",
     "output_type": "stream",
     "text": [
      "C:\\Users\\Acer\\anaconda3\\lib\\site-packages\\ipykernel\\ipkernel.py:287: DeprecationWarning: `should_run_async` will not call `transform_cell` automatically in the future. Please pass the result to `transformed_cell` argument and any exception that happen during thetransform in `preprocessing_exc_tuple` in IPython 7.17 and above.\n",
      "  and should_run_async(code)\n",
      "C:\\Users\\Acer\\anaconda3\\lib\\site-packages\\pyLDAvis\\_prepare.py:246: FutureWarning: In a future version of pandas all arguments of DataFrame.drop except for the argument 'labels' will be keyword-only\n",
      "  default_term_info = default_term_info.sort_values(\n"
     ]
    },
    {
     "ename": "AttributeError",
     "evalue": "'HTML' object has no attribute 'save_html'",
     "output_type": "error",
     "traceback": [
      "\u001B[1;31m---------------------------------------------------------------------------\u001B[0m",
      "\u001B[1;31mAttributeError\u001B[0m                            Traceback (most recent call last)",
      "\u001B[1;32m<ipython-input-102-d4afb26f98c9>\u001B[0m in \u001B[0;36m<module>\u001B[1;34m\u001B[0m\n\u001B[0;32m      6\u001B[0m \u001B[0mprep_data\u001B[0m \u001B[1;33m=\u001B[0m \u001B[0mpyLDAvis\u001B[0m\u001B[1;33m.\u001B[0m\u001B[0mprepare\u001B[0m\u001B[1;33m(\u001B[0m\u001B[0mlda\u001B[0m\u001B[1;33m.\u001B[0m\u001B[0mcomponents_\u001B[0m\u001B[1;33m,\u001B[0m \u001B[0mtopics_probs\u001B[0m\u001B[1;33m,\u001B[0m \u001B[0mdoc_length\u001B[0m\u001B[1;33m,\u001B[0m \u001B[0mtfidf\u001B[0m\u001B[1;33m.\u001B[0m\u001B[0mvocabulary_\u001B[0m\u001B[1;33m.\u001B[0m\u001B[0mkeys\u001B[0m\u001B[1;33m(\u001B[0m\u001B[1;33m)\u001B[0m\u001B[1;33m,\u001B[0m \u001B[0mtfidf\u001B[0m\u001B[1;33m.\u001B[0m\u001B[0mvocabulary_\u001B[0m\u001B[1;33m.\u001B[0m\u001B[0mvalues\u001B[0m\u001B[1;33m(\u001B[0m\u001B[1;33m)\u001B[0m\u001B[1;33m)\u001B[0m\u001B[1;33m\u001B[0m\u001B[1;33m\u001B[0m\u001B[0m\n\u001B[0;32m      7\u001B[0m \u001B[0mhtml\u001B[0m \u001B[1;33m=\u001B[0m \u001B[0mpyLDAvis\u001B[0m\u001B[1;33m.\u001B[0m\u001B[0mdisplay\u001B[0m\u001B[1;33m(\u001B[0m\u001B[0mprep_data\u001B[0m\u001B[1;33m)\u001B[0m\u001B[1;33m\u001B[0m\u001B[1;33m\u001B[0m\u001B[0m\n\u001B[1;32m----> 8\u001B[1;33m \u001B[0mhtml\u001B[0m\u001B[1;33m.\u001B[0m\u001B[0msave_html\u001B[0m\u001B[1;33m(\u001B[0m\u001B[0mprep_data\u001B[0m\u001B[1;33m,\u001B[0m \u001B[1;34m'lda.html'\u001B[0m\u001B[1;33m)\u001B[0m\u001B[1;33m\u001B[0m\u001B[1;33m\u001B[0m\u001B[0m\n\u001B[0m",
      "\u001B[1;31mAttributeError\u001B[0m: 'HTML' object has no attribute 'save_html'"
     ]
    }
   ],
   "source": [
    "def get_num_words(doc):\n",
    "    return len(word_tokenize(doc))\n",
    "\n",
    "doc_length = list(map(get_num_words, X))\n",
    "\n",
    "prep_data = pyLDAvis.prepare(lda.components_, topics_probs, doc_length, tfidf.vocabulary_.keys(), tfidf.vocabulary_.values())\n",
    "pyLDAvis.display(prep_data)"
   ],
   "metadata": {
    "collapsed": false,
    "pycharm": {
     "name": "#%%\n"
    }
   }
  },
  {
   "cell_type": "code",
   "execution_count": 104,
   "outputs": [
    {
     "name": "stderr",
     "output_type": "stream",
     "text": [
      "C:\\Users\\Acer\\anaconda3\\lib\\site-packages\\ipykernel\\ipkernel.py:287: DeprecationWarning: `should_run_async` will not call `transform_cell` automatically in the future. Please pass the result to `transformed_cell` argument and any exception that happen during thetransform in `preprocessing_exc_tuple` in IPython 7.17 and above.\n",
      "  and should_run_async(code)\n"
     ]
    }
   ],
   "source": [
    "pyLDAvis.save_html(prep_data, 'lda.html')"
   ],
   "metadata": {
    "collapsed": false,
    "pycharm": {
     "name": "#%%\n"
    }
   }
  }
 ],
 "metadata": {
  "kernelspec": {
   "display_name": "Python 3",
   "language": "python",
   "name": "python3"
  },
  "language_info": {
   "codemirror_mode": {
    "name": "ipython",
    "version": 2
   },
   "file_extension": ".py",
   "mimetype": "text/x-python",
   "name": "python",
   "nbconvert_exporter": "python",
   "pygments_lexer": "ipython2",
   "version": "2.7.6"
  }
 },
 "nbformat": 4,
 "nbformat_minor": 0
}