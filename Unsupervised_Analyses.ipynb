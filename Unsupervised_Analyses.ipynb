{
 "nbformat": 4,
 "nbformat_minor": 0,
 "metadata": {
  "colab": {
   "name": "VA1RecPad.ipynb",
   "provenance": [],
   "collapsed_sections": [],
   "toc_visible": true
  },
  "kernelspec": {
   "name": "python3",
   "language": "python",
   "display_name": "Python 3"
  },
  "language_info": {}
 },
 "cells": [
  {
   "cell_type": "markdown",
   "metadata": {
    "id": "Q6bAWDYJlUHI"
   },
   "source": [
    "# 1a VERIFICAÇÃO DE APRENDIZAGEM"
   ]
  },
  {
   "cell_type": "code",
   "metadata": {
    "id": "QITUegCilNxD"
   },
   "source": [
    "import unicodedata\n",
    "import re\n",
    "import pandas as pd\n",
    "import numpy as np"
   ],
   "execution_count": null,
   "outputs": []
  },
  {
   "cell_type": "code",
   "metadata": {
    "id": "7UYkJdeLlbde"
   },
   "source": [
    "# Converts the unicode file to ascii\n",
    "def unicode_to_ascii(s):\n",
    "    return ''.join(c for c in unicodedata.normalize('NFD', s)\n",
    "                   if unicodedata.category(c) != 'Mn')\n",
    "\n",
    "\n",
    "def preprocess_sentence(w):\n",
    "    w = w.strip().lower()\n",
    "\n",
    "    # creating a space between a word and the punctuation following it eg: \"he is a boy.\" => \"he is a boy .\"\n",
    "    # Reference:- https://stackoverflow.com/questions/3645931/python-padding-punctuation-with-white-spaces-keeping\n",
    "    # -punctuation\n",
    "    w = re.sub(r\"([?.!,¿#@0-9])\", r\"\", w)\n",
    "\n",
    "    return w"
   ],
   "execution_count": null,
   "outputs": []
  },
  {
   "cell_type": "markdown",
   "metadata": {
    "id": "abtPkOTOv6FB"
   },
   "source": [
    "### Seleção Dos Dados\n",
    "\n",
    "No experimento realizado foi usado um conjunto de dados contento versículos extraídos da Bíblia em 27 versões diferentes cada uma em um idioma.\n",
    "São 26 idiomas indígenas e uma versão em Português (versão internacional).\n",
    "Além disso, apenas uma porção do conjunto de dados original foi utilizada. \n",
    "Isso ocorreu devido ao alto consumo de recurso computacional que inviabilizariam uma avaliação do método o proposto. \n",
    "Os algoritmos consomem um quantidade considerável de recurso computacional muitos dados impossibilitam a execução adequada dos experimentos."
   ]
  },
  {
   "cell_type": "code",
   "execution_count": null,
   "outputs": [],
   "source": [
    "!wget"
   ],
   "metadata": {
    "collapsed": false,
    "pycharm": {
     "name": "#%%\n"
    }
   }
  },
  {
   "cell_type": "code",
   "metadata": {
    "id": "Ck7qJEsw0yv2"
   },
   "source": [
    "pd.read_csv('target_aligned_text.csv').sample(frac=0.01).to_csv('samples.csv',\n",
    "index=False, index_label=False)\n",
    "samples = pd.read_csv(\"samples.csv\")"
   ],
   "execution_count": 1,
   "outputs": [
    {
     "ename": "NameError",
     "evalue": "name 'pd' is not defined",
     "output_type": "error",
     "traceback": [
      "\u001B[1;31m---------------------------------------------------------------------------\u001B[0m",
      "\u001B[1;31mNameError\u001B[0m                                 Traceback (most recent call last)",
      "\u001B[1;32m<ipython-input-1-a4e3cb4feac0>\u001B[0m in \u001B[0;36m<module>\u001B[1;34m\u001B[0m\n\u001B[1;32m----> 1\u001B[1;33m pd.read_csv('target_aligned_text.csv').to_csv('samples.csv',\n\u001B[0m\u001B[0;32m      2\u001B[0m index=False, index_label=False)\n\u001B[0;32m      3\u001B[0m \u001B[0msamples\u001B[0m \u001B[1;33m=\u001B[0m \u001B[0mpd\u001B[0m\u001B[1;33m.\u001B[0m\u001B[0mread_csv\u001B[0m\u001B[1;33m(\u001B[0m\u001B[1;34m\"samples.csv\"\u001B[0m\u001B[1;33m)\u001B[0m\u001B[1;33m\u001B[0m\u001B[1;33m\u001B[0m\u001B[0m\n\u001B[0;32m      4\u001B[0m \u001B[1;33m\u001B[0m\u001B[0m\n",
      "\u001B[1;31mNameError\u001B[0m: name 'pd' is not defined"
     ]
    }
   ]
  },
  {
   "cell_type": "code",
   "metadata": {
    "colab": {
     "base_uri": "https://localhost:8080/"
    },
    "id": "XJP438oL0hqL",
    "outputId": "43a6ac2b-068e-4e98-b4c8-c72bc1074bc7"
   },
   "source": [
    "s = samples[samples['LANG']==\"Portuguese\"].sample(n=5)\n",
    "s['TEXT'].to_numpy()"
   ],
   "execution_count": 2,
   "outputs": [
    {
     "ename": "NameError",
     "evalue": "name 'samples' is not defined",
     "output_type": "error",
     "traceback": [
      "\u001B[1;31m---------------------------------------------------------------------------\u001B[0m",
      "\u001B[1;31mNameError\u001B[0m                                 Traceback (most recent call last)",
      "\u001B[1;32m<ipython-input-2-aebf5f398fad>\u001B[0m in \u001B[0;36m<module>\u001B[1;34m\u001B[0m\n\u001B[1;32m----> 1\u001B[1;33m \u001B[0ms\u001B[0m \u001B[1;33m=\u001B[0m \u001B[0msamples\u001B[0m\u001B[1;33m[\u001B[0m\u001B[0msamples\u001B[0m\u001B[1;33m[\u001B[0m\u001B[1;34m'LANG'\u001B[0m\u001B[1;33m]\u001B[0m\u001B[1;33m==\u001B[0m\u001B[1;34m\"Portuguese\"\u001B[0m\u001B[1;33m]\u001B[0m\u001B[1;33m.\u001B[0m\u001B[0msample\u001B[0m\u001B[1;33m(\u001B[0m\u001B[0mn\u001B[0m\u001B[1;33m=\u001B[0m\u001B[1;36m5\u001B[0m\u001B[1;33m)\u001B[0m\u001B[1;33m\u001B[0m\u001B[1;33m\u001B[0m\u001B[0m\n\u001B[0m\u001B[0;32m      2\u001B[0m \u001B[0ms\u001B[0m\u001B[1;33m[\u001B[0m\u001B[1;34m'TEXT'\u001B[0m\u001B[1;33m]\u001B[0m\u001B[1;33m.\u001B[0m\u001B[0mto_numpy\u001B[0m\u001B[1;33m(\u001B[0m\u001B[1;33m)\u001B[0m\u001B[1;33m\u001B[0m\u001B[1;33m\u001B[0m\u001B[0m\n\u001B[0;32m      3\u001B[0m \u001B[1;33m\u001B[0m\u001B[0m\n",
      "\u001B[1;31mNameError\u001B[0m: name 'samples' is not defined"
     ]
    }
   ]
  },
  {
   "cell_type": "code",
   "metadata": {
    "colab": {
     "base_uri": "https://localhost:8080/"
    },
    "id": "G3La1SIX6Zgf",
    "outputId": "fcb1127a-390b-4302-d814-a64d7347c1fc"
   },
   "source": [
    "s = s['TEXT'].apply(preprocess_sentence).to_numpy()\n",
    "s"
   ],
   "execution_count": 3,
   "outputs": [
    {
     "ename": "NameError",
     "evalue": "name 's' is not defined",
     "output_type": "error",
     "traceback": [
      "\u001B[1;31m---------------------------------------------------------------------------\u001B[0m",
      "\u001B[1;31mNameError\u001B[0m                                 Traceback (most recent call last)",
      "\u001B[1;32m<ipython-input-3-b31c0705cc4a>\u001B[0m in \u001B[0;36m<module>\u001B[1;34m\u001B[0m\n\u001B[1;32m----> 1\u001B[1;33m \u001B[0ms\u001B[0m \u001B[1;33m=\u001B[0m \u001B[0ms\u001B[0m\u001B[1;33m[\u001B[0m\u001B[1;34m'TEXT'\u001B[0m\u001B[1;33m]\u001B[0m\u001B[1;33m.\u001B[0m\u001B[0mapply\u001B[0m\u001B[1;33m(\u001B[0m\u001B[0mpreprocess_sentence\u001B[0m\u001B[1;33m)\u001B[0m\u001B[1;33m.\u001B[0m\u001B[0mto_numpy\u001B[0m\u001B[1;33m(\u001B[0m\u001B[1;33m)\u001B[0m\u001B[1;33m\u001B[0m\u001B[1;33m\u001B[0m\u001B[0m\n\u001B[0m\u001B[0;32m      2\u001B[0m \u001B[0ms\u001B[0m\u001B[1;33m\u001B[0m\u001B[1;33m\u001B[0m\u001B[0m\n\u001B[0;32m      3\u001B[0m \u001B[1;33m\u001B[0m\u001B[0m\n",
      "\u001B[1;31mNameError\u001B[0m: name 's' is not defined"
     ]
    }
   ]
  },
  {
   "cell_type": "markdown",
   "metadata": {
    "id": "ul4pyM4JwimD"
   },
   "source": [
    "### Carregando Corpus Selecionado"
   ]
  },
  {
   "cell_type": "markdown",
   "metadata": {
    "id": "AR6iY0BTTxEA"
   },
   "source": [
    "### PRÉ-PROCESSAMENTO\n",
    "\n",
    "1. Ao menos um método de pré-processamento deve ser usado, gerando uma nova base de\n",
    "dados.\n",
    "2. O tipo de pré-processamento utilizado deve estar relacionado ao contexto da aplicação, de\n",
    "acordo com a modelagem do problema indicada na resolução da Atividade 4 (ML-L04).\n",
    "3. Remoção de vírgulas, espaços em branco, identificador dos padrões, etc. não serão\n",
    "considerados pré-processamento válidos."
   ]
  },
  {
   "cell_type": "code",
   "metadata": {
    "id": "a039pXFxmsXW",
    "outputId": "90756b1f-4585-4a4d-c59f-95d222c0e7ca"
   },
   "source": [
    "samples = pd.read_csv('samples.csv')\n",
    "classes = set(samples[\"LANG\"].tolist())"
   ],
   "execution_count": null,
   "outputs": [
    {
     "output_type": "error",
     "ename": "KeyError",
     "evalue": "'Lang'",
     "traceback": [
      "\u001B[1;31m---------------------------------------------------------------------------\u001B[0m",
      "\u001B[1;31mKeyError\u001B[0m                                  Traceback (most recent call last)",
      "\u001B[1;32mC:\\Users\\Acer\\AppData\\Roaming\\Python\\Python36\\site-packages\\pandas\\core\\indexes\\base.py\u001B[0m in \u001B[0;36mget_loc\u001B[1;34m(self, key, method, tolerance)\u001B[0m\n\u001B[0;32m   2897\u001B[0m             \u001B[1;32mtry\u001B[0m\u001B[1;33m:\u001B[0m\u001B[1;33m\u001B[0m\u001B[1;33m\u001B[0m\u001B[0m\n\u001B[1;32m-> 2898\u001B[1;33m                 \u001B[1;32mreturn\u001B[0m \u001B[0mself\u001B[0m\u001B[1;33m.\u001B[0m\u001B[0m_engine\u001B[0m\u001B[1;33m.\u001B[0m\u001B[0mget_loc\u001B[0m\u001B[1;33m(\u001B[0m\u001B[0mcasted_key\u001B[0m\u001B[1;33m)\u001B[0m\u001B[1;33m\u001B[0m\u001B[1;33m\u001B[0m\u001B[0m\n\u001B[0m\u001B[0;32m   2899\u001B[0m             \u001B[1;32mexcept\u001B[0m \u001B[0mKeyError\u001B[0m \u001B[1;32mas\u001B[0m \u001B[0merr\u001B[0m\u001B[1;33m:\u001B[0m\u001B[1;33m\u001B[0m\u001B[1;33m\u001B[0m\u001B[0m\n",
      "\u001B[1;32mpandas\\_libs\\index.pyx\u001B[0m in \u001B[0;36mpandas._libs.index.IndexEngine.get_loc\u001B[1;34m()\u001B[0m\n",
      "\u001B[1;32mpandas\\_libs\\index.pyx\u001B[0m in \u001B[0;36mpandas._libs.index.IndexEngine.get_loc\u001B[1;34m()\u001B[0m\n",
      "\u001B[1;32mpandas\\_libs\\hashtable_class_helper.pxi\u001B[0m in \u001B[0;36mpandas._libs.hashtable.PyObjectHashTable.get_item\u001B[1;34m()\u001B[0m\n",
      "\u001B[1;32mpandas\\_libs\\hashtable_class_helper.pxi\u001B[0m in \u001B[0;36mpandas._libs.hashtable.PyObjectHashTable.get_item\u001B[1;34m()\u001B[0m\n",
      "\u001B[1;31mKeyError\u001B[0m: 'Lang'",
      "\nThe above exception was the direct cause of the following exception:\n",
      "\u001B[1;31mKeyError\u001B[0m                                  Traceback (most recent call last)",
      "\u001B[1;32m<ipython-input-13-eab407e8b103>\u001B[0m in \u001B[0;36m<module>\u001B[1;34m()\u001B[0m\n\u001B[0;32m      1\u001B[0m \u001B[0msamples\u001B[0m \u001B[1;33m=\u001B[0m \u001B[0mpd\u001B[0m\u001B[1;33m.\u001B[0m\u001B[0mread_csv\u001B[0m\u001B[1;33m(\u001B[0m\u001B[1;34m'samples.csv'\u001B[0m\u001B[1;33m)\u001B[0m\u001B[1;33m\u001B[0m\u001B[1;33m\u001B[0m\u001B[0m\n\u001B[1;32m----> 2\u001B[1;33m \u001B[0mclasses\u001B[0m \u001B[1;33m=\u001B[0m \u001B[0mset\u001B[0m\u001B[1;33m(\u001B[0m\u001B[0msamples\u001B[0m\u001B[1;33m[\u001B[0m\u001B[1;34m\"Lang\"\u001B[0m\u001B[1;33m]\u001B[0m\u001B[1;33m.\u001B[0m\u001B[0mtolist\u001B[0m\u001B[1;33m(\u001B[0m\u001B[1;33m)\u001B[0m\u001B[1;33m)\u001B[0m\u001B[1;33m\u001B[0m\u001B[1;33m\u001B[0m\u001B[0m\n\u001B[0m",
      "\u001B[1;32mC:\\Users\\Acer\\AppData\\Roaming\\Python\\Python36\\site-packages\\pandas\\core\\frame.py\u001B[0m in \u001B[0;36m__getitem__\u001B[1;34m(self, key)\u001B[0m\n\u001B[0;32m   2904\u001B[0m             \u001B[1;32mif\u001B[0m \u001B[0mself\u001B[0m\u001B[1;33m.\u001B[0m\u001B[0mcolumns\u001B[0m\u001B[1;33m.\u001B[0m\u001B[0mnlevels\u001B[0m \u001B[1;33m>\u001B[0m \u001B[1;36m1\u001B[0m\u001B[1;33m:\u001B[0m\u001B[1;33m\u001B[0m\u001B[1;33m\u001B[0m\u001B[0m\n\u001B[0;32m   2905\u001B[0m                 \u001B[1;32mreturn\u001B[0m \u001B[0mself\u001B[0m\u001B[1;33m.\u001B[0m\u001B[0m_getitem_multilevel\u001B[0m\u001B[1;33m(\u001B[0m\u001B[0mkey\u001B[0m\u001B[1;33m)\u001B[0m\u001B[1;33m\u001B[0m\u001B[1;33m\u001B[0m\u001B[0m\n\u001B[1;32m-> 2906\u001B[1;33m             \u001B[0mindexer\u001B[0m \u001B[1;33m=\u001B[0m \u001B[0mself\u001B[0m\u001B[1;33m.\u001B[0m\u001B[0mcolumns\u001B[0m\u001B[1;33m.\u001B[0m\u001B[0mget_loc\u001B[0m\u001B[1;33m(\u001B[0m\u001B[0mkey\u001B[0m\u001B[1;33m)\u001B[0m\u001B[1;33m\u001B[0m\u001B[1;33m\u001B[0m\u001B[0m\n\u001B[0m\u001B[0;32m   2907\u001B[0m             \u001B[1;32mif\u001B[0m \u001B[0mis_integer\u001B[0m\u001B[1;33m(\u001B[0m\u001B[0mindexer\u001B[0m\u001B[1;33m)\u001B[0m\u001B[1;33m:\u001B[0m\u001B[1;33m\u001B[0m\u001B[1;33m\u001B[0m\u001B[0m\n\u001B[0;32m   2908\u001B[0m                 \u001B[0mindexer\u001B[0m \u001B[1;33m=\u001B[0m \u001B[1;33m[\u001B[0m\u001B[0mindexer\u001B[0m\u001B[1;33m]\u001B[0m\u001B[1;33m\u001B[0m\u001B[1;33m\u001B[0m\u001B[0m\n",
      "\u001B[1;32mC:\\Users\\Acer\\AppData\\Roaming\\Python\\Python36\\site-packages\\pandas\\core\\indexes\\base.py\u001B[0m in \u001B[0;36mget_loc\u001B[1;34m(self, key, method, tolerance)\u001B[0m\n\u001B[0;32m   2898\u001B[0m                 \u001B[1;32mreturn\u001B[0m \u001B[0mself\u001B[0m\u001B[1;33m.\u001B[0m\u001B[0m_engine\u001B[0m\u001B[1;33m.\u001B[0m\u001B[0mget_loc\u001B[0m\u001B[1;33m(\u001B[0m\u001B[0mcasted_key\u001B[0m\u001B[1;33m)\u001B[0m\u001B[1;33m\u001B[0m\u001B[1;33m\u001B[0m\u001B[0m\n\u001B[0;32m   2899\u001B[0m             \u001B[1;32mexcept\u001B[0m \u001B[0mKeyError\u001B[0m \u001B[1;32mas\u001B[0m \u001B[0merr\u001B[0m\u001B[1;33m:\u001B[0m\u001B[1;33m\u001B[0m\u001B[1;33m\u001B[0m\u001B[0m\n\u001B[1;32m-> 2900\u001B[1;33m                 \u001B[1;32mraise\u001B[0m \u001B[0mKeyError\u001B[0m\u001B[1;33m(\u001B[0m\u001B[0mkey\u001B[0m\u001B[1;33m)\u001B[0m \u001B[1;32mfrom\u001B[0m \u001B[0merr\u001B[0m\u001B[1;33m\u001B[0m\u001B[1;33m\u001B[0m\u001B[0m\n\u001B[0m\u001B[0;32m   2901\u001B[0m \u001B[1;33m\u001B[0m\u001B[0m\n\u001B[0;32m   2902\u001B[0m         \u001B[1;32mif\u001B[0m \u001B[0mtolerance\u001B[0m \u001B[1;32mis\u001B[0m \u001B[1;32mnot\u001B[0m \u001B[1;32mNone\u001B[0m\u001B[1;33m:\u001B[0m\u001B[1;33m\u001B[0m\u001B[1;33m\u001B[0m\u001B[0m\n",
      "\u001B[1;31mKeyError\u001B[0m: 'Lang'"
     ]
    }
   ]
  },
  {
   "cell_type": "code",
   "metadata": {
    "colab": {
     "base_uri": "https://localhost:8080/",
     "height": 69
    },
    "id": "6TJet3K4qj1O",
    "outputId": "07de34f0-6be4-4977-d1fd-2d2d122dd2fb"
   },
   "source": [
    "from collections import Counter\n",
    "X = samples['TEXT'].apply(preprocess_sentence).to_numpy()\n",
    "y = samples['LANG'].to_numpy()\n",
    "\n",
    "metadata = pd.DataFrame.from_dict(Counter(y), orient='index')\n",
    "metadata"
   ],
   "execution_count": null,
   "outputs": [
    {
     "output_type": "execute_result",
     "data": {
      "text/html": [
       "<div>\n",
       "<style scoped>\n",
       "    .dataframe tbody tr th:only-of-type {\n",
       "        vertical-align: middle;\n",
       "    }\n",
       "\n",
       "    .dataframe tbody tr th {\n",
       "        vertical-align: top;\n",
       "    }\n",
       "\n",
       "    .dataframe thead th {\n",
       "        text-align: right;\n",
       "    }\n",
       "</style>\n",
       "<table border=\"1\" class=\"dataframe\">\n",
       "  <thead>\n",
       "    <tr style=\"text-align: right;\">\n",
       "      <th></th>\n",
       "      <th>0</th>\n",
       "    </tr>\n",
       "  </thead>\n",
       "  <tbody>\n",
       "    <tr>\n",
       "      <th>Guarani</th>\n",
       "      <td>20</td>\n",
       "    </tr>\n",
       "    <tr>\n",
       "      <th>kayapó</th>\n",
       "      <td>25</td>\n",
       "    </tr>\n",
       "    <tr>\n",
       "      <th>Sateré-Mawé</th>\n",
       "      <td>13</td>\n",
       "    </tr>\n",
       "    <tr>\n",
       "      <th>Apurinã</th>\n",
       "      <td>17</td>\n",
       "    </tr>\n",
       "    <tr>\n",
       "      <th>Kaiwá</th>\n",
       "      <td>16</td>\n",
       "    </tr>\n",
       "    <tr>\n",
       "      <th>Apinayé</th>\n",
       "      <td>17</td>\n",
       "    </tr>\n",
       "    <tr>\n",
       "      <th>Maxakalí</th>\n",
       "      <td>27</td>\n",
       "    </tr>\n",
       "    <tr>\n",
       "      <th>Terena</th>\n",
       "      <td>16</td>\n",
       "    </tr>\n",
       "    <tr>\n",
       "      <th>Guajajara</th>\n",
       "      <td>20</td>\n",
       "    </tr>\n",
       "    <tr>\n",
       "      <th>Paumarí</th>\n",
       "      <td>21</td>\n",
       "    </tr>\n",
       "    <tr>\n",
       "      <th>Apalaí</th>\n",
       "      <td>29</td>\n",
       "    </tr>\n",
       "    <tr>\n",
       "      <th>Kaigáng</th>\n",
       "      <td>21</td>\n",
       "    </tr>\n",
       "    <tr>\n",
       "      <th>Karajá</th>\n",
       "      <td>17</td>\n",
       "    </tr>\n",
       "    <tr>\n",
       "      <th>Kadiwéu</th>\n",
       "      <td>16</td>\n",
       "    </tr>\n",
       "    <tr>\n",
       "      <th>Macushi</th>\n",
       "      <td>23</td>\n",
       "    </tr>\n",
       "    <tr>\n",
       "      <th>Portuguese</th>\n",
       "      <td>15</td>\n",
       "    </tr>\n",
       "    <tr>\n",
       "      <th>Nadëb</th>\n",
       "      <td>14</td>\n",
       "    </tr>\n",
       "    <tr>\n",
       "      <th>Urubu-Kaapor</th>\n",
       "      <td>17</td>\n",
       "    </tr>\n",
       "    <tr>\n",
       "      <th>Kagwahiva</th>\n",
       "      <td>17</td>\n",
       "    </tr>\n",
       "    <tr>\n",
       "      <th>Kayabí</th>\n",
       "      <td>16</td>\n",
       "    </tr>\n",
       "    <tr>\n",
       "      <th>Tukano</th>\n",
       "      <td>21</td>\n",
       "    </tr>\n",
       "    <tr>\n",
       "      <th>Bakairi</th>\n",
       "      <td>17</td>\n",
       "    </tr>\n",
       "    <tr>\n",
       "      <th>Nambikuára</th>\n",
       "      <td>15</td>\n",
       "    </tr>\n",
       "    <tr>\n",
       "      <th>Rikbaktsa</th>\n",
       "      <td>11</td>\n",
       "    </tr>\n",
       "    <tr>\n",
       "      <th>Xavánte</th>\n",
       "      <td>16</td>\n",
       "    </tr>\n",
       "    <tr>\n",
       "      <th>Mundurukú</th>\n",
       "      <td>10</td>\n",
       "    </tr>\n",
       "    <tr>\n",
       "      <th>Parecis</th>\n",
       "      <td>19</td>\n",
       "    </tr>\n",
       "  </tbody>\n",
       "</table>\n",
       "</div>"
      ],
      "text/plain": [
       "               0\n",
       "Guarani       20\n",
       "kayapó        25\n",
       "Sateré-Mawé   13\n",
       "Apurinã       17\n",
       "Kaiwá         16\n",
       "Apinayé       17\n",
       "Maxakalí      27\n",
       "Terena        16\n",
       "Guajajara     20\n",
       "Paumarí       21\n",
       "Apalaí        29\n",
       "Kaigáng       21\n",
       "Karajá        17\n",
       "Kadiwéu       16\n",
       "Macushi       23\n",
       "Portuguese    15\n",
       "Nadëb         14\n",
       "Urubu-Kaapor  17\n",
       "Kagwahiva     17\n",
       "Kayabí        16\n",
       "Tukano        21\n",
       "Bakairi       17\n",
       "Nambikuára    15\n",
       "Rikbaktsa     11\n",
       "Xavánte       16\n",
       "Mundurukú     10\n",
       "Parecis       19"
      ]
     },
     "metadata": {
      "tags": []
     },
     "execution_count": 9
    }
   ]
  },
  {
   "cell_type": "markdown",
   "metadata": {
    "id": "DMSrEiQrad2M"
   },
   "source": [
    "#### Método\n",
    "\n",
    "O pré-processamento transforma cada documento em um formato que posso ser utilizado no cluster. A primeira fase do processamento consiste em transforma cada cluster em um vetor com M-dimensões. \n",
    "Nesse vetor, cada elemento é o vetor que representa uma única palavra que também é um vetor.\n",
    "Para fazer isso é possível utilizar o *Term Frequency and Inverse Term Frequency*.\n",
    "\n",
    "\n"
   ]
  },
  {
   "cell_type": "markdown",
   "metadata": {
    "id": "Sumo5CGx4mz8"
   },
   "source": [
    "#### TF-IDF Weighing"
   ]
  },
  {
   "cell_type": "code",
   "metadata": {
    "colab": {
     "base_uri": "https://localhost:8080/"
    },
    "id": "nHw9SUszyLCt",
    "outputId": "2d037fb8-c0cf-4d4e-baa5-ee9b2245794c"
   },
   "source": [
    "from sklearn.feature_extraction.text import TfidfVectorizer\n",
    "from sklearn.feature_extraction.text import CountVectorizer\n",
    "\n",
    "\n",
    "tfidf = TfidfVectorizer(analyzer='char', ngram_range=(2, 3))\n",
    "X_transformed = tfidf.fit_transform(X)\n",
    "X_transformed.shape"
   ],
   "execution_count": null,
   "outputs": [
    {
     "output_type": "execute_result",
     "data": {
      "text/plain": [
       "(486, 12626)"
      ]
     },
     "metadata": {
      "tags": []
     },
     "execution_count": 10
    }
   ]
  },
  {
   "cell_type": "markdown",
   "metadata": {
    "id": "hI0RbTkcU9s-"
   },
   "source": [
    "### Avaliação do Algoritmo"
   ]
  },
  {
   "cell_type": "markdown",
   "metadata": {
    "id": "g_QScV8Qaxsm"
   },
   "source": [
    "### Métricas \n",
    "\n",
    "#### Davies-Bouldin score\n",
    "\n",
    "É uma métrica que avaliação da média de similaridade um cluster com outro mais similar. \n",
    "Ela considera as distâncias dentro de cada cluster e entre cada um dos clusteres. Valores menores indicam clusters melhores.\n",
    "\n",
    "\n",
    "\n",
    "#### Silhouette Coefficient of all samples\n",
    "\n",
    "Essa métrica considera a distância entre cada exemplo dentro de cada cluster e entre o cluster mais próximo. O melhor valor é 1, 0 significa a existência de overlaps e -1 significa o pior resultado possível. \n",
    "\n",
    "*Referências:* \n",
    "\n",
    "[1. A Cluster Separation Measure](https://ieeexplore.ieee.org/document/4766909)\n",
    "\n",
    "[2. Silhouettes: A graphical aid to the interpretation and validation of \n",
    "cluster analysis](https://www.sciencedirect.com/science/article/pii/0377042787901257)\n",
    "\n",
    "[3. A Dendrite Method for Cluster Analysis\n",
    "](https://www.researchgate.net/publication/233096619_A_Dendrite_Method_for_Cluster_Analysis)"
   ]
  },
  {
   "cell_type": "markdown",
   "metadata": {
    "id": "7YhKgNYlG1nC"
   },
   "source": [
    "## K-Means \n",
    "\n",
    "\n",
    "*Referência:* [Opinion classification using Maximum Entropy and K-Means Clustering](https://ieeexplore.ieee.org/abstract/document/7910292?casa_token=QAbNYBdCmAoAAAAA:xA-elSpmLadbWey9C2yAhyHzH2FO4fRA9S1ys0Y49b16Fx00jcuhhXUx9bNaK_oAyyighNFuGA)\n",
    "\n"
   ]
  },
  {
   "cell_type": "code",
   "metadata": {
    "id": "gcr47o_Rm2rz"
   },
   "source": [
    "from sklearn.cluster import KMeans\n",
    "from sklearn.metrics import silhouette_score\n",
    "from sklearn.metrics import davies_bouldin_score"
   ],
   "execution_count": null,
   "outputs": []
  },
  {
   "cell_type": "code",
   "metadata": {
    "colab": {
     "base_uri": "https://localhost:8080/"
    },
    "id": "zRNwFjlki9Nm",
    "outputId": "c7986b23-1230-4be2-beb1-8171f1925273"
   },
   "source": [
    "kmeans = KMeans(n_clusters=len(classes), random_state=42).fit(X_transformed)\n",
    "pred = kmeans.predict(X_transformed)\n",
    "\n",
    "silhouette = silhouette_score(X_transformed.toarray(), pred)\n",
    "\n",
    "davies_boul = davies_bouldin_score(X_transformed.toarray(), pred)\n",
    "\n",
    "print(\"silhouette_score: \", silhouette)\n",
    "print(\"davies_boul: \", davies_boul)"
   ],
   "execution_count": null,
   "outputs": [
    {
     "output_type": "error",
     "ename": "NameError",
     "evalue": "name 'classes' is not defined",
     "traceback": [
      "\u001B[1;31m---------------------------------------------------------------------------\u001B[0m",
      "\u001B[1;31mNameError\u001B[0m                                 Traceback (most recent call last)",
      "\u001B[1;32m<ipython-input-12-4a7b4b585ec2>\u001B[0m in \u001B[0;36m<module>\u001B[1;34m()\u001B[0m\n\u001B[1;32m----> 1\u001B[1;33m \u001B[0mkmeans\u001B[0m \u001B[1;33m=\u001B[0m \u001B[0mKMeans\u001B[0m\u001B[1;33m(\u001B[0m\u001B[0mn_clusters\u001B[0m\u001B[1;33m=\u001B[0m\u001B[0mlen\u001B[0m\u001B[1;33m(\u001B[0m\u001B[0mclasses\u001B[0m\u001B[1;33m)\u001B[0m\u001B[1;33m,\u001B[0m \u001B[0mrandom_state\u001B[0m\u001B[1;33m=\u001B[0m\u001B[1;36m42\u001B[0m\u001B[1;33m)\u001B[0m\u001B[1;33m.\u001B[0m\u001B[0mfit\u001B[0m\u001B[1;33m(\u001B[0m\u001B[0mX_transformed\u001B[0m\u001B[1;33m)\u001B[0m\u001B[1;33m\u001B[0m\u001B[1;33m\u001B[0m\u001B[0m\n\u001B[0m\u001B[0;32m      2\u001B[0m \u001B[0mpred\u001B[0m \u001B[1;33m=\u001B[0m \u001B[0mkmeans\u001B[0m\u001B[1;33m.\u001B[0m\u001B[0mpredict\u001B[0m\u001B[1;33m(\u001B[0m\u001B[0mX_transformed\u001B[0m\u001B[1;33m)\u001B[0m\u001B[1;33m\u001B[0m\u001B[1;33m\u001B[0m\u001B[0m\n\u001B[0;32m      3\u001B[0m \u001B[1;33m\u001B[0m\u001B[0m\n\u001B[0;32m      4\u001B[0m \u001B[0msilhouette\u001B[0m \u001B[1;33m=\u001B[0m \u001B[0msilhouette_score\u001B[0m\u001B[1;33m(\u001B[0m\u001B[0mX_transformed\u001B[0m\u001B[1;33m.\u001B[0m\u001B[0mtoarray\u001B[0m\u001B[1;33m(\u001B[0m\u001B[1;33m)\u001B[0m\u001B[1;33m,\u001B[0m \u001B[0mpred\u001B[0m\u001B[1;33m)\u001B[0m\u001B[1;33m\u001B[0m\u001B[1;33m\u001B[0m\u001B[0m\n\u001B[0;32m      5\u001B[0m \u001B[1;33m\u001B[0m\u001B[0m\n",
      "\u001B[1;31mNameError\u001B[0m: name 'classes' is not defined"
     ]
    }
   ]
  },
  {
   "cell_type": "code",
   "metadata": {
    "id": "gTQjZFAncJIO"
   },
   "source": [
    "silh_scores = []\n",
    "db_scores = []\n",
    "test_range = list(range(2, 31))\n",
    "for n_ in test_range:\n",
    "  kmeans = KMeans(n_clusters=n_, random_state=42).fit(X_transformed)\n",
    "  silh_score = silhouette_score(X_transformed.toarray(), kmeans.labels_)\n",
    "  davies_boul = davies_bouldin_score(X_transformed.toarray(), kmeans.labels_)\n",
    "  silh_scores.append(silh_score)\n",
    "  db_scores.append(davies_boul)"
   ],
   "execution_count": null,
   "outputs": []
  },
  {
   "cell_type": "code",
   "metadata": {
    "colab": {
     "base_uri": "https://localhost:8080/",
     "height": 204
    },
    "id": "ajQlSiPZzb1k",
    "outputId": "03695785-f831-4b60-f341-01314cb1d930"
   },
   "source": [
    "evaluation_data = pd.DataFrame({\n",
    "    \"n_clusters\":test_range+test_range,\n",
    "    \"scores\":silh_scores+db_scores,\n",
    "    \"metric\": [\"silhouette_score\"]*len(test_range)+[\"davies_boul\"]*len(test_range),\n",
    "})\n",
    "evaluation_data.sample(n=5)"
   ],
   "execution_count": null,
   "outputs": [
    {
     "output_type": "execute_result",
     "data": {
      "text/html": [
       "<div>\n",
       "<style scoped>\n",
       "    .dataframe tbody tr th:only-of-type {\n",
       "        vertical-align: middle;\n",
       "    }\n",
       "\n",
       "    .dataframe tbody tr th {\n",
       "        vertical-align: top;\n",
       "    }\n",
       "\n",
       "    .dataframe thead th {\n",
       "        text-align: right;\n",
       "    }\n",
       "</style>\n",
       "<table border=\"1\" class=\"dataframe\">\n",
       "  <thead>\n",
       "    <tr style=\"text-align: right;\">\n",
       "      <th></th>\n",
       "      <th>n_clusters</th>\n",
       "      <th>scores</th>\n",
       "      <th>metric</th>\n",
       "    </tr>\n",
       "  </thead>\n",
       "  <tbody>\n",
       "    <tr>\n",
       "      <th>3</th>\n",
       "      <td>5</td>\n",
       "      <td>0.057299</td>\n",
       "      <td>silhouette_score</td>\n",
       "    </tr>\n",
       "    <tr>\n",
       "      <th>28</th>\n",
       "      <td>30</td>\n",
       "      <td>0.172080</td>\n",
       "      <td>silhouette_score</td>\n",
       "    </tr>\n",
       "    <tr>\n",
       "      <th>39</th>\n",
       "      <td>12</td>\n",
       "      <td>2.878463</td>\n",
       "      <td>davies_boul</td>\n",
       "    </tr>\n",
       "    <tr>\n",
       "      <th>42</th>\n",
       "      <td>15</td>\n",
       "      <td>2.688358</td>\n",
       "      <td>davies_boul</td>\n",
       "    </tr>\n",
       "    <tr>\n",
       "      <th>12</th>\n",
       "      <td>14</td>\n",
       "      <td>0.128682</td>\n",
       "      <td>silhouette_score</td>\n",
       "    </tr>\n",
       "  </tbody>\n",
       "</table>\n",
       "</div>"
      ],
      "text/plain": [
       "    n_clusters    scores            metric\n",
       "3            5  0.057299  silhouette_score\n",
       "28          30  0.172080  silhouette_score\n",
       "39          12  2.878463       davies_boul\n",
       "42          15  2.688358       davies_boul\n",
       "12          14  0.128682  silhouette_score"
      ]
     },
     "metadata": {
      "tags": []
     },
     "execution_count": 179
    }
   ]
  },
  {
   "cell_type": "code",
   "metadata": {
    "colab": {
     "base_uri": "https://localhost:8080/",
     "height": 318
    },
    "id": "mVa2iIF3yykE",
    "outputId": "2f1e33fe-4833-4da3-f4ab-0ecfcbeb7026"
   },
   "source": [
    "import seaborn as sns\n",
    "sns.set_theme(style=\"darkgrid\")\n",
    "g = sns.lineplot(x=\"n_clusters\", y=\"scores\", hue=\"metric\", \n",
    "             data=evaluation_data)\n",
    "g.set_title('Evolução dos Modelos')"
   ],
   "execution_count": null,
   "outputs": [
    {
     "output_type": "execute_result",
     "data": {
      "text/plain": [
       "Text(0.5, 1.0, 'Evolução dos Modelos')"
      ]
     },
     "metadata": {
      "tags": []
     },
     "execution_count": 180
    },
    {
     "output_type": "display_data",
     "data": {
      "image/png": "[encoded data removed]",
      "text/plain": [
       "<Figure size 432x288 with 1 Axes>"
      ]
     },
     "metadata": {
      "tags": []
     }
    }
   ]
  },
  {
   "cell_type": "markdown",
   "metadata": {
    "id": "qO8-Vnhb4pMH"
   },
   "source": [
    "### Análise Usando TSNE\n",
    "\n",
    "Em análise preliminar, pode-se ver na figura a disposição dos idiomas em uma projeção 2D. \n",
    "Foi utilizado *t-distributed Stochastic Neighbor Embedding* (TSNE) para a redução da dimensionalidade e uma visualização dos dados.\n",
    "Essa é uma forma bastante popular para visualização de dados em alta-dimensionalidade.\n",
    "Nessa técnica os objetos são distribuídos de tal forma que pares semelhantes tem uma alta probabilidade na distribuição.\n",
    "O modelo é treinado para minimizar a divergência em Kullback-Leibler *van2014accelerating*.\n",
    "Após a redução da dimensionalidade das originais 18095 para apenas duas,  os dados foram postos em uma escala entre 0 e 1."
   ]
  },
  {
   "cell_type": "code",
   "metadata": {
    "colab": {
     "base_uri": "https://localhost:8080/"
    },
    "id": "t1UuthYo4sNo",
    "outputId": "d72a4ae2-b93c-4d6a-8798-42684a076702"
   },
   "source": [
    "from sklearn.manifold import TSNE\n",
    "\n",
    "X_embedded = TSNE(n_components=2).fit_transform(X_transformed)\n",
    "X_embedded.shape"
   ],
   "execution_count": null,
   "outputs": [
    {
     "output_type": "execute_result",
     "data": {
      "text/plain": [
       "(486, 2)"
      ]
     },
     "metadata": {
      "tags": []
     },
     "execution_count": 10
    }
   ]
  },
  {
   "cell_type": "code",
   "metadata": {
    "id": "hNxF0uyzctYN"
   },
   "source": [
    "kmeans_2d = KMeans(n_clusters=len(classes), random_state=42).fit(X_embedded)"
   ],
   "execution_count": null,
   "outputs": []
  },
  {
   "cell_type": "code",
   "metadata": {
    "colab": {
     "base_uri": "https://localhost:8080/"
    },
    "id": "fBuuLb3W68W1",
    "outputId": "63a41585-3561-4c15-ad3c-2bddd844dd48"
   },
   "source": [
    "\n",
    "pred = kmeans_2d.predict(X_embedded)\n",
    "\n",
    "cluster_c = kmeans_2d.cluster_centers_\n",
    "\n",
    "silhouette = silhouette_score(X_embedded, kmeans.labels_)\n",
    "\n",
    "davies_boul = davies_bouldin_score(X_embedded, kmeans.labels_)\n",
    "\n",
    "print(\"silhouette_score: \", silhouette)\n",
    "print(\"davies_boul: \", davies_boul)"
   ],
   "execution_count": null,
   "outputs": [
    {
     "output_type": "stream",
     "text": [
      "silhouette_score:  0.7780654\n",
      "davies_boul:  0.30007718578064096\n"
     ],
     "name": "stdout"
    }
   ]
  },
  {
   "cell_type": "code",
   "metadata": {
    "id": "Av6plpuIXqtL"
   },
   "source": [
    "to_label = lambda cluster_id: \"cluster_\"+str(cluster_id)"
   ],
   "execution_count": null,
   "outputs": []
  },
  {
   "cell_type": "code",
   "metadata": {
    "id": "JHLUeNq4751H"
   },
   "source": [
    "clusters_ = pd.DataFrame(X_embedded, columns=['D1', 'D2'])\n",
    "clusters_['knn_cluster'] = pred\n",
    "clusters_['true_labels'] = y\n",
    "clusters_.to_csv('clusters.csv')"
   ],
   "execution_count": null,
   "outputs": []
  },
  {
   "cell_type": "markdown",
   "metadata": {
    "id": "-nhp0HFvnjil"
   },
   "source": [
    "### Membros de cada Cluster\n",
    "\n",
    "Aqui podemos visualizar quais idiomas estão em cada um dos clusters formados."
   ]
  },
  {
   "cell_type": "code",
   "metadata": {
    "colab": {
     "base_uri": "https://localhost:8080/",
     "height": 886
    },
    "id": "PhuJnRo8SrKX",
    "outputId": "6e1ed0da-4110-46bf-8f9f-edb6a50dfeea"
   },
   "source": [
    "cluster_mem = {}\n",
    "for cluster in range(len(classes)):\n",
    "  members = clusters_.loc[clusters_['knn_cluster']==cluster, 'true_labels'].unique()\n",
    "  cluster_mem[cluster] = members\n",
    "df_cluster_mem = pd.DataFrame.from_dict(cluster_mem, orient='index')\n",
    "df_cluster_mem.columns = [\"membro1\", \"membro2\"]\n",
    "df_cluster_mem.to_csv(\"clusters_members.csv\")\n",
    "df_cluster_mem"
   ],
   "execution_count": null,
   "outputs": [
    {
     "output_type": "execute_result",
     "data": {
      "text/html": [
       "<div>\n",
       "<style scoped>\n",
       "    .dataframe tbody tr th:only-of-type {\n",
       "        vertical-align: middle;\n",
       "    }\n",
       "\n",
       "    .dataframe tbody tr th {\n",
       "        vertical-align: top;\n",
       "    }\n",
       "\n",
       "    .dataframe thead th {\n",
       "        text-align: right;\n",
       "    }\n",
       "</style>\n",
       "<table border=\"1\" class=\"dataframe\">\n",
       "  <thead>\n",
       "    <tr style=\"text-align: right;\">\n",
       "      <th></th>\n",
       "      <th>membro1</th>\n",
       "      <th>membro2</th>\n",
       "    </tr>\n",
       "  </thead>\n",
       "  <tbody>\n",
       "    <tr>\n",
       "      <th>0</th>\n",
       "      <td>Parecis</td>\n",
       "      <td>None</td>\n",
       "    </tr>\n",
       "    <tr>\n",
       "      <th>1</th>\n",
       "      <td>Kaiwá</td>\n",
       "      <td>Guarani</td>\n",
       "    </tr>\n",
       "    <tr>\n",
       "      <th>2</th>\n",
       "      <td>Nadëb</td>\n",
       "      <td>None</td>\n",
       "    </tr>\n",
       "    <tr>\n",
       "      <th>3</th>\n",
       "      <td>Paumarí</td>\n",
       "      <td>None</td>\n",
       "    </tr>\n",
       "    <tr>\n",
       "      <th>4</th>\n",
       "      <td>Xavánte</td>\n",
       "      <td>None</td>\n",
       "    </tr>\n",
       "    <tr>\n",
       "      <th>5</th>\n",
       "      <td>kayapó</td>\n",
       "      <td>None</td>\n",
       "    </tr>\n",
       "    <tr>\n",
       "      <th>6</th>\n",
       "      <td>Tukano</td>\n",
       "      <td>None</td>\n",
       "    </tr>\n",
       "    <tr>\n",
       "      <th>7</th>\n",
       "      <td>Maxakalí</td>\n",
       "      <td>None</td>\n",
       "    </tr>\n",
       "    <tr>\n",
       "      <th>8</th>\n",
       "      <td>Nambikuára</td>\n",
       "      <td>None</td>\n",
       "    </tr>\n",
       "    <tr>\n",
       "      <th>9</th>\n",
       "      <td>Macushi</td>\n",
       "      <td>None</td>\n",
       "    </tr>\n",
       "    <tr>\n",
       "      <th>10</th>\n",
       "      <td>Urubu-Kaapor</td>\n",
       "      <td>None</td>\n",
       "    </tr>\n",
       "    <tr>\n",
       "      <th>11</th>\n",
       "      <td>Apalaí</td>\n",
       "      <td>None</td>\n",
       "    </tr>\n",
       "    <tr>\n",
       "      <th>12</th>\n",
       "      <td>Kaigáng</td>\n",
       "      <td>None</td>\n",
       "    </tr>\n",
       "    <tr>\n",
       "      <th>13</th>\n",
       "      <td>Sateré-Mawé</td>\n",
       "      <td>None</td>\n",
       "    </tr>\n",
       "    <tr>\n",
       "      <th>14</th>\n",
       "      <td>Karajá</td>\n",
       "      <td>None</td>\n",
       "    </tr>\n",
       "    <tr>\n",
       "      <th>15</th>\n",
       "      <td>Kagwahiva</td>\n",
       "      <td>None</td>\n",
       "    </tr>\n",
       "    <tr>\n",
       "      <th>16</th>\n",
       "      <td>Kadiwéu</td>\n",
       "      <td>None</td>\n",
       "    </tr>\n",
       "    <tr>\n",
       "      <th>17</th>\n",
       "      <td>Bakairi</td>\n",
       "      <td>None</td>\n",
       "    </tr>\n",
       "    <tr>\n",
       "      <th>18</th>\n",
       "      <td>Mundurukú</td>\n",
       "      <td>None</td>\n",
       "    </tr>\n",
       "    <tr>\n",
       "      <th>19</th>\n",
       "      <td>Kayabí</td>\n",
       "      <td>None</td>\n",
       "    </tr>\n",
       "    <tr>\n",
       "      <th>20</th>\n",
       "      <td>Guajajara</td>\n",
       "      <td>None</td>\n",
       "    </tr>\n",
       "    <tr>\n",
       "      <th>21</th>\n",
       "      <td>Terena</td>\n",
       "      <td>None</td>\n",
       "    </tr>\n",
       "    <tr>\n",
       "      <th>22</th>\n",
       "      <td>Apurinã</td>\n",
       "      <td>None</td>\n",
       "    </tr>\n",
       "    <tr>\n",
       "      <th>23</th>\n",
       "      <td>Rikbaktsa</td>\n",
       "      <td>None</td>\n",
       "    </tr>\n",
       "    <tr>\n",
       "      <th>24</th>\n",
       "      <td>Portuguese</td>\n",
       "      <td>None</td>\n",
       "    </tr>\n",
       "    <tr>\n",
       "      <th>25</th>\n",
       "      <td>Apinayé</td>\n",
       "      <td>None</td>\n",
       "    </tr>\n",
       "    <tr>\n",
       "      <th>26</th>\n",
       "      <td>Guarani</td>\n",
       "      <td>Kaiwá</td>\n",
       "    </tr>\n",
       "  </tbody>\n",
       "</table>\n",
       "</div>"
      ],
      "text/plain": [
       "         membro1  membro2\n",
       "0        Parecis     None\n",
       "1          Kaiwá  Guarani\n",
       "2          Nadëb     None\n",
       "3        Paumarí     None\n",
       "4        Xavánte     None\n",
       "5         kayapó     None\n",
       "6         Tukano     None\n",
       "7       Maxakalí     None\n",
       "8     Nambikuára     None\n",
       "9        Macushi     None\n",
       "10  Urubu-Kaapor     None\n",
       "11        Apalaí     None\n",
       "12       Kaigáng     None\n",
       "13   Sateré-Mawé     None\n",
       "14        Karajá     None\n",
       "15     Kagwahiva     None\n",
       "16       Kadiwéu     None\n",
       "17       Bakairi     None\n",
       "18     Mundurukú     None\n",
       "19        Kayabí     None\n",
       "20     Guajajara     None\n",
       "21        Terena     None\n",
       "22       Apurinã     None\n",
       "23     Rikbaktsa     None\n",
       "24    Portuguese     None\n",
       "25       Apinayé     None\n",
       "26       Guarani    Kaiwá"
      ]
     },
     "metadata": {
      "tags": []
     },
     "execution_count": 35
    }
   ]
  },
  {
   "cell_type": "markdown",
   "metadata": {
    "id": "g2iVtVIxnPAS"
   },
   "source": [
    "### Majority Wins\n",
    "\n",
    "Para obtermos um mapeamento, consideramos que a classe que mais aparece em cada cluster é a classe daquele cluster em específico."
   ]
  },
  {
   "cell_type": "code",
   "metadata": {
    "colab": {
     "base_uri": "https://localhost:8080/",
     "height": 886
    },
    "id": "C-F8kKp2d0OJ",
    "outputId": "74897da6-0460-49c1-8a7e-dee67efb96d8"
   },
   "source": [
    "prediction = {}\n",
    "for cluster in clusters_['knn_cluster'].tolist():\n",
    "  members = clusters_.loc[clusters_['knn_cluster']==cluster, 'true_labels'].tolist()\n",
    "  prediction[cluster] = Counter(members).most_common(1)[0][0]\n",
    "prediction = pd.DataFrame.from_dict(prediction, orient='index')\n",
    "prediction.columns = [\"predicted\"]\n",
    "prediction[\"center_d1\"] = kmeans_2d.cluster_centers_[:,0]\n",
    "prediction[\"center_d2\"] = kmeans_2d.cluster_centers_[:,1]\n",
    "prediction.to_csv(\"clusters_members.csv\")\n",
    "prediction"
   ],
   "execution_count": null,
   "outputs": [
    {
     "output_type": "execute_result",
     "data": {
      "text/html": [
       "<div>\n",
       "<style scoped>\n",
       "    .dataframe tbody tr th:only-of-type {\n",
       "        vertical-align: middle;\n",
       "    }\n",
       "\n",
       "    .dataframe tbody tr th {\n",
       "        vertical-align: top;\n",
       "    }\n",
       "\n",
       "    .dataframe thead th {\n",
       "        text-align: right;\n",
       "    }\n",
       "</style>\n",
       "<table border=\"1\" class=\"dataframe\">\n",
       "  <thead>\n",
       "    <tr style=\"text-align: right;\">\n",
       "      <th></th>\n",
       "      <th>predicted</th>\n",
       "      <th>center_d1</th>\n",
       "      <th>center_d2</th>\n",
       "    </tr>\n",
       "  </thead>\n",
       "  <tbody>\n",
       "    <tr>\n",
       "      <th>26</th>\n",
       "      <td>Guarani</td>\n",
       "      <td>13.375306</td>\n",
       "      <td>2.676740</td>\n",
       "    </tr>\n",
       "    <tr>\n",
       "      <th>5</th>\n",
       "      <td>kayapó</td>\n",
       "      <td>-16.502819</td>\n",
       "      <td>-13.614918</td>\n",
       "    </tr>\n",
       "    <tr>\n",
       "      <th>13</th>\n",
       "      <td>Sateré-Mawé</td>\n",
       "      <td>-5.787060</td>\n",
       "      <td>11.485277</td>\n",
       "    </tr>\n",
       "    <tr>\n",
       "      <th>22</th>\n",
       "      <td>Apurinã</td>\n",
       "      <td>13.453645</td>\n",
       "      <td>-7.797940</td>\n",
       "    </tr>\n",
       "    <tr>\n",
       "      <th>1</th>\n",
       "      <td>Kaiwá</td>\n",
       "      <td>3.616448</td>\n",
       "      <td>-5.104047</td>\n",
       "    </tr>\n",
       "    <tr>\n",
       "      <th>25</th>\n",
       "      <td>Apinayé</td>\n",
       "      <td>-18.543097</td>\n",
       "      <td>11.307330</td>\n",
       "    </tr>\n",
       "    <tr>\n",
       "      <th>7</th>\n",
       "      <td>Maxakalí</td>\n",
       "      <td>12.756598</td>\n",
       "      <td>-21.793909</td>\n",
       "    </tr>\n",
       "    <tr>\n",
       "      <th>21</th>\n",
       "      <td>Terena</td>\n",
       "      <td>1.450201</td>\n",
       "      <td>23.190771</td>\n",
       "    </tr>\n",
       "    <tr>\n",
       "      <th>20</th>\n",
       "      <td>Guajajara</td>\n",
       "      <td>19.566441</td>\n",
       "      <td>16.644825</td>\n",
       "    </tr>\n",
       "    <tr>\n",
       "      <th>3</th>\n",
       "      <td>Paumarí</td>\n",
       "      <td>24.754751</td>\n",
       "      <td>-5.889537</td>\n",
       "    </tr>\n",
       "    <tr>\n",
       "      <th>11</th>\n",
       "      <td>Apalaí</td>\n",
       "      <td>25.652172</td>\n",
       "      <td>4.079609</td>\n",
       "    </tr>\n",
       "    <tr>\n",
       "      <th>12</th>\n",
       "      <td>Kaigáng</td>\n",
       "      <td>-5.294312</td>\n",
       "      <td>-2.995445</td>\n",
       "    </tr>\n",
       "    <tr>\n",
       "      <th>14</th>\n",
       "      <td>Karajá</td>\n",
       "      <td>-9.222960</td>\n",
       "      <td>17.755461</td>\n",
       "    </tr>\n",
       "    <tr>\n",
       "      <th>16</th>\n",
       "      <td>Kadiwéu</td>\n",
       "      <td>-15.121524</td>\n",
       "      <td>-1.643833</td>\n",
       "    </tr>\n",
       "    <tr>\n",
       "      <th>9</th>\n",
       "      <td>Macushi</td>\n",
       "      <td>-1.490054</td>\n",
       "      <td>-12.099351</td>\n",
       "    </tr>\n",
       "    <tr>\n",
       "      <th>24</th>\n",
       "      <td>Portuguese</td>\n",
       "      <td>-12.863518</td>\n",
       "      <td>-18.919462</td>\n",
       "    </tr>\n",
       "    <tr>\n",
       "      <th>2</th>\n",
       "      <td>Nadëb</td>\n",
       "      <td>9.193528</td>\n",
       "      <td>-13.880487</td>\n",
       "    </tr>\n",
       "    <tr>\n",
       "      <th>10</th>\n",
       "      <td>Urubu-Kaapor</td>\n",
       "      <td>1.627098</td>\n",
       "      <td>3.429779</td>\n",
       "    </tr>\n",
       "    <tr>\n",
       "      <th>15</th>\n",
       "      <td>Kagwahiva</td>\n",
       "      <td>3.588684</td>\n",
       "      <td>13.037585</td>\n",
       "    </tr>\n",
       "    <tr>\n",
       "      <th>19</th>\n",
       "      <td>Kayabí</td>\n",
       "      <td>-24.063311</td>\n",
       "      <td>-12.766248</td>\n",
       "    </tr>\n",
       "    <tr>\n",
       "      <th>6</th>\n",
       "      <td>Tukano</td>\n",
       "      <td>-20.220686</td>\n",
       "      <td>-6.151935</td>\n",
       "    </tr>\n",
       "    <tr>\n",
       "      <th>17</th>\n",
       "      <td>Bakairi</td>\n",
       "      <td>11.927796</td>\n",
       "      <td>8.618317</td>\n",
       "    </tr>\n",
       "    <tr>\n",
       "      <th>8</th>\n",
       "      <td>Nambikuára</td>\n",
       "      <td>16.892668</td>\n",
       "      <td>-3.123542</td>\n",
       "    </tr>\n",
       "    <tr>\n",
       "      <th>23</th>\n",
       "      <td>Rikbaktsa</td>\n",
       "      <td>8.306737</td>\n",
       "      <td>-1.999135</td>\n",
       "    </tr>\n",
       "    <tr>\n",
       "      <th>4</th>\n",
       "      <td>Xavánte</td>\n",
       "      <td>-4.810719</td>\n",
       "      <td>4.681462</td>\n",
       "    </tr>\n",
       "    <tr>\n",
       "      <th>18</th>\n",
       "      <td>Mundurukú</td>\n",
       "      <td>-14.669632</td>\n",
       "      <td>9.036084</td>\n",
       "    </tr>\n",
       "    <tr>\n",
       "      <th>0</th>\n",
       "      <td>Parecis</td>\n",
       "      <td>-15.636985</td>\n",
       "      <td>-10.222287</td>\n",
       "    </tr>\n",
       "  </tbody>\n",
       "</table>\n",
       "</div>"
      ],
      "text/plain": [
       "       predicted  center_d1  center_d2\n",
       "26       Guarani  13.375306   2.676740\n",
       "5         kayapó -16.502819 -13.614918\n",
       "13   Sateré-Mawé  -5.787060  11.485277\n",
       "22       Apurinã  13.453645  -7.797940\n",
       "1          Kaiwá   3.616448  -5.104047\n",
       "25       Apinayé -18.543097  11.307330\n",
       "7       Maxakalí  12.756598 -21.793909\n",
       "21        Terena   1.450201  23.190771\n",
       "20     Guajajara  19.566441  16.644825\n",
       "3        Paumarí  24.754751  -5.889537\n",
       "11        Apalaí  25.652172   4.079609\n",
       "12       Kaigáng  -5.294312  -2.995445\n",
       "14        Karajá  -9.222960  17.755461\n",
       "16       Kadiwéu -15.121524  -1.643833\n",
       "9        Macushi  -1.490054 -12.099351\n",
       "24    Portuguese -12.863518 -18.919462\n",
       "2          Nadëb   9.193528 -13.880487\n",
       "10  Urubu-Kaapor   1.627098   3.429779\n",
       "15     Kagwahiva   3.588684  13.037585\n",
       "19        Kayabí -24.063311 -12.766248\n",
       "6         Tukano -20.220686  -6.151935\n",
       "17       Bakairi  11.927796   8.618317\n",
       "8     Nambikuára  16.892668  -3.123542\n",
       "23     Rikbaktsa   8.306737  -1.999135\n",
       "4        Xavánte  -4.810719   4.681462\n",
       "18     Mundurukú -14.669632   9.036084\n",
       "0        Parecis -15.636985 -10.222287"
      ]
     },
     "metadata": {
      "tags": []
     },
     "execution_count": 40
    }
   ]
  },
  {
   "cell_type": "markdown",
   "metadata": {
    "id": "G1l1axLqnx4e"
   },
   "source": [
    "### Visualização\n",
    "\n"
   ]
  },
  {
   "cell_type": "markdown",
   "metadata": {
    "id": "Fdp_ICnCwKmQ"
   },
   "source": [
    "### Cluster Centers\n",
    "\n",
    "Dessa forma simples podemos visualizar aqui o centro de cada um dos clusters formados."
   ]
  },
  {
   "cell_type": "code",
   "metadata": {
    "colab": {
     "base_uri": "https://localhost:8080/",
     "height": 385
    },
    "id": "YYNzbNlwpM-M",
    "outputId": "61abe08d-8844-4fce-d4eb-db0078fec2a3"
   },
   "source": [
    "import seaborn as sns\n",
    "\n",
    "sns.set_theme(style=\"darkgrid\")\n",
    "sns.set(rc={'figure.figsize':(5.,3)})\n",
    "g = sns.scatterplot(data=prediction, x=\"center_d1\", y=\"center_d2\", hue=\"predicted\", \n",
    "style=\"predicted\")\n",
    "g.legend(loc='lower center', bbox_to_anchor=(0.5, -1), ncol=4, fancybox=True, shadow=True)\n",
    "g.set_title('Cluster Centers')"
   ],
   "execution_count": null,
   "outputs": [
    {
     "output_type": "execute_result",
     "data": {
      "text/plain": [
       "Text(0.5, 1.0, 'Cluster Centers')"
      ]
     },
     "metadata": {
      "tags": []
     },
     "execution_count": 62
    },
    {
     "output_type": "display_data",
     "data": {
      "image/png": "[encoded data removed]",
      "text/plain": [
       "<Figure size 360x216 with 1 Axes>"
      ]
     },
     "metadata": {
      "tags": []
     }
    }
   ]
  },
  {
   "cell_type": "code",
   "metadata": {
    "colab": {
     "base_uri": "https://localhost:8080/",
     "height": 823
    },
    "id": "9H0sKwvQA5kq",
    "outputId": "52ff6bc7-a679-4b06-a3e4-1174e2514545"
   },
   "source": [
    "import seaborn as sns\n",
    "clusters_['cluster_label'] = clusters_['knn_cluster'].apply(to_label)\n",
    "sns.set_theme(style=\"darkgrid\")\n",
    "sns.set(rc={'figure.figsize':(11.7,8.27)})\n",
    "g = sns.scatterplot(data=clusters_, x=\"D1\", y=\"D2\", hue=\"cluster_label\", \n",
    "style=\"true_labels\")\n",
    "g.legend(loc='lower center', bbox_to_anchor=(0.5, -0.7), ncol=4, fancybox=True, shadow=True)\n",
    "g.set_title('Cluster Kmeans')"
   ],
   "execution_count": null,
   "outputs": [
    {
     "output_type": "execute_result",
     "data": {
      "text/plain": [
       "Text(0.5, 1.0, 'Cluster Kmeans')"
      ]
     },
     "metadata": {
      "tags": []
     },
     "execution_count": 67
    },
    {
     "output_type": "display_data",
     "data": {
      "image/png": "[encoded data removed]",
      "text/plain": [
       "<Figure size 842.4x595.44 with 1 Axes>"
      ]
     },
     "metadata": {
      "tags": []
     }
    }
   ]
  },
  {
   "cell_type": "code",
   "metadata": {
    "id": "ex1FUKv1qP0M"
   },
   "source": [
    "!mkdir snapshots/"
   ],
   "execution_count": null,
   "outputs": []
  },
  {
   "cell_type": "code",
   "metadata": {
    "colab": {
     "base_uri": "https://localhost:8080/",
     "height": 533
    },
    "id": "XmPPB6z_e1DT",
    "outputId": "a2e37834-fa63-462a-c17d-af95882d10e6"
   },
   "source": [
    "import time \n",
    "\n",
    "fig = plt.figure()\n",
    "\n",
    "silh_scores = []\n",
    "db_scores = []\n",
    "time_spend = []\n",
    "\n",
    "\n",
    "for n_ in range(2, 31):\n",
    "  start = time.time()\n",
    "\n",
    "  kmeans = KMeans(n_clusters=n_, random_state=42).fit(X_embedded)\n",
    "  time_spend.append((time.time()-start)/60)\n",
    "  silh_score = silhouette_score(X_embedded, kmeans.labels_)\n",
    "  davies_boul = davies_bouldin_score(X_embedded, kmeans.labels_)\n",
    "  silh_scores.append(silh_score)\n",
    "  db_scores.append(davies_boul)\n",
    "  \n",
    "\n",
    "  clus  = pd.DataFrame(X_embedded, columns=['D1', 'D2'])\n",
    "  clus['knn_cluster'] = list(map(to_label, kmeans.predict(X_embedded)))\n",
    "  clus['true_labels'] = y\n",
    "\n",
    "  # Plota e salva o gráfico\n",
    "  g = sns.scatterplot(data=clus, x=\"D1\", y=\"D2\", hue=\"knn_cluster\", \n",
    "  style=\"true_labels\")\n",
    "  g.legend().remove()\n",
    "  #g.legend(loc='lower center', bbox_to_anchor=(0.5, -0.9), ncol=4, fancybox=True, shadow=True)\n",
    "  g.set_title('Cluster Kmeans')\n",
    "  fig.savefig(f\"snapshots/{n_}_snapshot.png\")"
   ],
   "execution_count": null,
   "outputs": [
    {
     "output_type": "display_data",
     "data": {
      "image/png": "[encoded data removed]",
      "text/plain": [
       "<Figure size 842.4x595.44 with 1 Axes>"
      ]
     },
     "metadata": {
      "tags": []
     }
    }
   ]
  },
  {
   "cell_type": "code",
   "metadata": {
    "id": "tUx27hMBwUnc"
   },
   "source": [
    "pd.DataFrame({\n",
    "    \"silh_scores\":silh_scores,\n",
    "    \"db_scores\":db_scores,\n",
    "    \"time_spend\":time_spend\n",
    "}).to_csv('snapshots.csv')"
   ],
   "execution_count": null,
   "outputs": []
  },
  {
   "cell_type": "code",
   "metadata": {
    "id": "SnDGhRaSrZmQ"
   },
   "source": [
    "get_seq = lambda file:int(file.split('_')[0])\n",
    "\n",
    "data = zip(map(get_seq, os.listdir('snapshots')), os.listdir('snapshots'))\n",
    "sorted_files = sorted_by_second = sorted(data, key=lambda tup: tup[0])"
   ],
   "execution_count": null,
   "outputs": []
  },
  {
   "cell_type": "code",
   "metadata": {
    "colab": {
     "base_uri": "https://localhost:8080/"
    },
    "id": "zbTsvv8SkteI",
    "outputId": "eaf2a906-3bc8-481c-dd07-c9123422689d"
   },
   "source": [
    "import imageio\n",
    "import os\n",
    "images = []\n",
    "for _, filename in sorted_files:\n",
    "    print(filename)\n",
    "    \n",
    "    images.append(imageio.imread(os.path.join('snapshots', filename)))\n",
    "imageio.mimsave('movie.gif', images, fps=0.09)"
   ],
   "execution_count": null,
   "outputs": [
    {
     "output_type": "stream",
     "text": [
      "2_snapshot.png\n",
      "3_snapshot.png\n",
      "4_snapshot.png\n",
      "5_snapshot.png\n",
      "6_snapshot.png\n",
      "7_snapshot.png\n",
      "8_snapshot.png\n",
      "9_snapshot.png\n",
      "10_snapshot.png\n",
      "11_snapshot.png\n",
      "12_snapshot.png\n",
      "13_snapshot.png\n",
      "14_snapshot.png\n",
      "15_snapshot.png\n",
      "16_snapshot.png\n",
      "17_snapshot.png\n",
      "18_snapshot.png\n",
      "19_snapshot.png\n",
      "20_snapshot.png\n",
      "21_snapshot.png\n",
      "22_snapshot.png\n",
      "23_snapshot.png\n",
      "24_snapshot.png\n",
      "25_snapshot.png\n",
      "26_snapshot.png\n",
      "27_snapshot.png\n",
      "28_snapshot.png\n",
      "29_snapshot.png\n",
      "30_snapshot.png\n"
     ],
     "name": "stdout"
    }
   ]
  },
  {
   "cell_type": "code",
   "metadata": {
    "colab": {
     "base_uri": "https://localhost:8080/"
    },
    "id": "xvxVwYumv1Hd",
    "outputId": "6ccb32ea-de7c-4a10-dff6-56955ecce714"
   },
   "source": [
    "!zip -r snapshots.zip snapshots/"
   ],
   "execution_count": null,
   "outputs": [
    {
     "output_type": "stream",
     "text": [
      "  adding: snapshots/ (stored 0%)\n",
      "  adding: snapshots/9_snapshot.png (deflated 4%)\n",
      "  adding: snapshots/11_snapshot.png (deflated 4%)\n",
      "  adding: snapshots/8_snapshot.png (deflated 4%)\n",
      "  adding: snapshots/15_snapshot.png (deflated 4%)\n",
      "  adding: snapshots/2_snapshot.png (deflated 4%)\n",
      "  adding: snapshots/5_snapshot.png (deflated 4%)\n",
      "  adding: snapshots/3_snapshot.png (deflated 4%)\n",
      "  adding: snapshots/6_snapshot.png (deflated 4%)\n",
      "  adding: snapshots/13_snapshot.png (deflated 4%)\n",
      "  adding: snapshots/24_snapshot.png (deflated 4%)\n",
      "  adding: snapshots/10_snapshot.png (deflated 4%)\n",
      "  adding: snapshots/16_snapshot.png (deflated 4%)\n",
      "  adding: snapshots/14_snapshot.png (deflated 4%)\n",
      "  adding: snapshots/12_snapshot.png (deflated 4%)\n",
      "  adding: snapshots/30_snapshot.png (deflated 4%)\n",
      "  adding: snapshots/4_snapshot.png (deflated 4%)\n",
      "  adding: snapshots/20_snapshot.png (deflated 4%)\n",
      "  adding: snapshots/22_snapshot.png (deflated 4%)\n",
      "  adding: snapshots/17_snapshot.png (deflated 4%)\n",
      "  adding: snapshots/26_snapshot.png (deflated 4%)\n",
      "  adding: snapshots/23_snapshot.png (deflated 4%)\n",
      "  adding: snapshots/21_snapshot.png (deflated 4%)\n",
      "  adding: snapshots/28_snapshot.png (deflated 4%)\n",
      "  adding: snapshots/18_snapshot.png (deflated 4%)\n",
      "  adding: snapshots/25_snapshot.png (deflated 4%)\n",
      "  adding: snapshots/29_snapshot.png (deflated 4%)\n",
      "  adding: snapshots/7_snapshot.png (deflated 4%)\n",
      "  adding: snapshots/19_snapshot.png (deflated 4%)\n",
      "  adding: snapshots/27_snapshot.png (deflated 4%)\n"
     ],
     "name": "stdout"
    }
   ]
  }
 ]
}