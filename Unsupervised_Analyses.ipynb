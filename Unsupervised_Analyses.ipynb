{
 "nbformat": 4,
 "nbformat_minor": 0,
 "metadata": {
  "colab": {
   "name": "VA1RecPad.ipynb",
   "provenance": [],
   "collapsed_sections": [],
   "toc_visible": true
  },
  "kernelspec": {
   "name": "python3",
   "language": "python",
   "display_name": "Python 3"
  },
  "language_info": {}
 },
 "cells": [
  {
   "cell_type": "markdown",
   "metadata": {
    "id": "Q6bAWDYJlUHI"
   },
   "source": [
    "# 1a VERIFICAÇÃO DE APRENDIZAGEM"
   ]
  },
  {
   "cell_type": "code",
   "metadata": {
    "id": "QITUegCilNxD"
   },
   "source": [
    "import unicodedata\n",
    "import re\n",
    "import pandas as pd\n",
    "import numpy as np"
   ],
   "execution_count": 1,
   "outputs": []
  },
  {
   "cell_type": "code",
   "metadata": {
    "id": "7UYkJdeLlbde"
   },
   "source": [
    "# Converts the unicode file to ascii\n",
    "def unicode_to_ascii(s):\n",
    "    return ''.join(c for c in unicodedata.normalize('NFD', s)\n",
    "                   if unicodedata.category(c) != 'Mn')\n",
    "\n",
    "\n",
    "def preprocess_sentence(w):\n",
    "    w = w.strip().lower()\n",
    "\n",
    "    # creating a space between a word and the punctuation following it eg: \"he is a boy.\" => \"he is a boy .\"\n",
    "    # Reference:- https://stackoverflow.com/questions/3645931/python-padding-punctuation-with-white-spaces-keeping\n",
    "    # -punctuation\n",
    "    w = re.sub(r\"([?.!,¿#@0-9])\", r\"\", w)\n",
    "\n",
    "    return w"
   ],
   "execution_count": 2,
   "outputs": []
  },
  {
   "cell_type": "markdown",
   "metadata": {
    "id": "abtPkOTOv6FB"
   },
   "source": [
    "### Seleção Dos Dados\n",
    "\n",
    "No experimento realizado foi usado um conjunto de dados contento versículos extraídos da Bíblia em 27 versões diferentes cada uma em um idioma.\n",
    "São 26 idiomas indígenas e uma versão em Português (versão internacional).\n",
    "Além disso, apenas uma porção do conjunto de dados original foi utilizada. \n",
    "Isso ocorreu devido ao alto consumo de recurso computacional que inviabilizariam uma avaliação do método o proposto. \n",
    "Os algoritmos consomem um quantidade considerável de recurso computacional muitos dados impossibilitam a execução adequada dos experimentos."
   ]
  },
  {
   "cell_type": "code",
   "metadata": {
    "pycharm": {
     "name": "#%%\n"
    },
    "id": "xj1UgPA5hEeo",
    "outputId": "e5f7cb51-b46e-45b6-ffac-bcf5b8392b8f",
    "colab": {
     "base_uri": "https://localhost:8080/"
    }
   },
   "source": [
    "!wget -O target_aligned_text.csv https://raw.githubusercontent.com/Tiagoblima/bracis-2021-language/main/target_aligned_text.csv?token=AH4TM4VEPPO74NYFEDTE3PTAUL2Y6"
   ],
   "execution_count": 7,
   "outputs": [
    {
     "output_type": "stream",
     "text": [
      "--2021-05-10 23:03:52--  https://raw.githubusercontent.com/Tiagoblima/bracis-2021-language/main/target_aligned_text.csv?token=AH4TM4VEPPO74NYFEDTE3PTAUL2Y6\n",
      "Resolving raw.githubusercontent.com (raw.githubusercontent.com)... 185.199.109.133, 185.199.110.133, 185.199.111.133, ...\n",
      "Connecting to raw.githubusercontent.com (raw.githubusercontent.com)|185.199.109.133|:443... connected.\n",
      "HTTP request sent, awaiting response... 200 OK\n",
      "Length: 52305233 (50M) [text/plain]\n",
      "Saving to: ‘target_aligned_text.csv’\n",
      "\n",
      "target_aligned_text 100%[===================>]  49.88M  91.3MB/s    in 0.5s    \n",
      "\n",
      "2021-05-10 23:03:53 (91.3 MB/s) - ‘target_aligned_text.csv’ saved [52305233/52305233]\n",
      "\n"
     ],
     "name": "stdout"
    }
   ]
  },
  {
   "cell_type": "code",
   "metadata": {
    "id": "Ck7qJEsw0yv2"
   },
   "source": [
    "df = pd.read_csv('target_aligned_text.csv').dropna()\n"
   ],
   "execution_count": null,
   "outputs": []
  },
  {
   "cell_type": "code",
   "metadata": {
    "id": "O-NUOSaNlChr"
   },
   "source": [
    "languages = \"tukano,terena,urubu-kaapor,guarani,karaja,kayabi\".split(',')"
   ],
   "execution_count": 208,
   "outputs": []
  },
  {
   "cell_type": "code",
   "metadata": {
    "id": "MltHaGYxh0HB",
    "outputId": "e26669bc-ca08-4894-e878-3f7e784b4a70",
    "colab": {
     "base_uri": "https://localhost:8080/",
     "height": 419
    }
   },
   "source": [
    "\n",
    "collection = []\n",
    "for lang in df.columns[3:]:\n",
    "  for text in df.loc[:, lang].to_numpy().squeeze():\n",
    "\n",
    "    collection.append({\n",
    "        'TEXT':text,\n",
    "        'LANG':lang,\n",
    "    })\n",
    "\n",
    "samples = pd.DataFrame.from_dict(collection).sample(frac=0.01).to_csv('samples_lg.csv',\n",
    "index=False, index_label=False)\n",
    "samples = pd.read_csv('samples_lg.csv')\n",
    "samples"
   ],
   "execution_count": 275,
   "outputs": [
    {
     "output_type": "execute_result",
     "data": {
      "text/html": [
       "<div>\n",
       "<style scoped>\n",
       "    .dataframe tbody tr th:only-of-type {\n",
       "        vertical-align: middle;\n",
       "    }\n",
       "\n",
       "    .dataframe tbody tr th {\n",
       "        vertical-align: top;\n",
       "    }\n",
       "\n",
       "    .dataframe thead th {\n",
       "        text-align: right;\n",
       "    }\n",
       "</style>\n",
       "<table border=\"1\" class=\"dataframe\">\n",
       "  <thead>\n",
       "    <tr style=\"text-align: right;\">\n",
       "      <th></th>\n",
       "      <th>TEXT</th>\n",
       "      <th>LANG</th>\n",
       "    </tr>\n",
       "  </thead>\n",
       "  <tbody>\n",
       "    <tr>\n",
       "      <th>0</th>\n",
       "      <td>Nhũm pre ã Jejus amnhĩ nê kãm kapẽr anẽ. Hãmri...</td>\n",
       "      <td>apinaye</td>\n",
       "    </tr>\n",
       "    <tr>\n",
       "      <th>1</th>\n",
       "      <td>Ti noo gó kä mꞌ, baad Jesus Pꞌop Hagä Do Sahee...</td>\n",
       "      <td>nadeb</td>\n",
       "    </tr>\n",
       "    <tr>\n",
       "      <th>2</th>\n",
       "      <td>Odaa niɡ̶idiaaɡ̶idi ja imonyatibigiwaji migoti...</td>\n",
       "      <td>kadiweu</td>\n",
       "    </tr>\n",
       "    <tr>\n",
       "      <th>3</th>\n",
       "      <td>Tawamhã ĩ'rata te tinhamra zahuré, siré saihu...</td>\n",
       "      <td>xavante</td>\n",
       "    </tr>\n",
       "    <tr>\n",
       "      <th>4</th>\n",
       "      <td>Koati ákotinehiko aunáti ra xâne yara káxehiko...</td>\n",
       "      <td>terena</td>\n",
       "    </tr>\n",
       "    <tr>\n",
       "      <th>...</th>\n",
       "      <td>...</td>\n",
       "      <td>...</td>\n",
       "    </tr>\n",
       "    <tr>\n",
       "      <th>1553</th>\n",
       "      <td>Ti mꞌ taky hado kän: —Baad nado né paawä pä ta...</td>\n",
       "      <td>nadeb</td>\n",
       "    </tr>\n",
       "    <tr>\n",
       "      <th>1554</th>\n",
       "      <td>Nãm me ã abenmã anen kam Jejumã kum, —‍Kon ne....</td>\n",
       "      <td>kayapo</td>\n",
       "    </tr>\n",
       "    <tr>\n",
       "      <th>1555</th>\n",
       "      <td>Morarame mõpozakoxi toytose tahtao Rewi tonese...</td>\n",
       "      <td>apalai</td>\n",
       "    </tr>\n",
       "    <tr>\n",
       "      <th>1556</th>\n",
       "      <td>Deus ba hawa tohi zizukninaha iwaze Satanas zi...</td>\n",
       "      <td>rikbaktsa</td>\n",
       "    </tr>\n",
       "    <tr>\n",
       "      <th>1557</th>\n",
       "      <td>Cristo varani hina haria nava'isohivini hiki i...</td>\n",
       "      <td>paumari</td>\n",
       "    </tr>\n",
       "  </tbody>\n",
       "</table>\n",
       "<p>1558 rows × 2 columns</p>\n",
       "</div>"
      ],
      "text/plain": [
       "                                                   TEXT       LANG\n",
       "0     Nhũm pre ã Jejus amnhĩ nê kãm kapẽr anẽ. Hãmri...    apinaye\n",
       "1     Ti noo gó kä mꞌ, baad Jesus Pꞌop Hagä Do Sahee...      nadeb\n",
       "2     Odaa niɡ̶idiaaɡ̶idi ja imonyatibigiwaji migoti...    kadiweu\n",
       "3     Tawamhã ĩ'rata te tinhamra zahuré, siré saihu...    xavante\n",
       "4     Koati ákotinehiko aunáti ra xâne yara káxehiko...     terena\n",
       "...                                                 ...        ...\n",
       "1553  Ti mꞌ taky hado kän: —Baad nado né paawä pä ta...      nadeb\n",
       "1554  Nãm me ã abenmã anen kam Jejumã kum, —‍Kon ne....     kayapo\n",
       "1555  Morarame mõpozakoxi toytose tahtao Rewi tonese...     apalai\n",
       "1556  Deus ba hawa tohi zizukninaha iwaze Satanas zi...  rikbaktsa\n",
       "1557  Cristo varani hina haria nava'isohivini hiki i...    paumari\n",
       "\n",
       "[1558 rows x 2 columns]"
      ]
     },
     "metadata": {
      "tags": []
     },
     "execution_count": 275
    }
   ]
  },
  {
   "cell_type": "code",
   "metadata": {
    "colab": {
     "base_uri": "https://localhost:8080/"
    },
    "id": "XJP438oL0hqL",
    "outputId": "03f3de2e-b058-4785-a23b-db2f875cb099"
   },
   "source": [
    "s = samples[samples['LANG']==\"portuguese\"].sample(n=5)\n",
    "s['TEXT'].to_numpy()"
   ],
   "execution_count": 260,
   "outputs": [
    {
     "output_type": "execute_result",
     "data": {
      "text/plain": [
       "array(['pois em breve, muito em breve Aquele que vem virá, e não demorará.',\n",
       "       'ao redor do qual estavam outros vinte e quatro tronos, e assentados neles havia vinte e quatro anciãos. Eles estavam vestidos de branco e tinham na cabeça coroas de ouro.',\n",
       "       'Delas também falamos, não com palavras ensinadas pela sabedoria humana, mas com palavras ensinadas pelo Espírito, interpretando verdades espirituais para os que são espirituais. Quem não tem o Espírito não aceita as coisas que vêm do Espírito de Deus, pois lhe são loucura; e não é capaz de entendê-las, porque elas são discernidas espiritualmente. Mas quem é espiritual discerne todas as coisas, e ele mesmo por ninguém é discernido; pois',\n",
       "       'No entanto, você tem aí em Sardes uns poucos que não contaminaram as suas vestes. Eles andarão comigo, vestidos de branco, pois são dignos.',\n",
       "       'E se a sua mão direita o fizer pecar, corte-a e lance-a fora. É melhor perder uma parte do seu corpo do que ir todo ele para o inferno.'],\n",
       "      dtype=object)"
      ]
     },
     "metadata": {
      "tags": []
     },
     "execution_count": 260
    }
   ]
  },
  {
   "cell_type": "code",
   "metadata": {
    "colab": {
     "base_uri": "https://localhost:8080/",
     "height": 197
    },
    "id": "G3La1SIX6Zgf",
    "outputId": "65d3f883-5d47-4d50-f50f-26d40cdeebf3"
   },
   "source": [
    "s = s['TEXT'].apply(preprocess_sentence).to_numpy()\n",
    "s"
   ],
   "execution_count": 239,
   "outputs": [
    {
     "output_type": "error",
     "ename": "IndexError",
     "evalue": "ignored",
     "traceback": [
      "\u001B[0;31m---------------------------------------------------------------------------\u001B[0m",
      "\u001B[0;31mIndexError\u001B[0m                                Traceback (most recent call last)",
      "\u001B[0;32m<ipython-input-239-a618c101e103>\u001B[0m in \u001B[0;36m<module>\u001B[0;34m()\u001B[0m\n\u001B[0;32m----> 1\u001B[0;31m \u001B[0ms\u001B[0m \u001B[0;34m=\u001B[0m \u001B[0ms\u001B[0m\u001B[0;34m[\u001B[0m\u001B[0;34m'TEXT'\u001B[0m\u001B[0;34m]\u001B[0m\u001B[0;34m.\u001B[0m\u001B[0mapply\u001B[0m\u001B[0;34m(\u001B[0m\u001B[0mpreprocess_sentence\u001B[0m\u001B[0;34m)\u001B[0m\u001B[0;34m.\u001B[0m\u001B[0mto_numpy\u001B[0m\u001B[0;34m(\u001B[0m\u001B[0;34m)\u001B[0m\u001B[0;34m\u001B[0m\u001B[0;34m\u001B[0m\u001B[0m\n\u001B[0m\u001B[1;32m      2\u001B[0m \u001B[0ms\u001B[0m\u001B[0;34m\u001B[0m\u001B[0;34m\u001B[0m\u001B[0m\n",
      "\u001B[0;31mIndexError\u001B[0m: only integers, slices (`:`), ellipsis (`...`), numpy.newaxis (`None`) and integer or boolean arrays are valid indices"
     ]
    }
   ]
  },
  {
   "cell_type": "markdown",
   "metadata": {
    "id": "ul4pyM4JwimD"
   },
   "source": [
    "### Carregando Corpus Selecionado"
   ]
  },
  {
   "cell_type": "markdown",
   "metadata": {
    "id": "AR6iY0BTTxEA"
   },
   "source": [
    "### PRÉ-PROCESSAMENTO\n",
    "\n",
    "1. Ao menos um método de pré-processamento deve ser usado, gerando uma nova base de\n",
    "dados.\n",
    "2. O tipo de pré-processamento utilizado deve estar relacionado ao contexto da aplicação, de\n",
    "acordo com a modelagem do problema indicada na resolução da Atividade 4 (ML-L04).\n",
    "3. Remoção de vírgulas, espaços em branco, identificador dos padrões, etc. não serão\n",
    "considerados pré-processamento válidos."
   ]
  },
  {
   "cell_type": "code",
   "metadata": {
    "id": "a039pXFxmsXW"
   },
   "source": [
    "samples = pd.read_csv('datasets/samples.csv')\n",
    "classes = set(samples[\"LANG\"].tolist())"
   ],
   "execution_count": 3,
   "outputs": []
  },
  {
   "cell_type": "code",
   "metadata": {
    "colab": {
     "base_uri": "https://localhost:8080/",
     "height": 886
    },
    "id": "6TJet3K4qj1O",
    "outputId": "dedd1285-9c7c-4167-df33-c30ba2e14590"
   },
   "source": [
    "from collections import Counter\n",
    "X = samples['TEXT'].apply(preprocess_sentence).to_numpy()\n",
    "y = samples['LANG'].to_numpy()\n",
    "N_CLUSTER = 15\n",
    "metadata = pd.DataFrame.from_dict(Counter(y), orient='index')\n",
    "metadata"
   ],
   "execution_count": 4,
   "outputs": [
    {
     "data": {
      "text/plain": "                0\napalai        100\napinaye       100\napurina       100\nbakairi       100\nguajajara     100\nguarani       100\nkadiweu       100\nkagwahiva     100\nkaigang       100\nkaiwa         100\nkaraja        100\nkayabi        100\nkayapo        100\nmacushi       100\nmaxakali      100\nmunduruku     100\nnadeb         100\nnambikuara    100\nportuguese    100\nparecis       100\npaumari       100\nrikbaktsa     100\nsatere-mawe   100\nterena        100\ntukano        100\nurubu-kaapor  100\nxavante       100",
      "text/html": "<div>\n<style scoped>\n    .dataframe tbody tr th:only-of-type {\n        vertical-align: middle;\n    }\n\n    .dataframe tbody tr th {\n        vertical-align: top;\n    }\n\n    .dataframe thead th {\n        text-align: right;\n    }\n</style>\n<table border=\"1\" class=\"dataframe\">\n  <thead>\n    <tr style=\"text-align: right;\">\n      <th></th>\n      <th>0</th>\n    </tr>\n  </thead>\n  <tbody>\n    <tr>\n      <th>apalai</th>\n      <td>100</td>\n    </tr>\n    <tr>\n      <th>apinaye</th>\n      <td>100</td>\n    </tr>\n    <tr>\n      <th>apurina</th>\n      <td>100</td>\n    </tr>\n    <tr>\n      <th>bakairi</th>\n      <td>100</td>\n    </tr>\n    <tr>\n      <th>guajajara</th>\n      <td>100</td>\n    </tr>\n    <tr>\n      <th>guarani</th>\n      <td>100</td>\n    </tr>\n    <tr>\n      <th>kadiweu</th>\n      <td>100</td>\n    </tr>\n    <tr>\n      <th>kagwahiva</th>\n      <td>100</td>\n    </tr>\n    <tr>\n      <th>kaigang</th>\n      <td>100</td>\n    </tr>\n    <tr>\n      <th>kaiwa</th>\n      <td>100</td>\n    </tr>\n    <tr>\n      <th>karaja</th>\n      <td>100</td>\n    </tr>\n    <tr>\n      <th>kayabi</th>\n      <td>100</td>\n    </tr>\n    <tr>\n      <th>kayapo</th>\n      <td>100</td>\n    </tr>\n    <tr>\n      <th>macushi</th>\n      <td>100</td>\n    </tr>\n    <tr>\n      <th>maxakali</th>\n      <td>100</td>\n    </tr>\n    <tr>\n      <th>munduruku</th>\n      <td>100</td>\n    </tr>\n    <tr>\n      <th>nadeb</th>\n      <td>100</td>\n    </tr>\n    <tr>\n      <th>nambikuara</th>\n      <td>100</td>\n    </tr>\n    <tr>\n      <th>portuguese</th>\n      <td>100</td>\n    </tr>\n    <tr>\n      <th>parecis</th>\n      <td>100</td>\n    </tr>\n    <tr>\n      <th>paumari</th>\n      <td>100</td>\n    </tr>\n    <tr>\n      <th>rikbaktsa</th>\n      <td>100</td>\n    </tr>\n    <tr>\n      <th>satere-mawe</th>\n      <td>100</td>\n    </tr>\n    <tr>\n      <th>terena</th>\n      <td>100</td>\n    </tr>\n    <tr>\n      <th>tukano</th>\n      <td>100</td>\n    </tr>\n    <tr>\n      <th>urubu-kaapor</th>\n      <td>100</td>\n    </tr>\n    <tr>\n      <th>xavante</th>\n      <td>100</td>\n    </tr>\n  </tbody>\n</table>\n</div>"
     },
     "execution_count": 4,
     "metadata": {},
     "output_type": "execute_result"
    }
   ]
  },
  {
   "cell_type": "markdown",
   "metadata": {
    "id": "DMSrEiQrad2M"
   },
   "source": [
    "#### Método\n",
    "\n",
    "O pré-processamento transforma cada documento em um formato que posso ser utilizado no cluster. A primeira fase do processamento consiste em transforma cada cluster em um vetor com M-dimensões. \n",
    "Nesse vetor, cada elemento é o vetor que representa uma única palavra que também é um vetor.\n",
    "Para fazer isso é possível utilizar o *Term Frequency and Inverse Term Frequency*.\n",
    "\n",
    "\n"
   ]
  },
  {
   "cell_type": "markdown",
   "metadata": {
    "id": "Sumo5CGx4mz8"
   },
   "source": [
    "#### TF-IDF Weighing"
   ]
  },
  {
   "cell_type": "code",
   "metadata": {
    "colab": {
     "base_uri": "https://localhost:8080/"
    },
    "id": "nHw9SUszyLCt",
    "outputId": "03aab5eb-a452-45c9-c289-948ba8c6525a"
   },
   "source": [
    "from sklearn.feature_extraction.text import TfidfVectorizer\n",
    "from sklearn.feature_extraction.text import CountVectorizer\n",
    "\n",
    "\n",
    "tfidf_word = TfidfVectorizer(analyzer='word', ngram_range=(2, 3))\n",
    "X_word_transformed = tfidf_word.fit_transform(X)\n",
    "\n",
    "tfidf_char = TfidfVectorizer(analyzer='char', ngram_range=(2, 3))\n",
    "X_char_transformed = tfidf_char.fit_transform(X)\n",
    "X_char_transformed.shape"
   ],
   "execution_count": 5,
   "outputs": [
    {
     "data": {
      "text/plain": "(2700, 191941)"
     },
     "execution_count": 5,
     "metadata": {},
     "output_type": "execute_result"
    }
   ]
  },
  {
   "cell_type": "markdown",
   "metadata": {
    "id": "hI0RbTkcU9s-"
   },
   "source": [
    "### Avaliação do Algoritmo"
   ]
  },
  {
   "cell_type": "markdown",
   "metadata": {
    "id": "g_QScV8Qaxsm"
   },
   "source": [
    "### Métricas \n",
    "\n",
    "#### Davies-Bouldin score\n",
    "\n",
    "É uma métrica que avaliação da média de similaridade um cluster com outro mais similar. \n",
    "Ela considera as distâncias dentro de cada cluster e entre cada um dos clusteres. Valores menores indicam clusters melhores.\n",
    "\n",
    "\n",
    "\n",
    "#### Silhouette Coefficient of all samples\n",
    "\n",
    "Essa métrica considera a distância entre cada exemplo dentro de cada cluster e entre o cluster mais próximo. O melhor valor é 1, 0 significa a existência de overlaps e -1 significa o pior resultado possível. \n",
    "\n",
    "*Referências:* \n",
    "\n",
    "[1. A Cluster Separation Measure](https://ieeexplore.ieee.org/document/4766909)\n",
    "\n",
    "[2. Silhouettes: A graphical aid to the interpretation and validation of \n",
    "cluster analysis](https://www.sciencedirect.com/science/article/pii/0377042787901257)\n",
    "\n",
    "[3. A Dendrite Method for Cluster Analysis\n",
    "](https://www.researchgate.net/publication/233096619_A_Dendrite_Method_for_Cluster_Analysis)"
   ]
  },
  {
   "cell_type": "markdown",
   "metadata": {
    "id": "7YhKgNYlG1nC"
   },
   "source": [
    "## K-Means \n",
    "\n",
    "\n",
    "*Referência:* [Opinion classification using Maximum Entropy and K-Means Clustering](https://ieeexplore.ieee.org/abstract/document/7910292?casa_token=QAbNYBdCmAoAAAAA:xA-elSpmLadbWey9C2yAhyHzH2FO4fRA9S1ys0Y49b16Fx00jcuhhXUx9bNaK_oAyyighNFuGA)\n",
    "\n"
   ]
  },
  {
   "cell_type": "code",
   "metadata": {
    "id": "gcr47o_Rm2rz"
   },
   "source": [
    "from sklearn.cluster import KMeans\n",
    "from sklearn.metrics import silhouette_score\n",
    "from sklearn.metrics import davies_bouldin_score"
   ],
   "execution_count": 6,
   "outputs": []
  },
  {
   "cell_type": "code",
   "metadata": {
    "colab": {
     "base_uri": "https://localhost:8080/"
    },
    "id": "zRNwFjlki9Nm",
    "outputId": "220e9841-54ed-454d-8947-2ef9e2663291"
   },
   "source": [
    "kmeans = KMeans(n_clusters=N_CLUSTER, random_state=42).fit(X_word_transformed)\n",
    "pred = kmeans.predict(X_word_transformed)\n",
    "\n",
    "\n",
    "silhouette = silhouette_score(X_word_transformed.toarray(), pred)\n",
    "\n",
    "davies_boul = davies_bouldin_score(X_word_transformed.toarray(), pred)\n",
    "\n",
    "print(\"silhouette_score: \", silhouette)\n",
    "print(\"davies_boul: \", davies_boul)"
   ],
   "execution_count": 8,
   "outputs": [
    {
     "name": "stdout",
     "output_type": "stream",
     "text": [
      "silhouette_score:  0.00558810495651595\n",
      "davies_boul:  13.331918493629384\n"
     ]
    }
   ]
  },
  {
   "cell_type": "code",
   "metadata": {
    "id": "gTQjZFAncJIO"
   },
   "source": [
    "from tqdm import tqdm\n",
    "silh_scores = []\n",
    "db_scores = []\n",
    "evaluation_data = []\n",
    "test_range = list(range(2, 31))\n",
    "for n_ in tqdm(test_range):\n",
    "  kmeans_word = KMeans(n_clusters=n_, random_state=42).fit(X_word_transformed)\n",
    "  kmeans_char = KMeans(n_clusters=n_, random_state=42).fit(X_char_transformed)\n",
    "  silh_score = silhouette_score(X_word_transformed.toarray(), kmeans.labels_)\n",
    "  davies_boul = davies_bouldin_score(X_word_transformed.toarray(), kmeans.labels_)\n",
    "\n",
    "  silh_scores.append(silh_score)\n",
    "  db_scores.append(davies_boul)"
   ],
   "execution_count": 9,
   "outputs": [
    {
     "name": "stderr",
     "output_type": "stream",
     "text": [
      "100%|██████████| 29/29 [29:36<00:00, 61.27s/it]\n"
     ]
    }
   ]
  },
  {
   "cell_type": "code",
   "metadata": {
    "colab": {
     "base_uri": "https://localhost:8080/",
     "height": 204
    },
    "id": "ajQlSiPZzb1k",
    "outputId": "600bb691-0b86-4799-dcde-0889524f181f"
   },
   "source": [
    "evaluation_data = pd.DataFrame({\n",
    "    \"n_clusters\":test_range+test_range,\n",
    "    \"scores\":silh_scores+db_scores,\n",
    "    \"metric\": [\"silhouette_score\"]*len(test_range)+[\"davies_boul\"]*len(test_range),\n",
    "})\n",
    "evaluation_data.sample(n=5)"
   ],
   "execution_count": 10,
   "outputs": [
    {
     "data": {
      "text/plain": "    n_clusters    scores            metric\n41          14  9.766893       davies_boul\n13          15  0.005588  silhouette_score\n17          19  0.005619  silhouette_score\n8           10  0.002895  silhouette_score\n46          19  9.850066       davies_boul",
      "text/html": "<div>\n<style scoped>\n    .dataframe tbody tr th:only-of-type {\n        vertical-align: middle;\n    }\n\n    .dataframe tbody tr th {\n        vertical-align: top;\n    }\n\n    .dataframe thead th {\n        text-align: right;\n    }\n</style>\n<table border=\"1\" class=\"dataframe\">\n  <thead>\n    <tr style=\"text-align: right;\">\n      <th></th>\n      <th>n_clusters</th>\n      <th>scores</th>\n      <th>metric</th>\n    </tr>\n  </thead>\n  <tbody>\n    <tr>\n      <th>41</th>\n      <td>14</td>\n      <td>9.766893</td>\n      <td>davies_boul</td>\n    </tr>\n    <tr>\n      <th>13</th>\n      <td>15</td>\n      <td>0.005588</td>\n      <td>silhouette_score</td>\n    </tr>\n    <tr>\n      <th>17</th>\n      <td>19</td>\n      <td>0.005619</td>\n      <td>silhouette_score</td>\n    </tr>\n    <tr>\n      <th>8</th>\n      <td>10</td>\n      <td>0.002895</td>\n      <td>silhouette_score</td>\n    </tr>\n    <tr>\n      <th>46</th>\n      <td>19</td>\n      <td>9.850066</td>\n      <td>davies_boul</td>\n    </tr>\n  </tbody>\n</table>\n</div>"
     },
     "execution_count": 10,
     "metadata": {},
     "output_type": "execute_result"
    }
   ]
  },
  {
   "cell_type": "code",
   "metadata": {
    "colab": {
     "base_uri": "https://localhost:8080/",
     "height": 550
    },
    "id": "mVa2iIF3yykE",
    "outputId": "27c74405-7ff1-4308-f5ee-63490aad8d8a"
   },
   "source": [
    "import seaborn as sns\n",
    "sns.set_theme(style=\"darkgrid\")\n",
    "g = sns.lineplot(x=\"n_clusters\", y=\"scores\", hue=\"metric\", \n",
    "             data=evaluation_data)\n",
    "g.set_title('Evolução dos Modelos')"
   ],
   "execution_count": 268,
   "outputs": [
    {
     "output_type": "execute_result",
     "data": {
      "text/plain": [
       "Text(0.5, 1.0, 'Evolução dos Modelos')"
      ]
     },
     "metadata": {
      "tags": []
     },
     "execution_count": 268
    },
    {
     "output_type": "display_data",
     "data": {
      "image/png": "[encoded data removed]",
      "text/plain": [
       "<Figure size 842.4x595.44 with 1 Axes>"
      ]
     },
     "metadata": {
      "tags": []
     }
    }
   ]
  },
  {
   "cell_type": "markdown",
   "metadata": {
    "id": "qO8-Vnhb4pMH"
   },
   "source": [
    "### Análise Usando TSNE\n",
    "\n",
    "Em análise preliminar, pode-se ver na figura a disposição dos idiomas em uma projeção 2D. \n",
    "Foi utilizado *t-distributed Stochastic Neighbor Embedding* (TSNE) para a redução da dimensionalidade e uma visualização dos dados.\n",
    "Essa é uma forma bastante popular para visualização de dados em alta-dimensionalidade.\n",
    "Nessa técnica os objetos são distribuídos de tal forma que pares semelhantes tem uma alta probabilidade na distribuição.\n",
    "O modelo é treinado para minimizar a divergência em Kullback-Leibler *van2014accelerating*.\n",
    "Após a redução da dimensionalidade das originais 18095 para apenas duas,  os dados foram postos em uma escala entre 0 e 1."
   ]
  },
  {
   "cell_type": "code",
   "metadata": {
    "colab": {
     "base_uri": "https://localhost:8080/"
    },
    "id": "t1UuthYo4sNo",
    "outputId": "706eb1ff-971e-40cd-87d0-21c6dd3ac9cc"
   },
   "source": [
    "from sklearn.manifold import TSNE\n",
    "from sklearn.decomposition import PCA\n",
    "X_embedded = TSNE(n_components=2).fit_transform(X_transformed.toarray())\n",
    "X_embedded.shape"
   ],
   "execution_count": 269,
   "outputs": [
    {
     "output_type": "execute_result",
     "data": {
      "text/plain": [
       "(156, 2)"
      ]
     },
     "metadata": {
      "tags": []
     },
     "execution_count": 269
    }
   ]
  },
  {
   "cell_type": "code",
   "metadata": {
    "colab": {
     "base_uri": "https://localhost:8080/"
    },
    "id": "fBuuLb3W68W1",
    "outputId": "220c5ae2-7887-45f3-c640-22e639092ba2"
   },
   "source": [
    "kmeans_2d = KMeans(n_clusters=N_CLUSTER, random_state=42).fit(X_embedded)\n",
    "pred = kmeans_2d.predict(X_embedded)\n",
    "\n",
    "cluster_c = kmeans_2d.cluster_centers_\n",
    "\n",
    "silhouette = silhouette_score(X_embedded, kmeans.labels_)\n",
    "\n",
    "davies_boul = davies_bouldin_score(X_embedded, kmeans.labels_)\n",
    "\n",
    "print(\"silhouette_score: \", silhouette)\n",
    "print(\"davies_boul: \", davies_boul)\n",
    "\n",
    "clusters_ = pd.DataFrame(X_embedded, columns=['D1', 'D2'])\n",
    "clusters_['knn_cluster'] = pred\n",
    "clusters_['true_labels'] = y\n",
    "clusters_.to_csv('clusters.csv')"
   ],
   "execution_count": 270,
   "outputs": [
    {
     "output_type": "stream",
     "text": [
      "silhouette_score:  0.5482367\n",
      "davies_boul:  0.9307697893884602\n"
     ],
     "name": "stdout"
    }
   ]
  },
  {
   "cell_type": "code",
   "metadata": {
    "id": "Av6plpuIXqtL"
   },
   "source": [
    "to_label = lambda cluster_id: \"cluster_\"+str(cluster_id)"
   ],
   "execution_count": 229,
   "outputs": []
  },
  {
   "cell_type": "markdown",
   "metadata": {
    "id": "-nhp0HFvnjil"
   },
   "source": [
    "### Membros de cada Cluster\n",
    "\n",
    "Aqui podemos visualizar quais idiomas estão em cada um dos clusters formados."
   ]
  },
  {
   "cell_type": "code",
   "metadata": {
    "colab": {
     "base_uri": "https://localhost:8080/",
     "height": 886
    },
    "id": "PhuJnRo8SrKX",
    "outputId": "99988db1-5e46-42d5-ffa0-d8f211210168"
   },
   "source": [
    "cluster_mem = {}\n",
    "for cluster in range(len(classes)):\n",
    "  members = clusters_.loc[clusters_['knn_cluster']==cluster, 'true_labels'].unique()\n",
    "  cluster_mem[cluster] = members\n",
    "df_cluster_mem = pd.DataFrame.from_dict(cluster_mem, orient='index')\n",
    "\n",
    "df_cluster_mem.to_csv(\"clusters_members.csv\")\n",
    "df_cluster_mem"
   ],
   "execution_count": 271,
   "outputs": [
    {
     "output_type": "execute_result",
     "data": {
      "text/html": [
       "<div>\n",
       "<style scoped>\n",
       "    .dataframe tbody tr th:only-of-type {\n",
       "        vertical-align: middle;\n",
       "    }\n",
       "\n",
       "    .dataframe tbody tr th {\n",
       "        vertical-align: top;\n",
       "    }\n",
       "\n",
       "    .dataframe thead th {\n",
       "        text-align: right;\n",
       "    }\n",
       "</style>\n",
       "<table border=\"1\" class=\"dataframe\">\n",
       "  <thead>\n",
       "    <tr style=\"text-align: right;\">\n",
       "      <th></th>\n",
       "      <th>0</th>\n",
       "      <th>1</th>\n",
       "    </tr>\n",
       "  </thead>\n",
       "  <tbody>\n",
       "    <tr>\n",
       "      <th>0</th>\n",
       "      <td>kaiwa</td>\n",
       "      <td>guarani</td>\n",
       "    </tr>\n",
       "    <tr>\n",
       "      <th>1</th>\n",
       "      <td>rikbaktsa</td>\n",
       "      <td>None</td>\n",
       "    </tr>\n",
       "    <tr>\n",
       "      <th>2</th>\n",
       "      <td>terena</td>\n",
       "      <td>None</td>\n",
       "    </tr>\n",
       "    <tr>\n",
       "      <th>3</th>\n",
       "      <td>maxakali</td>\n",
       "      <td>None</td>\n",
       "    </tr>\n",
       "    <tr>\n",
       "      <th>4</th>\n",
       "      <td>urubu-kaapor</td>\n",
       "      <td>None</td>\n",
       "    </tr>\n",
       "    <tr>\n",
       "      <th>5</th>\n",
       "      <td>apurina</td>\n",
       "      <td>None</td>\n",
       "    </tr>\n",
       "    <tr>\n",
       "      <th>6</th>\n",
       "      <td>kaigang</td>\n",
       "      <td>None</td>\n",
       "    </tr>\n",
       "    <tr>\n",
       "      <th>7</th>\n",
       "      <td>parecis</td>\n",
       "      <td>None</td>\n",
       "    </tr>\n",
       "    <tr>\n",
       "      <th>8</th>\n",
       "      <td>kayapo</td>\n",
       "      <td>None</td>\n",
       "    </tr>\n",
       "    <tr>\n",
       "      <th>9</th>\n",
       "      <td>portuguese</td>\n",
       "      <td>None</td>\n",
       "    </tr>\n",
       "    <tr>\n",
       "      <th>10</th>\n",
       "      <td>nadeb</td>\n",
       "      <td>None</td>\n",
       "    </tr>\n",
       "    <tr>\n",
       "      <th>11</th>\n",
       "      <td>nambikuara</td>\n",
       "      <td>None</td>\n",
       "    </tr>\n",
       "    <tr>\n",
       "      <th>12</th>\n",
       "      <td>karaja</td>\n",
       "      <td>None</td>\n",
       "    </tr>\n",
       "    <tr>\n",
       "      <th>13</th>\n",
       "      <td>tukano</td>\n",
       "      <td>None</td>\n",
       "    </tr>\n",
       "    <tr>\n",
       "      <th>14</th>\n",
       "      <td>xavante</td>\n",
       "      <td>None</td>\n",
       "    </tr>\n",
       "    <tr>\n",
       "      <th>15</th>\n",
       "      <td>satere-mawe</td>\n",
       "      <td>None</td>\n",
       "    </tr>\n",
       "    <tr>\n",
       "      <th>16</th>\n",
       "      <td>kayabi</td>\n",
       "      <td>None</td>\n",
       "    </tr>\n",
       "    <tr>\n",
       "      <th>17</th>\n",
       "      <td>kadiweu</td>\n",
       "      <td>None</td>\n",
       "    </tr>\n",
       "    <tr>\n",
       "      <th>18</th>\n",
       "      <td>macushi</td>\n",
       "      <td>None</td>\n",
       "    </tr>\n",
       "    <tr>\n",
       "      <th>19</th>\n",
       "      <td>munduruku</td>\n",
       "      <td>None</td>\n",
       "    </tr>\n",
       "    <tr>\n",
       "      <th>20</th>\n",
       "      <td>kagwahiva</td>\n",
       "      <td>None</td>\n",
       "    </tr>\n",
       "    <tr>\n",
       "      <th>21</th>\n",
       "      <td>guajajara</td>\n",
       "      <td>None</td>\n",
       "    </tr>\n",
       "    <tr>\n",
       "      <th>22</th>\n",
       "      <td>bakairi</td>\n",
       "      <td>None</td>\n",
       "    </tr>\n",
       "    <tr>\n",
       "      <th>23</th>\n",
       "      <td>paumari</td>\n",
       "      <td>None</td>\n",
       "    </tr>\n",
       "    <tr>\n",
       "      <th>24</th>\n",
       "      <td>apalai</td>\n",
       "      <td>None</td>\n",
       "    </tr>\n",
       "    <tr>\n",
       "      <th>25</th>\n",
       "      <td>guajajara</td>\n",
       "      <td>None</td>\n",
       "    </tr>\n",
       "    <tr>\n",
       "      <th>26</th>\n",
       "      <td>apinaye</td>\n",
       "      <td>None</td>\n",
       "    </tr>\n",
       "  </tbody>\n",
       "</table>\n",
       "</div>"
      ],
      "text/plain": [
       "               0        1\n",
       "0          kaiwa  guarani\n",
       "1      rikbaktsa     None\n",
       "2         terena     None\n",
       "3       maxakali     None\n",
       "4   urubu-kaapor     None\n",
       "5        apurina     None\n",
       "6        kaigang     None\n",
       "7        parecis     None\n",
       "8         kayapo     None\n",
       "9     portuguese     None\n",
       "10         nadeb     None\n",
       "11    nambikuara     None\n",
       "12        karaja     None\n",
       "13        tukano     None\n",
       "14       xavante     None\n",
       "15   satere-mawe     None\n",
       "16        kayabi     None\n",
       "17       kadiweu     None\n",
       "18       macushi     None\n",
       "19     munduruku     None\n",
       "20     kagwahiva     None\n",
       "21     guajajara     None\n",
       "22       bakairi     None\n",
       "23       paumari     None\n",
       "24        apalai     None\n",
       "25     guajajara     None\n",
       "26       apinaye     None"
      ]
     },
     "metadata": {
      "tags": []
     },
     "execution_count": 271
    }
   ]
  },
  {
   "cell_type": "markdown",
   "metadata": {
    "id": "g2iVtVIxnPAS"
   },
   "source": [
    "### Majority Wins\n",
    "\n",
    "Para obtermos um mapeamento, consideramos que a classe que mais aparece em cada cluster é a classe daquele cluster em específico."
   ]
  },
  {
   "cell_type": "code",
   "metadata": {
    "colab": {
     "base_uri": "https://localhost:8080/",
     "height": 886
    },
    "id": "C-F8kKp2d0OJ",
    "outputId": "9699e53f-6454-446c-a06b-1a096bc17054"
   },
   "source": [
    "prediction = {}\n",
    "for cluster in clusters_['knn_cluster'].tolist():\n",
    "  members = clusters_.loc[clusters_['knn_cluster']==cluster, 'true_labels'].tolist()\n",
    "  prediction[cluster] = Counter(members).most_common(1)[0][0]\n",
    "prediction = pd.DataFrame.from_dict(prediction, orient='index')\n",
    "prediction.columns = [\"predicted\"]\n",
    "prediction[\"center_d1\"] = kmeans_2d.cluster_centers_[:,0]\n",
    "prediction[\"center_d2\"] = kmeans_2d.cluster_centers_[:,1]\n",
    "prediction.to_csv(\"clusters_members.csv\")\n",
    "prediction"
   ],
   "execution_count": 272,
   "outputs": [
    {
     "output_type": "execute_result",
     "data": {
      "text/html": [
       "<div>\n",
       "<style scoped>\n",
       "    .dataframe tbody tr th:only-of-type {\n",
       "        vertical-align: middle;\n",
       "    }\n",
       "\n",
       "    .dataframe tbody tr th {\n",
       "        vertical-align: top;\n",
       "    }\n",
       "\n",
       "    .dataframe thead th {\n",
       "        text-align: right;\n",
       "    }\n",
       "</style>\n",
       "<table border=\"1\" class=\"dataframe\">\n",
       "  <thead>\n",
       "    <tr style=\"text-align: right;\">\n",
       "      <th></th>\n",
       "      <th>predicted</th>\n",
       "      <th>center_d1</th>\n",
       "      <th>center_d2</th>\n",
       "    </tr>\n",
       "  </thead>\n",
       "  <tbody>\n",
       "    <tr>\n",
       "      <th>6</th>\n",
       "      <td>kaigang</td>\n",
       "      <td>-3.479715</td>\n",
       "      <td>-8.598013</td>\n",
       "    </tr>\n",
       "    <tr>\n",
       "      <th>16</th>\n",
       "      <td>kayabi</td>\n",
       "      <td>-0.834091</td>\n",
       "      <td>3.134130</td>\n",
       "    </tr>\n",
       "    <tr>\n",
       "      <th>2</th>\n",
       "      <td>terena</td>\n",
       "      <td>6.667710</td>\n",
       "      <td>-10.556997</td>\n",
       "    </tr>\n",
       "    <tr>\n",
       "      <th>19</th>\n",
       "      <td>munduruku</td>\n",
       "      <td>12.704141</td>\n",
       "      <td>-1.028593</td>\n",
       "    </tr>\n",
       "    <tr>\n",
       "      <th>25</th>\n",
       "      <td>guajajara</td>\n",
       "      <td>-13.821892</td>\n",
       "      <td>-1.280366</td>\n",
       "    </tr>\n",
       "    <tr>\n",
       "      <th>13</th>\n",
       "      <td>tukano</td>\n",
       "      <td>-3.772603</td>\n",
       "      <td>1.382473</td>\n",
       "    </tr>\n",
       "    <tr>\n",
       "      <th>9</th>\n",
       "      <td>portuguese</td>\n",
       "      <td>9.739220</td>\n",
       "      <td>5.543198</td>\n",
       "    </tr>\n",
       "    <tr>\n",
       "      <th>12</th>\n",
       "      <td>karaja</td>\n",
       "      <td>3.286663</td>\n",
       "      <td>-3.050412</td>\n",
       "    </tr>\n",
       "    <tr>\n",
       "      <th>10</th>\n",
       "      <td>nadeb</td>\n",
       "      <td>-8.630351</td>\n",
       "      <td>-6.748085</td>\n",
       "    </tr>\n",
       "    <tr>\n",
       "      <th>4</th>\n",
       "      <td>urubu-kaapor</td>\n",
       "      <td>-11.008410</td>\n",
       "      <td>2.710675</td>\n",
       "    </tr>\n",
       "    <tr>\n",
       "      <th>0</th>\n",
       "      <td>kaiwa</td>\n",
       "      <td>3.282595</td>\n",
       "      <td>7.873318</td>\n",
       "    </tr>\n",
       "    <tr>\n",
       "      <th>5</th>\n",
       "      <td>apurina</td>\n",
       "      <td>-11.558471</td>\n",
       "      <td>-12.846483</td>\n",
       "    </tr>\n",
       "    <tr>\n",
       "      <th>8</th>\n",
       "      <td>kayapo</td>\n",
       "      <td>3.709082</td>\n",
       "      <td>1.822683</td>\n",
       "    </tr>\n",
       "    <tr>\n",
       "      <th>11</th>\n",
       "      <td>nambikuara</td>\n",
       "      <td>-2.690169</td>\n",
       "      <td>10.471737</td>\n",
       "    </tr>\n",
       "    <tr>\n",
       "      <th>1</th>\n",
       "      <td>rikbaktsa</td>\n",
       "      <td>-0.671365</td>\n",
       "      <td>-1.326520</td>\n",
       "    </tr>\n",
       "    <tr>\n",
       "      <th>18</th>\n",
       "      <td>macushi</td>\n",
       "      <td>1.380941</td>\n",
       "      <td>-6.607734</td>\n",
       "    </tr>\n",
       "    <tr>\n",
       "      <th>15</th>\n",
       "      <td>satere-mawe</td>\n",
       "      <td>-3.952885</td>\n",
       "      <td>-13.663433</td>\n",
       "    </tr>\n",
       "    <tr>\n",
       "      <th>23</th>\n",
       "      <td>paumari</td>\n",
       "      <td>-7.989898</td>\n",
       "      <td>6.011240</td>\n",
       "    </tr>\n",
       "    <tr>\n",
       "      <th>22</th>\n",
       "      <td>bakairi</td>\n",
       "      <td>11.577342</td>\n",
       "      <td>-7.645330</td>\n",
       "    </tr>\n",
       "    <tr>\n",
       "      <th>17</th>\n",
       "      <td>kadiweu</td>\n",
       "      <td>7.598238</td>\n",
       "      <td>-2.362213</td>\n",
       "    </tr>\n",
       "    <tr>\n",
       "      <th>21</th>\n",
       "      <td>guajajara</td>\n",
       "      <td>-3.508744</td>\n",
       "      <td>-4.617480</td>\n",
       "    </tr>\n",
       "    <tr>\n",
       "      <th>14</th>\n",
       "      <td>xavante</td>\n",
       "      <td>1.089126</td>\n",
       "      <td>-11.665926</td>\n",
       "    </tr>\n",
       "    <tr>\n",
       "      <th>24</th>\n",
       "      <td>apalai</td>\n",
       "      <td>-3.808725</td>\n",
       "      <td>5.753045</td>\n",
       "    </tr>\n",
       "    <tr>\n",
       "      <th>20</th>\n",
       "      <td>kagwahiva</td>\n",
       "      <td>-6.112945</td>\n",
       "      <td>0.087666</td>\n",
       "    </tr>\n",
       "    <tr>\n",
       "      <th>3</th>\n",
       "      <td>maxakali</td>\n",
       "      <td>5.485016</td>\n",
       "      <td>-5.936467</td>\n",
       "    </tr>\n",
       "    <tr>\n",
       "      <th>7</th>\n",
       "      <td>parecis</td>\n",
       "      <td>-0.129311</td>\n",
       "      <td>-10.603830</td>\n",
       "    </tr>\n",
       "    <tr>\n",
       "      <th>26</th>\n",
       "      <td>apinaye</td>\n",
       "      <td>-9.208005</td>\n",
       "      <td>-4.044169</td>\n",
       "    </tr>\n",
       "  </tbody>\n",
       "</table>\n",
       "</div>"
      ],
      "text/plain": [
       "       predicted  center_d1  center_d2\n",
       "6        kaigang  -3.479715  -8.598013\n",
       "16        kayabi  -0.834091   3.134130\n",
       "2         terena   6.667710 -10.556997\n",
       "19     munduruku  12.704141  -1.028593\n",
       "25     guajajara -13.821892  -1.280366\n",
       "13        tukano  -3.772603   1.382473\n",
       "9     portuguese   9.739220   5.543198\n",
       "12        karaja   3.286663  -3.050412\n",
       "10         nadeb  -8.630351  -6.748085\n",
       "4   urubu-kaapor -11.008410   2.710675\n",
       "0          kaiwa   3.282595   7.873318\n",
       "5        apurina -11.558471 -12.846483\n",
       "8         kayapo   3.709082   1.822683\n",
       "11    nambikuara  -2.690169  10.471737\n",
       "1      rikbaktsa  -0.671365  -1.326520\n",
       "18       macushi   1.380941  -6.607734\n",
       "15   satere-mawe  -3.952885 -13.663433\n",
       "23       paumari  -7.989898   6.011240\n",
       "22       bakairi  11.577342  -7.645330\n",
       "17       kadiweu   7.598238  -2.362213\n",
       "21     guajajara  -3.508744  -4.617480\n",
       "14       xavante   1.089126 -11.665926\n",
       "24        apalai  -3.808725   5.753045\n",
       "20     kagwahiva  -6.112945   0.087666\n",
       "3       maxakali   5.485016  -5.936467\n",
       "7        parecis  -0.129311 -10.603830\n",
       "26       apinaye  -9.208005  -4.044169"
      ]
     },
     "metadata": {
      "tags": []
     },
     "execution_count": 272
    }
   ]
  },
  {
   "cell_type": "markdown",
   "metadata": {
    "id": "G1l1axLqnx4e"
   },
   "source": [
    "### Visualização\n",
    "\n"
   ]
  },
  {
   "cell_type": "markdown",
   "metadata": {
    "id": "Fdp_ICnCwKmQ"
   },
   "source": [
    "### Cluster Centers\n",
    "\n",
    "Dessa forma simples podemos visualizar aqui o centro de cada um dos clusters formados."
   ]
  },
  {
   "cell_type": "markdown",
   "metadata": {
    "id": "rRhR5JG6tKKf"
   },
   "source": [
    "Language\tDialetecs\tFamily \n",
    "\n",
    "Tukano\t-\tTukano\n",
    "\n",
    "Terena\t-\tAruaká\n",
    "\n",
    "Urubu-Kaapór\t-\tTupí-Guaraní \n",
    "\n",
    "Guaraní \tMbyá,Kaiowá,Nhandéva\tTupí-Guaraní \n",
    "\n",
    "Karajá\tJavaé, Karajá,Xambioá\tKarajá\n",
    "\n",
    "Kayabí\t-\tTupí-Guaraní"
   ]
  },
  {
   "cell_type": "code",
   "metadata": {
    "colab": {
     "base_uri": "https://localhost:8080/",
     "height": 385
    },
    "id": "YYNzbNlwpM-M",
    "outputId": "96f36b16-2c07-47ac-8c75-0ccb816f6164"
   },
   "source": [
    "import seaborn as sns\n",
    "\n",
    "sns.set_theme(style=\"darkgrid\")\n",
    "sns.set(rc={'figure.figsize':(5.,3)})\n",
    "g = sns.scatterplot(data=prediction, x=\"center_d1\", y=\"center_d2\", hue=\"predicted\", \n",
    "style=\"predicted\")\n",
    "g.legend(loc='lower center', bbox_to_anchor=(0.5, -1), ncol=4, fancybox=True, shadow=True)\n",
    "g.set_title('Cluster Centers')"
   ],
   "execution_count": 273,
   "outputs": [
    {
     "output_type": "execute_result",
     "data": {
      "text/plain": [
       "Text(0.5, 1.0, 'Cluster Centers')"
      ]
     },
     "metadata": {
      "tags": []
     },
     "execution_count": 273
    },
    {
     "output_type": "display_data",
     "data": {
      "image/png": "[encoded data removed]",
      "text/plain": [
       "<Figure size 360x216 with 1 Axes>"
      ]
     },
     "metadata": {
      "tags": []
     }
    }
   ]
  },
  {
   "cell_type": "code",
   "metadata": {
    "id": "a3pd6twoz24X"
   },
   "source": [
    "mylist = list(range(1,10))\n",
    "for i in mylist:\n",
    "  mylist.remove(i)"
   ],
   "execution_count": 203,
   "outputs": []
  },
  {
   "cell_type": "code",
   "metadata": {
    "colab": {
     "base_uri": "https://localhost:8080/",
     "height": 823
    },
    "id": "9H0sKwvQA5kq",
    "outputId": "60dc5b7f-d7f7-44fb-b1f7-73dd2162ec96"
   },
   "source": [
    "import seaborn as sns\n",
    "clusters_['cluster_label'] = clusters_['knn_cluster'].apply(to_label)\n",
    "sns.set_theme(style=\"darkgrid\")\n",
    "sns.set(rc={'figure.figsize':(11.7,8.27)})\n",
    "g = sns.scatterplot(data=clusters_, x=\"D1\", y=\"D2\", hue=\"true_labels\", \n",
    "style=\"true_labels\")\n",
    "g.legend(loc='lower center', bbox_to_anchor=(0.5, -0.7), ncol=4, fancybox=True, shadow=True)\n",
    "g.set_title('Cluster Kmeans')"
   ],
   "execution_count": 274,
   "outputs": [
    {
     "output_type": "execute_result",
     "data": {
      "text/plain": [
       "Text(0.5, 1.0, 'Cluster Kmeans')"
      ]
     },
     "metadata": {
      "tags": []
     },
     "execution_count": 274
    },
    {
     "output_type": "display_data",
     "data": {
      "image/png": "[encoded data removed]",
      "text/plain": [
       "<Figure size 842.4x595.44 with 1 Axes>"
      ]
     },
     "metadata": {
      "tags": []
     }
    }
   ]
  },
  {
   "cell_type": "code",
   "metadata": {
    "id": "ex1FUKv1qP0M"
   },
   "source": [
    "!mkdir snapshots/"
   ],
   "execution_count": null,
   "outputs": []
  },
  {
   "cell_type": "code",
   "metadata": {
    "colab": {
     "base_uri": "https://localhost:8080/",
     "height": 533
    },
    "id": "XmPPB6z_e1DT",
    "outputId": "a2e37834-fa63-462a-c17d-af95882d10e6"
   },
   "source": [
    "import time \n",
    "\n",
    "fig = plt.figure()\n",
    "\n",
    "silh_scores = []\n",
    "db_scores = []\n",
    "time_spend = []\n",
    "\n",
    "\n",
    "for n_ in range(2, 31):\n",
    "  start = time.time()\n",
    "\n",
    "  kmeans = KMeans(n_clusters=n_, random_state=42).fit(X_embedded)\n",
    "  time_spend.append((time.time()-start)/60)\n",
    "  silh_score = silhouette_score(X_embedded, kmeans.labels_)\n",
    "  davies_boul = davies_bouldin_score(X_embedded, kmeans.labels_)\n",
    "  silh_scores.append(silh_score)\n",
    "  db_scores.append(davies_boul)\n",
    "  \n",
    "\n",
    "  clus  = pd.DataFrame(X_embedded, columns=['D1', 'D2'])\n",
    "  clus['knn_cluster'] = list(map(to_label, kmeans.predict(X_embedded)))\n",
    "  clus['true_labels'] = y\n",
    "\n",
    "  # Plota e salva o gráfico\n",
    "  g = sns.scatterplot(data=clus, x=\"D1\", y=\"D2\", hue=\"knn_cluster\", \n",
    "  style=\"true_labels\")\n",
    "  g.legend().remove()\n",
    "  #g.legend(loc='lower center', bbox_to_anchor=(0.5, -0.9), ncol=4, fancybox=True, shadow=True)\n",
    "  g.set_title('Cluster Kmeans')\n",
    "  fig.savefig(f\"snapshots/{n_}_snapshot.png\")"
   ],
   "execution_count": null,
   "outputs": [
    {
     "output_type": "display_data",
     "data": {
      "image/png": "[encoded data removed]",
      "text/plain": [
       "<Figure size 842.4x595.44 with 1 Axes>"
      ]
     },
     "metadata": {
      "tags": []
     }
    }
   ]
  },
  {
   "cell_type": "code",
   "metadata": {
    "id": "tUx27hMBwUnc"
   },
   "source": [
    "pd.DataFrame({\n",
    "    \"silh_scores\":silh_scores,\n",
    "    \"db_scores\":db_scores,\n",
    "    \"time_spend\":time_spend\n",
    "}).to_csv('snapshots.csv')"
   ],
   "execution_count": null,
   "outputs": []
  },
  {
   "cell_type": "code",
   "metadata": {
    "id": "SnDGhRaSrZmQ"
   },
   "source": [
    "get_seq = lambda file:int(file.split('_')[0])\n",
    "\n",
    "data = zip(map(get_seq, os.listdir('snapshots')), os.listdir('snapshots'))\n",
    "sorted_files = sorted_by_second = sorted(data, key=lambda tup: tup[0])"
   ],
   "execution_count": null,
   "outputs": []
  },
  {
   "cell_type": "code",
   "metadata": {
    "colab": {
     "base_uri": "https://localhost:8080/"
    },
    "id": "zbTsvv8SkteI",
    "outputId": "eaf2a906-3bc8-481c-dd07-c9123422689d"
   },
   "source": [
    "import imageio\n",
    "import os\n",
    "images = []\n",
    "for _, filename in sorted_files:\n",
    "    print(filename)\n",
    "    \n",
    "    images.append(imageio.imread(os.path.join('snapshots', filename)))\n",
    "imageio.mimsave('movie.gif', images, fps=0.09)"
   ],
   "execution_count": null,
   "outputs": [
    {
     "output_type": "stream",
     "text": [
      "2_snapshot.png\n",
      "3_snapshot.png\n",
      "4_snapshot.png\n",
      "5_snapshot.png\n",
      "6_snapshot.png\n",
      "7_snapshot.png\n",
      "8_snapshot.png\n",
      "9_snapshot.png\n",
      "10_snapshot.png\n",
      "11_snapshot.png\n",
      "12_snapshot.png\n",
      "13_snapshot.png\n",
      "14_snapshot.png\n",
      "15_snapshot.png\n",
      "16_snapshot.png\n",
      "17_snapshot.png\n",
      "18_snapshot.png\n",
      "19_snapshot.png\n",
      "20_snapshot.png\n",
      "21_snapshot.png\n",
      "22_snapshot.png\n",
      "23_snapshot.png\n",
      "24_snapshot.png\n",
      "25_snapshot.png\n",
      "26_snapshot.png\n",
      "27_snapshot.png\n",
      "28_snapshot.png\n",
      "29_snapshot.png\n",
      "30_snapshot.png\n"
     ],
     "name": "stdout"
    }
   ]
  },
  {
   "cell_type": "code",
   "metadata": {
    "colab": {
     "base_uri": "https://localhost:8080/"
    },
    "id": "xvxVwYumv1Hd",
    "outputId": "6ccb32ea-de7c-4a10-dff6-56955ecce714"
   },
   "source": [
    "!zip -r snapshots.zip snapshots/"
   ],
   "execution_count": null,
   "outputs": [
    {
     "output_type": "stream",
     "text": [
      "  adding: snapshots/ (stored 0%)\n",
      "  adding: snapshots/9_snapshot.png (deflated 4%)\n",
      "  adding: snapshots/11_snapshot.png (deflated 4%)\n",
      "  adding: snapshots/8_snapshot.png (deflated 4%)\n",
      "  adding: snapshots/15_snapshot.png (deflated 4%)\n",
      "  adding: snapshots/2_snapshot.png (deflated 4%)\n",
      "  adding: snapshots/5_snapshot.png (deflated 4%)\n",
      "  adding: snapshots/3_snapshot.png (deflated 4%)\n",
      "  adding: snapshots/6_snapshot.png (deflated 4%)\n",
      "  adding: snapshots/13_snapshot.png (deflated 4%)\n",
      "  adding: snapshots/24_snapshot.png (deflated 4%)\n",
      "  adding: snapshots/10_snapshot.png (deflated 4%)\n",
      "  adding: snapshots/16_snapshot.png (deflated 4%)\n",
      "  adding: snapshots/14_snapshot.png (deflated 4%)\n",
      "  adding: snapshots/12_snapshot.png (deflated 4%)\n",
      "  adding: snapshots/30_snapshot.png (deflated 4%)\n",
      "  adding: snapshots/4_snapshot.png (deflated 4%)\n",
      "  adding: snapshots/20_snapshot.png (deflated 4%)\n",
      "  adding: snapshots/22_snapshot.png (deflated 4%)\n",
      "  adding: snapshots/17_snapshot.png (deflated 4%)\n",
      "  adding: snapshots/26_snapshot.png (deflated 4%)\n",
      "  adding: snapshots/23_snapshot.png (deflated 4%)\n",
      "  adding: snapshots/21_snapshot.png (deflated 4%)\n",
      "  adding: snapshots/28_snapshot.png (deflated 4%)\n",
      "  adding: snapshots/18_snapshot.png (deflated 4%)\n",
      "  adding: snapshots/25_snapshot.png (deflated 4%)\n",
      "  adding: snapshots/29_snapshot.png (deflated 4%)\n",
      "  adding: snapshots/7_snapshot.png (deflated 4%)\n",
      "  adding: snapshots/19_snapshot.png (deflated 4%)\n",
      "  adding: snapshots/27_snapshot.png (deflated 4%)\n"
     ],
     "name": "stdout"
    }
   ]
  }
 ]
}