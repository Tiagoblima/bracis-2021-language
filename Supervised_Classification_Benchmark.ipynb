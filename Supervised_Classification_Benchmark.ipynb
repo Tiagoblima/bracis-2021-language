{
 "nbformat": 4,
 "nbformat_minor": 0,
 "metadata": {
  "colab": {
   "name": "Supervised_Classification_Benchmark.ipynb",
   "provenance": [],
   "collapsed_sections": []
  },
  "kernelspec": {
   "name": "python3",
   "language": "python",
   "display_name": "Python 3"
  },
  "language_info": {}
 },
 "cells": [
  {
   "cell_type": "markdown",
   "metadata": {
    "id": "K1qNXkyO9k4D"
   },
   "source": [
    " Verificação de Aprendizagem - Machine Learning"
   ]
  },
  {
   "cell_type": "markdown",
   "metadata": {
    "id": "rtOizo05Mxij"
   },
   "source": [
    "## Experimentos"
   ]
  },
  {
   "cell_type": "markdown",
   "metadata": {
    "id": "BWrGcVJtMuSZ"
   },
   "source": [
    "### Carregando os Dados"
   ]
  },
  {
   "cell_type": "code",
   "metadata": {
    "id": "2fcPLiPV7H8p"
   },
   "source": [
    "import pandas as pd\n",
    "import numpy as np\n",
    "import re\n",
    "\n",
    "import unicodedata\n",
    "from sklearn.metrics import plot_confusion_matrix\n",
    "from sklearn.model_selection import train_test_split"
   ],
   "execution_count": 1,
   "outputs": []
  },
  {
   "cell_type": "code",
   "metadata": {
    "id": "m0ixp0IyhHt0"
   },
   "source": [
    "# Converts the unicode file to ascii\n",
    "def unicode_to_ascii(s):\n",
    "    return ''.join(c for c in unicodedata.normalize('NFD', s)\n",
    "                   if unicodedata.category(c) != 'Mn')\n",
    "\n",
    "\n",
    "def preprocess_sentence(w):\n",
    "    w = w.strip().lower()\n",
    "\n",
    "    # creating a space between a word and the punctuation following it eg: \"he is a boy.\" => \"he is a boy .\"\n",
    "    # Reference:- https://stackoverflow.com/questions/3645931/python-padding-punctuation-with-white-spaces-keeping\n",
    "    # -punctuation\n",
    "    w = re.sub(r\"([?.!,¿#@0-9])\", r\"\", w)\n",
    "\n",
    "    return w"
   ],
   "execution_count": 2,
   "outputs": []
  },
  {
   "cell_type": "code",
   "metadata": {
    "id": "kq17Wq5noM87"
   },
   "source": [
    "from sklearn.feature_extraction.text import CountVectorizer, TfidfTransformer\n",
    "from sklearn.feature_extraction.text import TfidfVectorizer\n",
    "from sklearn.model_selection import ShuffleSplit\n",
    "from sklearn.model_selection import cross_validate\n",
    "from sklearn.model_selection import ShuffleSplit\n",
    "from sklearn.pipeline import Pipeline\n",
    "from sklearn.manifold import TSNE\n",
    "from sklearn.svm import LinearSVC\n",
    "from sklearn.naive_bayes import MultinomialNB\n",
    "from sklearn.linear_model import LogisticRegression\n",
    "from sklearn.decomposition import TruncatedSVD\n",
    "from sklearn.preprocessing import MinMaxScaler\n",
    "from collections import Counter"
   ],
   "execution_count": 3,
   "outputs": []
  },
  {
   "cell_type": "code",
   "metadata": {
    "id": "Gc8-TcxZb90D"
   },
   "source": [
    "!mkdir datasets/"
   ],
   "execution_count": 4,
   "outputs": []
  },
  {
   "cell_type": "code",
   "metadata": {
    "colab": {
     "base_uri": "https://localhost:8080/"
    },
    "id": "4BQ6cNy7b7aN",
    "outputId": "8972b1ac-db6a-4145-b655-0969cac8bdc8"
   },
   "source": [
    "!curl https://raw.githubusercontent.com/Tiagoblima/bracis-2021-language/main/datasets/samples.csv?token=AH4TM4RHFXA6DCCCHVBLUJLBEAU2O --output datasets/samples.csv"
   ],
   "execution_count": 5,
   "outputs": [
    {
     "output_type": "stream",
     "text": [
      "  % Total    % Received % Xferd  Average Speed   Time    Time     Time  Current\n",
      "                                 Dload  Upload   Total   Spent    Left  Speed\n",
      "100  759k  100  759k    0     0  2703k      0 --:--:-- --:--:-- --:--:-- 2703k\n"
     ],
     "name": "stdout"
    }
   ]
  },
  {
   "cell_type": "code",
   "metadata": {
    "id": "Ql5yCEG5tCHb"
   },
   "source": [
    "samples = pd.read_csv('datasets/samples.csv')\n",
    "X = samples['TEXT'].apply(preprocess_sentence).to_numpy()\n",
    "y = samples['LANG'].to_numpy()\n"
   ],
   "execution_count": 6,
   "outputs": []
  },
  {
   "cell_type": "code",
   "metadata": {
    "id": "cxZQHimKKNij",
    "colab": {
     "base_uri": "https://localhost:8080/"
    },
    "outputId": "479f9fb6-12a7-4fc1-b706-759cb903b541"
   },
   "source": [
    "tfidf_word = TfidfVectorizer(analyzer='word', ngram_range=(2, 3))\n",
    "X_word_transformed = tfidf_word.fit_transform(X)\n",
    "\n",
    "tfidf_char = TfidfVectorizer(analyzer='char', ngram_range=(2, 3))\n",
    "X_char_transformed = tfidf_char.fit_transform(X)\n",
    "X_char_transformed.shape"
   ],
   "execution_count": 7,
   "outputs": [
    {
     "output_type": "execute_result",
     "data": {
      "text/plain": [
       "(2600, 18573)"
      ]
     },
     "metadata": {
      "tags": []
     },
     "execution_count": 7
    }
   ]
  },
  {
   "cell_type": "markdown",
   "metadata": {
    "id": "iZijFcMi-khX"
   },
   "source": [
    "### Análise Usando TSNE\n",
    "\n",
    "Em análise preliminar, pode-se ver na figura a disposição dos idiomas em uma projeção 2D. \n",
    "Foi utilizado *t-distributed Stochastic Neighbor Embedding* (TSNE) para a redução da dimensionalidade e uma visualização dos dados.\n",
    "Essa é uma forma bastante popular para visualização de dados em alta-dimensionalidade.\n",
    "Nessa técnica os objetos são distribuídos de tal forma que pares semelhantes tem uma alta probabilidade na distribuição.\n",
    "O modelo é treinado para minimizar a divergência em Kullback-Leibler *van2014accelerating*.\n",
    "Após a redução da dimensionalidade das originais 18095 para apenas duas,  os dados foram postos em uma escala entre 0 e 1."
   ]
  },
  {
   "cell_type": "code",
   "metadata": {
    "colab": {
     "base_uri": "https://localhost:8080/"
    },
    "id": "SI6bwdwHoVKk",
    "outputId": "6ee6eb9d-91f5-4e00-ad52-8d0922131b15"
   },
   "source": [
    "\n",
    "X_word_embedded = TSNE(n_components=2).fit_transform(X_word_transformed)    \n",
    "X_char_embedded = TSNE(n_components=2).fit_transform(X_char_transformed)    \n",
    "\n",
    "X_word_embedded.shape"
   ],
   "execution_count": 8,
   "outputs": [
    {
     "output_type": "execute_result",
     "data": {
      "text/plain": [
       "(2600, 2)"
      ]
     },
     "metadata": {
      "tags": []
     },
     "execution_count": 8
    }
   ]
  },
  {
   "cell_type": "markdown",
   "metadata": {
    "id": "iUpCYJT2Nw-Y"
   },
   "source": [
    "### Normalizando \n",
    "\n",
    "Aqui os dados são colocados entre 0 e 1"
   ]
  },
  {
   "cell_type": "markdown",
   "metadata": {
    "id": "0cQq7Re1N7R7"
   },
   "source": [
    "### Visalização \n",
    "\n",
    "Em análise preliminar, pode-se ver na figura a disposição dos idiomas em uma projeção 2D. \n",
    "Foi utilizado (TSNE) para a redução da dimensionalidade e uma visualização dos dados.\n",
    "Essa é uma forma bastante popular para visualização de dados em alta-dimensionalidade.\n",
    "Nessa técnica os objetos são distribuídos de tal forma que pares semelhantes tem uma alta probabilidade na distribuição.\n",
    "O modelo é treinado para minimizar a divergência em Kullback-Leibler *van2014accelerating*.\n",
    "Após a redução da dimensionalidade das originais 18095 para apenas duas,  os dados foram postos em uma escala entre 0 e 1."
   ]
  },
  {
   "cell_type": "code",
   "metadata": {
    "colab": {
     "base_uri": "https://localhost:8080/",
     "height": 419
    },
    "id": "ab9FYytVdhC1",
    "outputId": "8a68186c-c750-4379-a8c2-05a6e800ff04"
   },
   "source": [
    "word_df = pd.DataFrame(X_word_embedded, columns=['D1', 'D2'])\n",
    "word_df['Language'] = y\n",
    "word_df['analyzer'] = 'word'\n",
    "\n",
    "word_df"
   ],
   "execution_count": 9,
   "outputs": [
    {
     "output_type": "execute_result",
     "data": {
      "text/html": [
       "<div>\n",
       "<style scoped>\n",
       "    .dataframe tbody tr th:only-of-type {\n",
       "        vertical-align: middle;\n",
       "    }\n",
       "\n",
       "    .dataframe tbody tr th {\n",
       "        vertical-align: top;\n",
       "    }\n",
       "\n",
       "    .dataframe thead th {\n",
       "        text-align: right;\n",
       "    }\n",
       "</style>\n",
       "<table border=\"1\" class=\"dataframe\">\n",
       "  <thead>\n",
       "    <tr style=\"text-align: right;\">\n",
       "      <th></th>\n",
       "      <th>D1</th>\n",
       "      <th>D2</th>\n",
       "      <th>Language</th>\n",
       "      <th>analyzer</th>\n",
       "    </tr>\n",
       "  </thead>\n",
       "  <tbody>\n",
       "    <tr>\n",
       "      <th>0</th>\n",
       "      <td>13.073373</td>\n",
       "      <td>-10.918736</td>\n",
       "      <td>apalai</td>\n",
       "      <td>word</td>\n",
       "    </tr>\n",
       "    <tr>\n",
       "      <th>1</th>\n",
       "      <td>10.217758</td>\n",
       "      <td>-15.877503</td>\n",
       "      <td>apalai</td>\n",
       "      <td>word</td>\n",
       "    </tr>\n",
       "    <tr>\n",
       "      <th>2</th>\n",
       "      <td>14.697562</td>\n",
       "      <td>-13.130646</td>\n",
       "      <td>apalai</td>\n",
       "      <td>word</td>\n",
       "    </tr>\n",
       "    <tr>\n",
       "      <th>3</th>\n",
       "      <td>9.149970</td>\n",
       "      <td>-9.132643</td>\n",
       "      <td>apalai</td>\n",
       "      <td>word</td>\n",
       "    </tr>\n",
       "    <tr>\n",
       "      <th>4</th>\n",
       "      <td>16.214901</td>\n",
       "      <td>-18.344967</td>\n",
       "      <td>apalai</td>\n",
       "      <td>word</td>\n",
       "    </tr>\n",
       "    <tr>\n",
       "      <th>...</th>\n",
       "      <td>...</td>\n",
       "      <td>...</td>\n",
       "      <td>...</td>\n",
       "      <td>...</td>\n",
       "    </tr>\n",
       "    <tr>\n",
       "      <th>2595</th>\n",
       "      <td>4.497572</td>\n",
       "      <td>-42.233845</td>\n",
       "      <td>xavante</td>\n",
       "      <td>word</td>\n",
       "    </tr>\n",
       "    <tr>\n",
       "      <th>2596</th>\n",
       "      <td>1.050708</td>\n",
       "      <td>-3.918454</td>\n",
       "      <td>xavante</td>\n",
       "      <td>word</td>\n",
       "    </tr>\n",
       "    <tr>\n",
       "      <th>2597</th>\n",
       "      <td>3.111845</td>\n",
       "      <td>-46.400101</td>\n",
       "      <td>xavante</td>\n",
       "      <td>word</td>\n",
       "    </tr>\n",
       "    <tr>\n",
       "      <th>2598</th>\n",
       "      <td>8.290064</td>\n",
       "      <td>-43.768147</td>\n",
       "      <td>xavante</td>\n",
       "      <td>word</td>\n",
       "    </tr>\n",
       "    <tr>\n",
       "      <th>2599</th>\n",
       "      <td>0.590818</td>\n",
       "      <td>-45.672714</td>\n",
       "      <td>xavante</td>\n",
       "      <td>word</td>\n",
       "    </tr>\n",
       "  </tbody>\n",
       "</table>\n",
       "<p>2600 rows × 4 columns</p>\n",
       "</div>"
      ],
      "text/plain": [
       "             D1         D2 Language analyzer\n",
       "0     13.073373 -10.918736   apalai     word\n",
       "1     10.217758 -15.877503   apalai     word\n",
       "2     14.697562 -13.130646   apalai     word\n",
       "3      9.149970  -9.132643   apalai     word\n",
       "4     16.214901 -18.344967   apalai     word\n",
       "...         ...        ...      ...      ...\n",
       "2595   4.497572 -42.233845  xavante     word\n",
       "2596   1.050708  -3.918454  xavante     word\n",
       "2597   3.111845 -46.400101  xavante     word\n",
       "2598   8.290064 -43.768147  xavante     word\n",
       "2599   0.590818 -45.672714  xavante     word\n",
       "\n",
       "[2600 rows x 4 columns]"
      ]
     },
     "metadata": {
      "tags": []
     },
     "execution_count": 9
    }
   ]
  },
  {
   "cell_type": "code",
   "metadata": {
    "colab": {
     "base_uri": "https://localhost:8080/",
     "height": 419
    },
    "id": "svoeW_Uwd0wF",
    "outputId": "d3234a85-879a-41ad-b8a5-7a648adbf2ee"
   },
   "source": [
    "char_df = pd.DataFrame(X_char_embedded, columns=['D1', 'D2'])\n",
    "char_df['Language'] = y\n",
    "char_df['analyzer'] = 'char'\n",
    "char_df"
   ],
   "execution_count": 10,
   "outputs": [
    {
     "output_type": "execute_result",
     "data": {
      "text/html": [
       "<div>\n",
       "<style scoped>\n",
       "    .dataframe tbody tr th:only-of-type {\n",
       "        vertical-align: middle;\n",
       "    }\n",
       "\n",
       "    .dataframe tbody tr th {\n",
       "        vertical-align: top;\n",
       "    }\n",
       "\n",
       "    .dataframe thead th {\n",
       "        text-align: right;\n",
       "    }\n",
       "</style>\n",
       "<table border=\"1\" class=\"dataframe\">\n",
       "  <thead>\n",
       "    <tr style=\"text-align: right;\">\n",
       "      <th></th>\n",
       "      <th>D1</th>\n",
       "      <th>D2</th>\n",
       "      <th>Language</th>\n",
       "      <th>analyzer</th>\n",
       "    </tr>\n",
       "  </thead>\n",
       "  <tbody>\n",
       "    <tr>\n",
       "      <th>0</th>\n",
       "      <td>2.750296</td>\n",
       "      <td>-23.321472</td>\n",
       "      <td>apalai</td>\n",
       "      <td>char</td>\n",
       "    </tr>\n",
       "    <tr>\n",
       "      <th>1</th>\n",
       "      <td>2.009680</td>\n",
       "      <td>-25.692892</td>\n",
       "      <td>apalai</td>\n",
       "      <td>char</td>\n",
       "    </tr>\n",
       "    <tr>\n",
       "      <th>2</th>\n",
       "      <td>5.838439</td>\n",
       "      <td>-27.041538</td>\n",
       "      <td>apalai</td>\n",
       "      <td>char</td>\n",
       "    </tr>\n",
       "    <tr>\n",
       "      <th>3</th>\n",
       "      <td>2.305136</td>\n",
       "      <td>-24.834330</td>\n",
       "      <td>apalai</td>\n",
       "      <td>char</td>\n",
       "    </tr>\n",
       "    <tr>\n",
       "      <th>4</th>\n",
       "      <td>2.980181</td>\n",
       "      <td>-23.660078</td>\n",
       "      <td>apalai</td>\n",
       "      <td>char</td>\n",
       "    </tr>\n",
       "    <tr>\n",
       "      <th>...</th>\n",
       "      <td>...</td>\n",
       "      <td>...</td>\n",
       "      <td>...</td>\n",
       "      <td>...</td>\n",
       "    </tr>\n",
       "    <tr>\n",
       "      <th>2595</th>\n",
       "      <td>-27.680449</td>\n",
       "      <td>-38.008068</td>\n",
       "      <td>xavante</td>\n",
       "      <td>char</td>\n",
       "    </tr>\n",
       "    <tr>\n",
       "      <th>2596</th>\n",
       "      <td>-27.277212</td>\n",
       "      <td>-36.594456</td>\n",
       "      <td>xavante</td>\n",
       "      <td>char</td>\n",
       "    </tr>\n",
       "    <tr>\n",
       "      <th>2597</th>\n",
       "      <td>-27.193935</td>\n",
       "      <td>-39.597919</td>\n",
       "      <td>xavante</td>\n",
       "      <td>char</td>\n",
       "    </tr>\n",
       "    <tr>\n",
       "      <th>2598</th>\n",
       "      <td>-26.758993</td>\n",
       "      <td>-36.716171</td>\n",
       "      <td>xavante</td>\n",
       "      <td>char</td>\n",
       "    </tr>\n",
       "    <tr>\n",
       "      <th>2599</th>\n",
       "      <td>-29.328550</td>\n",
       "      <td>-39.756943</td>\n",
       "      <td>xavante</td>\n",
       "      <td>char</td>\n",
       "    </tr>\n",
       "  </tbody>\n",
       "</table>\n",
       "<p>2600 rows × 4 columns</p>\n",
       "</div>"
      ],
      "text/plain": [
       "             D1         D2 Language analyzer\n",
       "0      2.750296 -23.321472   apalai     char\n",
       "1      2.009680 -25.692892   apalai     char\n",
       "2      5.838439 -27.041538   apalai     char\n",
       "3      2.305136 -24.834330   apalai     char\n",
       "4      2.980181 -23.660078   apalai     char\n",
       "...         ...        ...      ...      ...\n",
       "2595 -27.680449 -38.008068  xavante     char\n",
       "2596 -27.277212 -36.594456  xavante     char\n",
       "2597 -27.193935 -39.597919  xavante     char\n",
       "2598 -26.758993 -36.716171  xavante     char\n",
       "2599 -29.328550 -39.756943  xavante     char\n",
       "\n",
       "[2600 rows x 4 columns]"
      ]
     },
     "metadata": {
      "tags": []
     },
     "execution_count": 10
    }
   ]
  },
  {
   "cell_type": "code",
   "metadata": {
    "colab": {
     "base_uri": "https://localhost:8080/",
     "height": 419
    },
    "id": "c0A5fQY5d8lk",
    "outputId": "685a709c-e16a-4c8e-de06-cd2645beeedc"
   },
   "source": [
    "df = pd.concat([word_df, char_df])\n",
    "df"
   ],
   "execution_count": 11,
   "outputs": [
    {
     "output_type": "execute_result",
     "data": {
      "text/html": [
       "<div>\n",
       "<style scoped>\n",
       "    .dataframe tbody tr th:only-of-type {\n",
       "        vertical-align: middle;\n",
       "    }\n",
       "\n",
       "    .dataframe tbody tr th {\n",
       "        vertical-align: top;\n",
       "    }\n",
       "\n",
       "    .dataframe thead th {\n",
       "        text-align: right;\n",
       "    }\n",
       "</style>\n",
       "<table border=\"1\" class=\"dataframe\">\n",
       "  <thead>\n",
       "    <tr style=\"text-align: right;\">\n",
       "      <th></th>\n",
       "      <th>D1</th>\n",
       "      <th>D2</th>\n",
       "      <th>Language</th>\n",
       "      <th>analyzer</th>\n",
       "    </tr>\n",
       "  </thead>\n",
       "  <tbody>\n",
       "    <tr>\n",
       "      <th>0</th>\n",
       "      <td>13.073373</td>\n",
       "      <td>-10.918736</td>\n",
       "      <td>apalai</td>\n",
       "      <td>word</td>\n",
       "    </tr>\n",
       "    <tr>\n",
       "      <th>1</th>\n",
       "      <td>10.217758</td>\n",
       "      <td>-15.877503</td>\n",
       "      <td>apalai</td>\n",
       "      <td>word</td>\n",
       "    </tr>\n",
       "    <tr>\n",
       "      <th>2</th>\n",
       "      <td>14.697562</td>\n",
       "      <td>-13.130646</td>\n",
       "      <td>apalai</td>\n",
       "      <td>word</td>\n",
       "    </tr>\n",
       "    <tr>\n",
       "      <th>3</th>\n",
       "      <td>9.149970</td>\n",
       "      <td>-9.132643</td>\n",
       "      <td>apalai</td>\n",
       "      <td>word</td>\n",
       "    </tr>\n",
       "    <tr>\n",
       "      <th>4</th>\n",
       "      <td>16.214901</td>\n",
       "      <td>-18.344967</td>\n",
       "      <td>apalai</td>\n",
       "      <td>word</td>\n",
       "    </tr>\n",
       "    <tr>\n",
       "      <th>...</th>\n",
       "      <td>...</td>\n",
       "      <td>...</td>\n",
       "      <td>...</td>\n",
       "      <td>...</td>\n",
       "    </tr>\n",
       "    <tr>\n",
       "      <th>2595</th>\n",
       "      <td>-27.680449</td>\n",
       "      <td>-38.008068</td>\n",
       "      <td>xavante</td>\n",
       "      <td>char</td>\n",
       "    </tr>\n",
       "    <tr>\n",
       "      <th>2596</th>\n",
       "      <td>-27.277212</td>\n",
       "      <td>-36.594456</td>\n",
       "      <td>xavante</td>\n",
       "      <td>char</td>\n",
       "    </tr>\n",
       "    <tr>\n",
       "      <th>2597</th>\n",
       "      <td>-27.193935</td>\n",
       "      <td>-39.597919</td>\n",
       "      <td>xavante</td>\n",
       "      <td>char</td>\n",
       "    </tr>\n",
       "    <tr>\n",
       "      <th>2598</th>\n",
       "      <td>-26.758993</td>\n",
       "      <td>-36.716171</td>\n",
       "      <td>xavante</td>\n",
       "      <td>char</td>\n",
       "    </tr>\n",
       "    <tr>\n",
       "      <th>2599</th>\n",
       "      <td>-29.328550</td>\n",
       "      <td>-39.756943</td>\n",
       "      <td>xavante</td>\n",
       "      <td>char</td>\n",
       "    </tr>\n",
       "  </tbody>\n",
       "</table>\n",
       "<p>5200 rows × 4 columns</p>\n",
       "</div>"
      ],
      "text/plain": [
       "             D1         D2 Language analyzer\n",
       "0     13.073373 -10.918736   apalai     word\n",
       "1     10.217758 -15.877503   apalai     word\n",
       "2     14.697562 -13.130646   apalai     word\n",
       "3      9.149970  -9.132643   apalai     word\n",
       "4     16.214901 -18.344967   apalai     word\n",
       "...         ...        ...      ...      ...\n",
       "2595 -27.680449 -38.008068  xavante     char\n",
       "2596 -27.277212 -36.594456  xavante     char\n",
       "2597 -27.193935 -39.597919  xavante     char\n",
       "2598 -26.758993 -36.716171  xavante     char\n",
       "2599 -29.328550 -39.756943  xavante     char\n",
       "\n",
       "[5200 rows x 4 columns]"
      ]
     },
     "metadata": {
      "tags": []
     },
     "execution_count": 11
    }
   ]
  },
  {
   "cell_type": "code",
   "metadata": {
    "colab": {
     "base_uri": "https://localhost:8080/",
     "height": 358
    },
    "id": "tDZxfVrOq4au",
    "outputId": "8246b43f-404c-4194-be22-8adc74e0af4d"
   },
   "source": [
    "import matplotlib.pyplot as plt\n",
    "\n",
    "import seaborn as sns\n",
    "\n",
    "\n",
    "sns.set_theme(style=\"darkgrid\")\n",
    "sns.set(rc={'figure.figsize':(10.,10)})\n",
    "g = sns.FacetGrid(df, col=\"analyzer\", hue=\"Language\", height=4,\n",
    "                       legend_out=True)\n",
    "g.map(sns.scatterplot, \"D1\", \"D2\")\n",
    "g.add_legend(loc='lower center',\n",
    "             bbox_to_anchor=(0.3, -0.2),\n",
    "             \n",
    "          ncol=4)\n",
    "\n",
    "plt.savefig('tsne_vis.pdf')"
   ],
   "execution_count": 12,
   "outputs": [
    {
     "output_type": "display_data",
     "data": {
      "image/png": "[encoded data removed]",
      "text/plain": [
       "<Figure size 1024.62x288 with 2 Axes>"
      ]
     },
     "metadata": {
      "tags": []
     }
    }
   ]
  },
  {
   "cell_type": "markdown",
   "metadata": {
    "id": "FmblnpqcRQ6G"
   },
   "source": [
    "### Preprocessando e Extraindo Features"
   ]
  },
  {
   "cell_type": "code",
   "metadata": {
    "id": "bYMpK5CBpYNe"
   },
   "source": [
    "CLFS_LIST = [('Word TFIDF+LinearSVC',  Pipeline([('tfidf', TfidfVectorizer(analyzer='word', ngram_range=(2, 3))), ('svc', LinearSVC())])),\n",
    "             ('Word TFIDF+MultinomialNB',Pipeline([('tfidf', TfidfVectorizer(analyzer='word', ngram_range=(2, 3))), ('multinomialnb', MultinomialNB())])),\n",
    "             ('Word TFIDF+LogisticRegression',Pipeline([('tfidf', TfidfVectorizer(analyzer='word', ngram_range=(2, 3))), ('multinomialnb', LogisticRegression())])),\n",
    "             ('Char TFIDF+LinearSVC',  Pipeline([('tfidf', TfidfVectorizer(analyzer='char', ngram_range=(2, 3))), ('svc', LinearSVC())])),\n",
    "             ('Char TFIDF+MultinomialNB',Pipeline([('tfidf', TfidfVectorizer(analyzer='char', ngram_range=(2, 3))), ('multinomialnb', MultinomialNB())])),\n",
    "             ('Char TFIDF+LogisticRegression',Pipeline([('tfidf', TfidfVectorizer(analyzer='char', ngram_range=(2, 3))), ('multinomialnb', LogisticRegression())]))]\n"
   ],
   "execution_count": 13,
   "outputs": []
  },
  {
   "cell_type": "code",
   "metadata": {
    "colab": {
     "base_uri": "https://localhost:8080/"
    },
    "id": "Rf7OtLbwphzl",
    "outputId": "04293e1a-52ac-4a84-8a98-5b6d65ad3139"
   },
   "source": [
    "samples.sample(frac=0.1).value_counts('LANG')"
   ],
   "execution_count": 14,
   "outputs": [
    {
     "output_type": "execute_result",
     "data": {
      "text/plain": [
       "LANG\n",
       "apinaye         14\n",
       "nadeb           13\n",
       "bakairi         13\n",
       "kaiwa           13\n",
       "munduruku       13\n",
       "kaigang         13\n",
       "apurina         13\n",
       "kagwahiva       12\n",
       "apalai          12\n",
       "parecis         11\n",
       "kayabi          11\n",
       "guarani         11\n",
       "terena          10\n",
       "nambikuara       9\n",
       "satere-mawe      9\n",
       "maxakali         9\n",
       "macushi          9\n",
       "urubu-kaapor     9\n",
       "xavante          8\n",
       "karaja           8\n",
       "paumari          8\n",
       "kadiweu          7\n",
       "rikbaktsa        7\n",
       "guajajara        6\n",
       "tukano           6\n",
       "kayapo           6\n",
       "dtype: int64"
      ]
     },
     "metadata": {
      "tags": []
     },
     "execution_count": 14
    }
   ]
  },
  {
   "cell_type": "code",
   "metadata": {
    "colab": {
     "base_uri": "https://localhost:8080/"
    },
    "id": "gaWU92zgpZLX",
    "outputId": "66467a74-c320-42fc-b255-3f380cde1dc2"
   },
   "source": [
    "from sklearn.model_selection import StratifiedKFold\n",
    "exp_timeline = pd.DataFrame({'accuracy': [],'classifier_name':[],'fit_time':[]})\n",
    "from tqdm import tqdm\n",
    "for i in range(2,11):\n",
    "  for clf_name,estimator in tqdm(CLFS_LIST):\n",
    "    skf = StratifiedKFold(n_splits=10)\n",
    "    small_sample = samples.sample(frac=i/10)\n",
    "    X_sample = small_sample['TEXT'].apply(preprocess_sentence).to_numpy()\n",
    "    y_sample = small_sample['LANG'].to_numpy()\n",
    "\n",
    "    scores = cross_validate(estimator, X_sample, y_sample, cv=skf,\n",
    "                              scoring=('accuracy', 'f1_macro'), return_train_score=False)\n",
    "    exp_df = pd.DataFrame({\n",
    "        'accuracy':scores['test_accuracy'],\n",
    "        'f1_macro':scores['test_f1_macro'],\n",
    "        'classifier_name':[clf_name for _ in range(10)],\n",
    "        \n",
    "        'dataset_name':['dataset'+str(i) for _ in range(10)]\n",
    "    })\n",
    "\n",
    "    exp_timeline = exp_timeline.append(exp_df)\n",
    "\n",
    "exp_timeline"
   ],
   "execution_count": null,
   "outputs": [
    {
     "output_type": "stream",
     "text": [
      "100%|██████████| 6/6 [01:09<00:00, 11.62s/it]\n",
      "100%|██████████| 6/6 [01:49<00:00, 18.22s/it]\n",
      "100%|██████████| 6/6 [02:28<00:00, 24.74s/it]\n",
      " 83%|████████▎ | 5/6 [02:16<00:24, 24.66s/it]"
     ],
     "name": "stderr"
    }
   ]
  },
  {
   "cell_type": "code",
   "metadata": {
    "id": "dbDA0s_JLYfQ"
   },
   "source": [
    "skf = StratifiedKFold(n_splits=10)\n",
    "#cv = ShuffleSplit(n_splits=10, test_size=0.33, random_state=42)\n",
    "\n",
    "def run_experiment(X_, y_):\n",
    " \n",
    "  exp_results = pd.DataFrame({'accuracy': [],'classifier_name':[],'fit_time':[]})\n",
    "  \n",
    "  \n",
    "  for clf in CLFS_LIST:\n",
    "    step = 1\n",
    "    clf_name, estimator = clf\n",
    "    print(f\"Treinando {clf_name}...\")\n",
    "    scores = cross_validate(estimator, X_, y_, cv=skf,\n",
    "                            scoring=('accuracy', 'f1_macro'),\n",
    "                            return_train_score=False)\n",
    "    exp_df = pd.DataFrame({\n",
    "        'accuracy':scores['test_accuracy'],\n",
    "        'f1_macro':scores['test_f1_macro'],\n",
    "        'classifier_name':[clf_name for _ in range(10)],\n",
    "        \n",
    "        'dataset_name':['dataset'+str(i) for i in range(step, step+10)]\n",
    "    })\n",
    "    exp_results = exp_results.append(exp_df)\n",
    " \n",
    "  return exp_results.fillna(0)"
   ],
   "execution_count": null,
   "outputs": []
  },
  {
   "cell_type": "code",
   "metadata": {
    "id": "pOYUf0MYnLi4"
   },
   "source": [
    "!mkdir results/"
   ],
   "execution_count": null,
   "outputs": []
  },
  {
   "cell_type": "code",
   "metadata": {
    "id": "01cvJMxYOoe_"
   },
   "source": [
    "result_df = run_experiment(X, y)\n",
    "result_df.to_csv('results/result.csv')"
   ],
   "execution_count": null,
   "outputs": []
  },
  {
   "cell_type": "code",
   "metadata": {
    "id": "o8NOrlFUOvOH"
   },
   "source": [
    "groups = result_df.groupby(['classifier_name'])\n",
    "summary = groups.agg({'accuracy':['mean', 'median', 'std'],'f1_macro':['mean', 'median', 'std']}).round(3)\n",
    "\n",
    "open('results/result.txt', 'w', encoding='utf-8').write(summary.to_latex())\n",
    "summary"
   ],
   "execution_count": null,
   "outputs": []
  },
  {
   "cell_type": "markdown",
   "metadata": {
    "id": "LOw3Es8bPPMJ"
   },
   "source": [
    "### Experimentos Usando TSNE"
   ]
  },
  {
   "cell_type": "code",
   "metadata": {
    "id": "fEhpAvcuSOyN"
   },
   "source": [
    "!git clone https://github.com/Tiagoblima/cd-diagram.git"
   ],
   "execution_count": null,
   "outputs": []
  },
  {
   "cell_type": "code",
   "metadata": {
    "id": "cZSzgjtO2ZPy"
   },
   "source": [
    "!mkdir images"
   ],
   "execution_count": null,
   "outputs": []
  },
  {
   "cell_type": "code",
   "metadata": {
    "id": "hViNn3e9RCub"
   },
   "source": [
    "from IPython.display import Image, display\n",
    "\n",
    "!python cd-diagram/main.py --results results/result.csv --metric accuracy --img images/cd-accuracy.pdf\n",
    "display(Image('images/cd-accuracy.png'))"
   ],
   "execution_count": null,
   "outputs": []
  },
  {
   "cell_type": "code",
   "metadata": {
    "id": "inAFgv4XMOZG"
   },
   "source": [
    "from IPython.display import Image, display\n",
    "\n",
    "!python cd-diagram/main.py --results results/result_char.csv --metric f1_macro --img images/cd-f1_macro.pdf\n",
    "display(Image('images/cd-f1_macro.png'))"
   ],
   "execution_count": null,
   "outputs": []
  },
  {
   "cell_type": "code",
   "metadata": {
    "pycharm": {
     "name": "#%%\n"
    },
    "id": "sNODPuVQbTZ4"
   },
   "source": [
    "family = pd.read_csv('family.csv')\n",
    "\n",
    "def get_family(language):\n",
    "\n",
    "    family['unit'] = family['unit'].apply(lambda sent:unicode_to_ascii(sent).lower().split(' ')[0])\n",
    "\n",
    "    return family.loc[family['unit']==language, \"family\"].tolist()[0]\n",
    "\n",
    "original_df = pd.read_csv('datasets/target_aligned_text.csv')\n",
    "tupi_guarani = []\n",
    "for lang in ['urubu-kaapor', 'guajajara', 'guarani', 'kagwahiva', 'kaiwa', 'kayabi']:\n",
    "    tupi_guarani.append(samples[samples['LANG']==lang])\n",
    "\n",
    "\n",
    "tupi_guarani = pd.concat(tupi_guarani)\n",
    "print(tupi_guarani)\n",
    "X_tfidf = tfidf.fit_transform(tupi_guarani['TEXT'].to_numpy())\n",
    "y_ = tupi_guarani['LANG'].to_numpy()\n",
    "X_train, X_test, y_train, y_test = train_test_split(\n",
    "    X_tfidf, y_, test_size=0.33, random_state=42)\n",
    "clf = LinearSVC()\n",
    "clf.fit(X_train, y_train)\n",
    "\n",
    "plot_confusion_matrix(clf, X_test, y_test)\n",
    "plt.show()"
   ],
   "execution_count": null,
   "outputs": []
  }
 ]
}