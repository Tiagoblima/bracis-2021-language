{
  "cells": [
    {
      "cell_type": "markdown",
      "metadata": {
        "id": "K1qNXkyO9k4D"
      },
      "source": [
        "# Verificação de Aprendizagem - Machine Learning"
      ]
    },
    {
      "cell_type": "markdown",
      "metadata": {
        "id": "rtOizo05Mxij"
      },
      "source": [
        "## Experimentos"
      ]
    },
    {
      "cell_type": "markdown",
      "metadata": {
        "id": "BWrGcVJtMuSZ"
      },
      "source": [
        "### Carregando os Dados"
      ]
    },
    {
      "cell_type": "code",
      "execution_count": null,
      "metadata": {
        "id": "2fcPLiPV7H8p"
      },
      "outputs": [],
      "source": [
        "import pandas as pd\n",
        "import numpy as np\n",
        "import re\n",
        "from sklearn.model_selection import train_test_split"
      ]
    },
    {
      "cell_type": "code",
      "execution_count": null,
      "metadata": {
        "id": "m0ixp0IyhHt0"
      },
      "outputs": [],
      "source": [
        "# Converts the unicode file to ascii\n",
        "def unicode_to_ascii(s):\n",
        "    return ''.join(c for c in unicodedata.normalize('NFD', s)\n",
        "                   if unicodedata.category(c) != 'Mn')\n",
        "\n",
        "\n",
        "def preprocess_sentence(w):\n",
        "    w = w.strip().lower()\n",
        "\n",
        "    # creating a space between a word and the punctuation following it eg: \"he is a boy.\" => \"he is a boy .\"\n",
        "    # Reference:- https://stackoverflow.com/questions/3645931/python-padding-punctuation-with-white-spaces-keeping\n",
        "    # -punctuation\n",
        "    w = re.sub(r\"([?.!,¿#@0-9])\", r\"\", w)\n",
        "\n",
        "    return w"
      ]
    },
    {
      "cell_type": "code",
      "execution_count": null,
      "metadata": {
        "colab": {
          "base_uri": "https://localhost:8080/"
        },
        "id": "QPOOxafr1E6C",
        "outputId": "1061c2fb-af33-438a-d461-e08acf7f8b4b"
      },
      "outputs": [
        {
          "data": {
            "text/plain": [
              "array(['Apalaí', 'Apinayé', 'Apurinã', 'Bakairi', 'Guajajara', 'Guarani',\n",
              "       'Kadiwéu', 'Kagwahiva', 'Kaigáng', 'Kaiwá', 'Karajá', 'Kayabí',\n",
              "       'Macushi', 'Maxakalí', 'Mundurukú', 'Nadëb', 'Nambikuára',\n",
              "       'Parecis', 'Paumarí', 'Portuguese', 'Rikbaktsa', 'Sateré-Mawé',\n",
              "       'Terena', 'Tukano', 'Urubu-Kaapor', 'Xavánte', 'kayapó'],\n",
              "      dtype='<U12')"
            ]
          },
          "execution_count": 28,
          "metadata": {
            "tags": []
          },
          "output_type": "execute_result"
        }
      ],
      "source": [
        "corpora = pd.read_csv('indigenous_cls.csv')\r\n",
        "corpora = corpora.dropna().reset_index()\r\n",
        "\r\n",
        "classes = np.unique(corpora['LANG'].tolist())\r\n",
        "classes"
      ]
    },
    {
      "cell_type": "code",
      "execution_count": null,
      "metadata": {
        "id": "kq17Wq5noM87"
      },
      "outputs": [],
      "source": [
        "from sklearn.feature_extraction.text import CountVectorizer, TfidfTransformer\n",
        "from sklearn.feature_extraction.text import TfidfVectorizer\n",
        "from sklearn.model_selection import ShuffleSplit\n",
        "from sklearn.model_selection import cross_validate\n",
        "from sklearn.model_selection import ShuffleSplit\n",
        "from sklearn.pipeline import Pipeline\n",
        "from sklearn.manifold import TSNE\n",
        "from sklearn.svm import LinearSVC\n",
        "from sklearn.naive_bayes import MultinomialNB\n",
        "from sklearn.linear_model import LogisticRegression\n",
        "from sklearn.decomposition import TruncatedSVD\n",
        "from sklearn.preprocessing import MinMaxScaler\n",
        "from collections import Counter"
      ]
    },
    {
      "cell_type": "code",
      "execution_count": null,
      "metadata": {
        "colab": {
          "base_uri": "https://localhost:8080/"
        },
        "id": "RuE89DBWsyiU",
        "outputId": "775d8960-5b50-4426-d681-76fb9d6cb49a"
      },
      "outputs": [
        {
          "name": "stdout",
          "output_type": "stream",
          "text": [
            "Número de instâncias:  162061\n",
            "Número de instâncias selcionadas :  810\n"
          ]
        }
      ],
      "source": [
        "print(\"Número de instâncias: \", corpora.shape[0])\n",
        "samples = corpora.sample(frac=0.005)\n",
        "print(\"Número de instâncias selcionadas : \", samples.shape[0])"
      ]
    },
    {
      "cell_type": "code",
      "execution_count": null,
      "metadata": {
        "colab": {
          "base_uri": "https://localhost:8080/",
          "height": 886
        },
        "id": "Ql5yCEG5tCHb",
        "outputId": "e579c226-6785-40ec-faec-0e233b030a8f"
      },
      "outputs": [
        {
          "data": {
            "text/html": [
              "<div>\n",
              "<style scoped>\n",
              "    .dataframe tbody tr th:only-of-type {\n",
              "        vertical-align: middle;\n",
              "    }\n",
              "\n",
              "    .dataframe tbody tr th {\n",
              "        vertical-align: top;\n",
              "    }\n",
              "\n",
              "    .dataframe thead th {\n",
              "        text-align: right;\n",
              "    }\n",
              "</style>\n",
              "<table border=\"1\" class=\"dataframe\">\n",
              "  <thead>\n",
              "    <tr style=\"text-align: right;\">\n",
              "      <th></th>\n",
              "      <th>0</th>\n",
              "    </tr>\n",
              "  </thead>\n",
              "  <tbody>\n",
              "    <tr>\n",
              "      <th>Kayabí</th>\n",
              "      <td>29</td>\n",
              "    </tr>\n",
              "    <tr>\n",
              "      <th>Nambikuára</th>\n",
              "      <td>28</td>\n",
              "    </tr>\n",
              "    <tr>\n",
              "      <th>Paumarí</th>\n",
              "      <td>24</td>\n",
              "    </tr>\n",
              "    <tr>\n",
              "      <th>Sateré-Mawé</th>\n",
              "      <td>33</td>\n",
              "    </tr>\n",
              "    <tr>\n",
              "      <th>kayapó</th>\n",
              "      <td>38</td>\n",
              "    </tr>\n",
              "    <tr>\n",
              "      <th>Tukano</th>\n",
              "      <td>34</td>\n",
              "    </tr>\n",
              "    <tr>\n",
              "      <th>Nadëb</th>\n",
              "      <td>36</td>\n",
              "    </tr>\n",
              "    <tr>\n",
              "      <th>Xavánte</th>\n",
              "      <td>32</td>\n",
              "    </tr>\n",
              "    <tr>\n",
              "      <th>Terena</th>\n",
              "      <td>36</td>\n",
              "    </tr>\n",
              "    <tr>\n",
              "      <th>Macushi</th>\n",
              "      <td>31</td>\n",
              "    </tr>\n",
              "    <tr>\n",
              "      <th>Portuguese</th>\n",
              "      <td>21</td>\n",
              "    </tr>\n",
              "    <tr>\n",
              "      <th>Apinayé</th>\n",
              "      <td>33</td>\n",
              "    </tr>\n",
              "    <tr>\n",
              "      <th>Maxakalí</th>\n",
              "      <td>31</td>\n",
              "    </tr>\n",
              "    <tr>\n",
              "      <th>Mundurukú</th>\n",
              "      <td>36</td>\n",
              "    </tr>\n",
              "    <tr>\n",
              "      <th>Guarani</th>\n",
              "      <td>26</td>\n",
              "    </tr>\n",
              "    <tr>\n",
              "      <th>Kadiwéu</th>\n",
              "      <td>31</td>\n",
              "    </tr>\n",
              "    <tr>\n",
              "      <th>Kagwahiva</th>\n",
              "      <td>32</td>\n",
              "    </tr>\n",
              "    <tr>\n",
              "      <th>Guajajara</th>\n",
              "      <td>26</td>\n",
              "    </tr>\n",
              "    <tr>\n",
              "      <th>Apurinã</th>\n",
              "      <td>25</td>\n",
              "    </tr>\n",
              "    <tr>\n",
              "      <th>Kaigáng</th>\n",
              "      <td>25</td>\n",
              "    </tr>\n",
              "    <tr>\n",
              "      <th>Kaiwá</th>\n",
              "      <td>26</td>\n",
              "    </tr>\n",
              "    <tr>\n",
              "      <th>Bakairi</th>\n",
              "      <td>31</td>\n",
              "    </tr>\n",
              "    <tr>\n",
              "      <th>Parecis</th>\n",
              "      <td>28</td>\n",
              "    </tr>\n",
              "    <tr>\n",
              "      <th>Karajá</th>\n",
              "      <td>34</td>\n",
              "    </tr>\n",
              "    <tr>\n",
              "      <th>Rikbaktsa</th>\n",
              "      <td>32</td>\n",
              "    </tr>\n",
              "    <tr>\n",
              "      <th>Urubu-Kaapor</th>\n",
              "      <td>26</td>\n",
              "    </tr>\n",
              "    <tr>\n",
              "      <th>Apalaí</th>\n",
              "      <td>26</td>\n",
              "    </tr>\n",
              "  </tbody>\n",
              "</table>\n",
              "</div>"
            ],
            "text/plain": [
              "               0\n",
              "Kayabí        29\n",
              "Nambikuára    28\n",
              "Paumarí       24\n",
              "Sateré-Mawé   33\n",
              "kayapó        38\n",
              "Tukano        34\n",
              "Nadëb         36\n",
              "Xavánte       32\n",
              "Terena        36\n",
              "Macushi       31\n",
              "Portuguese    21\n",
              "Apinayé       33\n",
              "Maxakalí      31\n",
              "Mundurukú     36\n",
              "Guarani       26\n",
              "Kadiwéu       31\n",
              "Kagwahiva     32\n",
              "Guajajara     26\n",
              "Apurinã       25\n",
              "Kaigáng       25\n",
              "Kaiwá         26\n",
              "Bakairi       31\n",
              "Parecis       28\n",
              "Karajá        34\n",
              "Rikbaktsa     32\n",
              "Urubu-Kaapor  26\n",
              "Apalaí        26"
            ]
          },
          "execution_count": 31,
          "metadata": {
            "tags": []
          },
          "output_type": "execute_result"
        }
      ],
      "source": [
        "X = samples['TEXT'].apply(preprocess_sentence).to_numpy()\n",
        "y = samples['LANG'].to_numpy()\n",
        "\n",
        "pd.DataFrame.from_dict(Counter(y), orient='index')"
      ]
    },
    {
      "cell_type": "code",
      "execution_count": null,
      "metadata": {
        "id": "cxZQHimKKNij"
      },
      "outputs": [],
      "source": [
        "tfidf = TfidfVectorizer(analyzer='char', ngram_range=(2, 3))\n",
        "X_transformed = tfidf.fit_transform(X)"
      ]
    },
    {
      "cell_type": "markdown",
      "metadata": {
        "id": "iZijFcMi-khX"
      },
      "source": [
        "### Análise Usando TSNE\n",
        "\n",
        "Em análise preliminar, pode-se ver na figura a disposição dos idiomas em uma projeção 2D. \n",
        "Foi utilizado *t-distributed Stochastic Neighbor Embedding* (TSNE) para a redução da dimensionalidade e uma visualização dos dados.\n",
        "Essa é uma forma bastante popular para visualização de dados em alta-dimensionalidade.\n",
        "Nessa técnica os objetos são distribuídos de tal forma que pares semelhantes tem uma alta probabilidade na distribuição.\n",
        "O modelo é treinado para minimizar a divergência em Kullback-Leibler *van2014accelerating*.\n",
        "Após a redução da dimensionalidade das originais 18095 para apenas duas,  os dados foram postos em uma escala entre 0 e 1."
      ]
    },
    {
      "cell_type": "code",
      "execution_count": null,
      "metadata": {
        "colab": {
          "base_uri": "https://localhost:8080/"
        },
        "id": "SI6bwdwHoVKk",
        "outputId": "2808c999-fa99-4df8-b4b0-ef152b3f5067"
      },
      "outputs": [
        {
          "data": {
            "text/plain": [
              "(810, 2)"
            ]
          },
          "execution_count": 33,
          "metadata": {
            "tags": []
          },
          "output_type": "execute_result"
        }
      ],
      "source": [
        "\n",
        "X_embedded = TSNE(n_components=2).fit_transform(X_transformed)    \n",
        "X_embedded.shape"
      ]
    },
    {
      "cell_type": "markdown",
      "metadata": {
        "id": "iUpCYJT2Nw-Y"
      },
      "source": [
        "### Normalizando \n",
        "\n",
        "Aqui os dados são colocados entre 0 e 1"
      ]
    },
    {
      "cell_type": "markdown",
      "metadata": {
        "id": "0cQq7Re1N7R7"
      },
      "source": [
        "### Visalização \n",
        "\n",
        "Em análise preliminar, pode-se ver na figura a disposição dos idiomas em uma projeção 2D. \n",
        "Foi utilizado (TSNE) para a redução da dimensionalidade e uma visualização dos dados.\n",
        "Essa é uma forma bastante popular para visualização de dados em alta-dimensionalidade.\n",
        "Nessa técnica os objetos são distribuídos de tal forma que pares semelhantes tem uma alta probabilidade na distribuição.\n",
        "O modelo é treinado para minimizar a divergência em Kullback-Leibler *van2014accelerating*.\n",
        "Após a redução da dimensionalidade das originais 18095 para apenas duas,  os dados foram postos em uma escala entre 0 e 1."
      ]
    },
    {
      "cell_type": "code",
      "execution_count": null,
      "metadata": {
        "colab": {
          "base_uri": "https://localhost:8080/",
          "height": 433
        },
        "id": "tDZxfVrOq4au",
        "outputId": "04515b01-bc84-45ac-986f-101d745a04ed"
      },
      "outputs": [
        {
          "data": {
            "text/plain": [
              "Text(0.5, 1.0, 'Visualização dos Dados')"
            ]
          },
          "execution_count": 34,
          "metadata": {
            "tags": []
          },
          "output_type": "execute_result"
        },
        {
          "data": {
            "image/png": "[encoded data removed]",
            "text/plain": [
              "<Figure size 360x216 with 1 Axes>"
            ]
          },
          "metadata": {
            "tags": []
          },
          "output_type": "display_data"
        }
      ],
      "source": [
        "import seaborn as sns\n",
        "\n",
        "df = pd.DataFrame(X_embedded, columns=['D1', 'D2'])\n",
        "df['Language'] = y\n",
        "sns.set_theme(style=\"darkgrid\")\n",
        "sns.set(rc={'figure.figsize':(5.,3)})\n",
        "g = sns.scatterplot(data=df, x=\"D1\", y=\"D2\", hue=\"Language\", style=\"Language\")\n",
        "g.legend(loc='lower center', bbox_to_anchor=(0.5, -1.3),\n",
        "          ncol=3, fancybox=True, shadow=True)\n",
        "g.set_title(\"Visualização dos Dados\")"
      ]
    },
    {
      "cell_type": "markdown",
      "metadata": {
        "id": "FmblnpqcRQ6G"
      },
      "source": [
        "### Preprocessando e Extraindo Features"
      ]
    },
    {
      "cell_type": "code",
      "execution_count": null,
      "metadata": {
        "id": "dbDA0s_JLYfQ"
      },
      "outputs": [],
      "source": [
        "CLFS_LIST = [('LinearSVC',LinearSVC(max_iter=5000)), \n",
        "             ('MultinomialNB',MultinomialNB()),\n",
        "             ('LogisticRegression',LogisticRegression())]\n",
        "\n",
        "def run_experiment(X_, y_):\n",
        " \n",
        "  exp_results = pd.DataFrame({'accuracy': [],'classifier_name':[],'fit_time':[]})\n",
        "  cv = ShuffleSplit(n_splits=10, test_size=0.33, random_state=42)\n",
        "  \n",
        "  for clf in CLFS_LIST:\n",
        "    step = 1\n",
        "    clf_name, estimator = clf\n",
        "    print(f\"Treinando {clf_name}...\")\n",
        "    scores = cross_validate(estimator, X_, y_, cv=cv,\n",
        "                            scoring=('accuracy', 'f1_macro'),\n",
        "                            return_train_score=False)\n",
        "    exp_df = pd.DataFrame({\n",
        "        'accuracy':scores['test_accuracy'],\n",
        "        'f1_macro':scores['test_f1_macro'],\n",
        "        'classifier_name':[clf_name for _ in range(10)],\n",
        "        'fit_time':scores['fit_time']+scores['score_time'],\n",
        "        'dataset_name':['dataset'+str(i) for i in range(step, step+10)]\n",
        "    })\n",
        "    exp_results = exp_results.append(exp_df)\n",
        " \n",
        "  return exp_results.fillna(0)"
      ]
    },
    {
      "cell_type": "markdown",
      "metadata": {
        "id": "SN4tsrxXOwIn"
      },
      "source": [
        "### Experimentos Usando TF-IDF\n",
        "\n",
        "Na primeira série de experimentos realizados foram consideradas todo o vetor de características obtido através do pré-processamento usando TF-IDF.\n",
        "Os dados são separados em 67\\% para treinamento e 33\\% para testes. O tempo médio é referente a média de tempo considerando o tempo de predição e treinamento somados em segundos."
      ]
    },
    {
      "cell_type": "code",
      "execution_count": null,
      "metadata": {
        "colab": {
          "base_uri": "https://localhost:8080/"
        },
        "id": "GJ6Cj2TTuRPS",
        "outputId": "8eaec1a4-2e38-4bcf-a539-f8a5d41dd6c5"
      },
      "outputs": [
        {
          "name": "stdout",
          "output_type": "stream",
          "text": [
            "Número de instâncias selcionadas :  1621\n"
          ]
        }
      ],
      "source": [
        "samples = corpora.sample(frac=0.01)\n",
        "print(\"Número de instâncias selcionadas : \", samples.shape[0])"
      ]
    },
    {
      "cell_type": "code",
      "execution_count": null,
      "metadata": {
        "colab": {
          "base_uri": "https://localhost:8080/"
        },
        "id": "01cvJMxYOoe_",
        "outputId": "dac68401-4001-47e0-cf5f-febd5066b53b"
      },
      "outputs": [
        {
          "name": "stdout",
          "output_type": "stream",
          "text": [
            "Treinando LinearSVC...\n",
            "Treinando MultinomialNB...\n",
            "Treinando LogisticRegression...\n"
          ]
        }
      ],
      "source": [
        "result_df = run_experiment(X_transformed, y)\n",
        "result_df.to_csv('result_tf.csv')"
      ]
    },
    {
      "cell_type": "code",
      "execution_count": null,
      "metadata": {
        "id": "xlnoERpZuXuw"
      },
      "outputs": [],
      "source": [
        "tfidf = TfidfVectorizer(analyzer='char', ngram_range=(2, 3))\n",
        "X_transformed = tfidf.fit_transform(X)"
      ]
    },
    {
      "cell_type": "code",
      "execution_count": null,
      "metadata": {
        "colab": {
          "base_uri": "https://localhost:8080/",
          "height": 173
        },
        "id": "o8NOrlFUOvOH",
        "outputId": "abf349f2-c71b-4cf1-f30e-e16e4f330411"
      },
      "outputs": [
        {
          "data": {
            "text/html": [
              "<div>\n",
              "<style scoped>\n",
              "    .dataframe tbody tr th:only-of-type {\n",
              "        vertical-align: middle;\n",
              "    }\n",
              "\n",
              "    .dataframe tbody tr th {\n",
              "        vertical-align: top;\n",
              "    }\n",
              "\n",
              "    .dataframe thead th {\n",
              "        text-align: right;\n",
              "    }\n",
              "</style>\n",
              "<table border=\"1\" class=\"dataframe\">\n",
              "  <thead>\n",
              "    <tr style=\"text-align: right;\">\n",
              "      <th></th>\n",
              "      <th>Média</th>\n",
              "      <th>Mediana</th>\n",
              "      <th>Desvio Padrão</th>\n",
              "      <th>Tempo Médio</th>\n",
              "    </tr>\n",
              "    <tr>\n",
              "      <th>classifier_name</th>\n",
              "      <th></th>\n",
              "      <th></th>\n",
              "      <th></th>\n",
              "      <th></th>\n",
              "    </tr>\n",
              "  </thead>\n",
              "  <tbody>\n",
              "    <tr>\n",
              "      <th>LinearSVC</th>\n",
              "      <td>0.999627</td>\n",
              "      <td>1.000000</td>\n",
              "      <td>0.001180</td>\n",
              "      <td>0.179092</td>\n",
              "    </tr>\n",
              "    <tr>\n",
              "      <th>LogisticRegression</th>\n",
              "      <td>0.998134</td>\n",
              "      <td>0.998134</td>\n",
              "      <td>0.001967</td>\n",
              "      <td>2.783454</td>\n",
              "    </tr>\n",
              "    <tr>\n",
              "      <th>MultinomialNB</th>\n",
              "      <td>0.995522</td>\n",
              "      <td>0.996269</td>\n",
              "      <td>0.003429</td>\n",
              "      <td>0.026137</td>\n",
              "    </tr>\n",
              "  </tbody>\n",
              "</table>\n",
              "</div>"
            ],
            "text/plain": [
              "                       Média   Mediana  Desvio Padrão  Tempo Médio\n",
              "classifier_name                                                   \n",
              "LinearSVC           0.999627  1.000000       0.001180     0.179092\n",
              "LogisticRegression  0.998134  0.998134       0.001967     2.783454\n",
              "MultinomialNB       0.995522  0.996269       0.003429     0.026137"
            ]
          },
          "execution_count": 39,
          "metadata": {
            "tags": []
          },
          "output_type": "execute_result"
        }
      ],
      "source": [
        "groups = result_df.groupby(['classifier_name'])\n",
        "summary = groups.agg({'accuracy':['mean', 'median', 'std'], 'fit_time':'mean'})\n",
        "summary.columns = summary.columns.droplevel(0)\n",
        "summary.columns = ['Média', 'Mediana', 'Desvio Padrão', 'Tempo Médio']\n",
        "\n",
        "open('result_acc.txt', 'w').write(summary.to_latex())\n",
        "summary"
      ]
    },
    {
      "cell_type": "code",
      "execution_count": null,
      "metadata": {
        "colab": {
          "base_uri": "https://localhost:8080/",
          "height": 173
        },
        "id": "8bc3sjxgLL_p",
        "outputId": "0678f755-4640-4706-8060-7b2f8d194998"
      },
      "outputs": [
        {
          "data": {
            "text/html": [
              "<div>\n",
              "<style scoped>\n",
              "    .dataframe tbody tr th:only-of-type {\n",
              "        vertical-align: middle;\n",
              "    }\n",
              "\n",
              "    .dataframe tbody tr th {\n",
              "        vertical-align: top;\n",
              "    }\n",
              "\n",
              "    .dataframe thead th {\n",
              "        text-align: right;\n",
              "    }\n",
              "</style>\n",
              "<table border=\"1\" class=\"dataframe\">\n",
              "  <thead>\n",
              "    <tr style=\"text-align: right;\">\n",
              "      <th></th>\n",
              "      <th>Média</th>\n",
              "      <th>Mediana</th>\n",
              "      <th>Desvio Padrão</th>\n",
              "      <th>Tempo Médio</th>\n",
              "    </tr>\n",
              "    <tr>\n",
              "      <th>classifier_name</th>\n",
              "      <th></th>\n",
              "      <th></th>\n",
              "      <th></th>\n",
              "      <th></th>\n",
              "    </tr>\n",
              "  </thead>\n",
              "  <tbody>\n",
              "    <tr>\n",
              "      <th>LinearSVC</th>\n",
              "      <td>0.999647</td>\n",
              "      <td>1.000000</td>\n",
              "      <td>0.001115</td>\n",
              "      <td>0.179092</td>\n",
              "    </tr>\n",
              "    <tr>\n",
              "      <th>LogisticRegression</th>\n",
              "      <td>0.997934</td>\n",
              "      <td>0.998313</td>\n",
              "      <td>0.002219</td>\n",
              "      <td>2.783454</td>\n",
              "    </tr>\n",
              "    <tr>\n",
              "      <th>MultinomialNB</th>\n",
              "      <td>0.994837</td>\n",
              "      <td>0.995537</td>\n",
              "      <td>0.003903</td>\n",
              "      <td>0.026137</td>\n",
              "    </tr>\n",
              "  </tbody>\n",
              "</table>\n",
              "</div>"
            ],
            "text/plain": [
              "                       Média   Mediana  Desvio Padrão  Tempo Médio\n",
              "classifier_name                                                   \n",
              "LinearSVC           0.999647  1.000000       0.001115     0.179092\n",
              "LogisticRegression  0.997934  0.998313       0.002219     2.783454\n",
              "MultinomialNB       0.994837  0.995537       0.003903     0.026137"
            ]
          },
          "execution_count": 40,
          "metadata": {
            "tags": []
          },
          "output_type": "execute_result"
        }
      ],
      "source": [
        "groups = result_df.groupby(['classifier_name'])\n",
        "summary = groups.agg({'f1_macro':['mean', 'median', 'std'], 'fit_time':'mean'})\n",
        "summary.columns = summary.columns.droplevel(0)\n",
        "summary.columns = ['Média', 'Mediana', 'Desvio Padrão', 'Tempo Médio']\n",
        "\n",
        "open('result_f1.txt', 'w').write(summary.to_latex())\n",
        "summary"
      ]
    },
    {
      "cell_type": "markdown",
      "metadata": {
        "id": "LOw3Es8bPPMJ"
      },
      "source": [
        "### Experimentos Usando TSNE"
      ]
    },
    {
      "cell_type": "code",
      "execution_count": null,
      "metadata": {
        "colab": {
          "base_uri": "https://localhost:8080/"
        },
        "id": "fEhpAvcuSOyN",
        "outputId": "345f21a2-0f09-431e-c1b5-bd4e75a941b7"
      },
      "outputs": [
        {
          "name": "stdout",
          "output_type": "stream",
          "text": [
            "fatal: destination path 'cd-diagram' already exists and is not an empty directory.\n"
          ]
        }
      ],
      "source": [
        "!git clone https://github.com/Tiagoblima/cd-diagram.git"
      ]
    },
    {
      "cell_type": "code",
      "execution_count": null,
      "metadata": {
        "colab": {
          "base_uri": "https://localhost:8080/",
          "height": 486
        },
        "id": "hViNn3e9RCub",
        "outputId": "9217dd95-2835-4387-a340-98b261c13dfb"
      },
      "outputs": [
        {
          "name": "stdout",
          "output_type": "stream",
          "text": [
            "['LinearSVC' 'MultinomialNB' 'LogisticRegression']\n",
            "LinearSVC             4.0\n",
            "LogisticRegression    0.0\n",
            "MultinomialNB         0.0\n",
            "dtype: float64\n",
            "MultinomialNB         2.65\n",
            "LogisticRegression    1.95\n",
            "LinearSVC             1.40\n",
            "dtype: float64\n",
            "('LinearSVC', 'MultinomialNB', 0.006714389785549478, True)\n",
            "('LogisticRegression', 'MultinomialNB', 0.02743505651465022, False)\n",
            "('LinearSVC', 'LogisticRegression', 0.04550026389635839, False)\n",
            "Index(['MultinomialNB', 'LogisticRegression', 'LinearSVC'], dtype='object')\n",
            "[1, 0]\n",
            "[1, 2]\n",
            "findfont: Font family ['sans-serif'] not found. Falling back to DejaVu Sans.\n",
            "findfont: Font family ['sans-serif'] not found. Falling back to DejaVu Sans.\n",
            "findfont: Font family ['sans-serif'] not found. Falling back to DejaVu Sans.\n"
          ]
        },
        {
          "data": {
            "image/png": "[encoded data removed]",
            "text/plain": [
              "<IPython.core.display.Image object>"
            ]
          },
          "metadata": {
            "tags": []
          },
          "output_type": "display_data"
        }
      ],
      "source": [
        "from IPython.display import Image, display\n",
        "\n",
        "!python cd-diagram/main.py --results result_tf.csv --metric accuracy --img cd-diagram1.png\n",
        "display(Image('cd-diagram1.png'))"
      ]
    },
    {
      "cell_type": "code",
      "execution_count": null,
      "metadata": {
        "colab": {
          "base_uri": "https://localhost:8080/",
          "height": 451
        },
        "id": "inAFgv4XMOZG",
        "outputId": "ef3cef9c-a2ce-428d-991b-657d1b54dea9"
      },
      "outputs": [
        {
          "name": "stdout",
          "output_type": "stream",
          "text": [
            "['LinearSVC' 'MultinomialNB' 'LogisticRegression']\n",
            "LinearSVC             5.0\n",
            "LogisticRegression    0.0\n",
            "MultinomialNB         0.0\n",
            "dtype: float64\n",
            "MultinomialNB         2.70\n",
            "LogisticRegression    1.95\n",
            "LinearSVC             1.35\n",
            "dtype: float64\n",
            "('LinearSVC', 'MultinomialNB', 0.007640794824709983, True)\n",
            "('LogisticRegression', 'MultinomialNB', 0.016924122629515245, True)\n",
            "('LinearSVC', 'LogisticRegression', 0.027670427963096964, True)\n",
            "Index(['MultinomialNB', 'LogisticRegression', 'LinearSVC'], dtype='object')\n",
            "findfont: Font family ['sans-serif'] not found. Falling back to DejaVu Sans.\n",
            "findfont: Font family ['sans-serif'] not found. Falling back to DejaVu Sans.\n",
            "findfont: Font family ['sans-serif'] not found. Falling back to DejaVu Sans.\n"
          ]
        },
        {
          "data": {
            "image/png": "[encoded data removed]",
            "text/plain": [
              "<IPython.core.display.Image object>"
            ]
          },
          "metadata": {
            "tags": []
          },
          "output_type": "display_data"
        }
      ],
      "source": [
        "from IPython.display import Image, display\n",
        "\n",
        "!python cd-diagram/main.py --results result_tf.csv --metric f1_macro --img cd-f1_macro.png\n",
        "display(Image('cd-f1_macro.png'))"
      ]
    }
  ],
  "metadata": {
    "colab": {
      "collapsed_sections": [],
      "name": "VA2RecPad.ipynb",
      "provenance": [],
      "toc_visible": true
    },
    "kernelspec": {
      "display_name": "Python 3",
      "language": "python",
      "name": "python3"
    },
    "language_info": {}
  },
  "nbformat": 4,
  "nbformat_minor": 0
}