{
 "nbformat": 4,
 "nbformat_minor": 0,
 "metadata": {
  "colab": {
   "name": "Supervised_Classification_Benchmark.ipynb",
   "provenance": [],
   "collapsed_sections": []
  },
  "kernelspec": {
   "name": "python3",
   "language": "python",
   "display_name": "Python 3"
  },
  "language_info": {}
 },
 "cells": [
  {
   "cell_type": "markdown",
   "metadata": {
    "id": "K1qNXkyO9k4D"
   },
   "source": [
    "# Verificação de Aprendizagem - Machine Learning"
   ]
  },
  {
   "cell_type": "markdown",
   "metadata": {
    "id": "rtOizo05Mxij"
   },
   "source": [
    "## Experimentos"
   ]
  },
  {
   "cell_type": "markdown",
   "metadata": {
    "id": "BWrGcVJtMuSZ"
   },
   "source": [
    "### Carregando os Dados"
   ]
  },
  {
   "cell_type": "code",
   "metadata": {
    "id": "2fcPLiPV7H8p"
   },
   "source": [
    "import pandas as pd\n",
    "import numpy as np\n",
    "import re\n",
    "\n",
    "import unicodedata\n",
    "from sklearn.metrics import plot_confusion_matrix\n",
    "from sklearn.model_selection import train_test_split"
   ],
   "execution_count": 1,
   "outputs": []
  },
  {
   "cell_type": "code",
   "metadata": {
    "id": "m0ixp0IyhHt0"
   },
   "source": [
    "# Converts the unicode file to ascii\n",
    "def unicode_to_ascii(s):\n",
    "    return ''.join(c for c in unicodedata.normalize('NFD', s)\n",
    "                   if unicodedata.category(c) != 'Mn')\n",
    "\n",
    "\n",
    "def preprocess_sentence(w):\n",
    "    w = w.strip().lower()\n",
    "\n",
    "    # creating a space between a word and the punctuation following it eg: \"he is a boy.\" => \"he is a boy .\"\n",
    "    # Reference:- https://stackoverflow.com/questions/3645931/python-padding-punctuation-with-white-spaces-keeping\n",
    "    # -punctuation\n",
    "    w = re.sub(r\"([?.!,¿#@0-9])\", r\"\", w)\n",
    "\n",
    "    return w"
   ],
   "execution_count": 2,
   "outputs": []
  },
  {
   "cell_type": "code",
   "metadata": {
    "id": "kq17Wq5noM87"
   },
   "source": [
    "from sklearn.feature_extraction.text import CountVectorizer, TfidfTransformer\n",
    "from sklearn.feature_extraction.text import TfidfVectorizer\n",
    "from sklearn.model_selection import ShuffleSplit\n",
    "from sklearn.model_selection import cross_validate\n",
    "from sklearn.model_selection import ShuffleSplit\n",
    "from sklearn.pipeline import Pipeline\n",
    "from sklearn.manifold import TSNE\n",
    "from sklearn.svm import LinearSVC\n",
    "from sklearn.naive_bayes import MultinomialNB\n",
    "from sklearn.linear_model import LogisticRegression\n",
    "from sklearn.decomposition import TruncatedSVD\n",
    "from sklearn.preprocessing import MinMaxScaler\n",
    "from collections import Counter"
   ],
   "execution_count": 3,
   "outputs": []
  },
  {
   "cell_type": "code",
   "metadata": {
    "id": "Ql5yCEG5tCHb"
   },
   "source": [
    "samples = pd.read_csv('datasets/samples.csv')\n",
    "X = samples['TEXT'].apply(preprocess_sentence).to_numpy()\n",
    "y = samples['LANG'].to_numpy()\n"
   ],
   "execution_count": 6,
   "outputs": []
  },
  {
   "cell_type": "code",
   "metadata": {
    "id": "cxZQHimKKNij",
    "colab": {
     "base_uri": "https://localhost:8080/"
    },
    "outputId": "1dfa1f29-ff95-4c66-daa2-974bdc3e82e6"
   },
   "source": [
    "tfidf_word = TfidfVectorizer(analyzer='word', ngram_range=(2, 3))\n",
    "X_word_transformed = tfidf_word.fit_transform(X)\n",
    "\n",
    "tfidf_char = TfidfVectorizer(analyzer='char', ngram_range=(2, 3))\n",
    "X_char_transformed = tfidf_char.fit_transform(X)\n",
    "X_char_transformed.shape"
   ],
   "execution_count": 7,
   "outputs": [
    {
     "output_type": "execute_result",
     "data": {
      "text/plain": [
       "(2600, 18573)"
      ]
     },
     "metadata": {
      "tags": []
     },
     "execution_count": 7
    }
   ]
  },
  {
   "cell_type": "markdown",
   "metadata": {
    "id": "iZijFcMi-khX"
   },
   "source": [
    "### Análise Usando TSNE\n",
    "\n",
    "Em análise preliminar, pode-se ver na figura a disposição dos idiomas em uma projeção 2D. \n",
    "Foi utilizado *t-distributed Stochastic Neighbor Embedding* (TSNE) para a redução da dimensionalidade e uma visualização dos dados.\n",
    "Essa é uma forma bastante popular para visualização de dados em alta-dimensionalidade.\n",
    "Nessa técnica os objetos são distribuídos de tal forma que pares semelhantes tem uma alta probabilidade na distribuição.\n",
    "O modelo é treinado para minimizar a divergência em Kullback-Leibler *van2014accelerating*.\n",
    "Após a redução da dimensionalidade das originais 18095 para apenas duas,  os dados foram postos em uma escala entre 0 e 1."
   ]
  },
  {
   "cell_type": "code",
   "metadata": {
    "colab": {
     "base_uri": "https://localhost:8080/"
    },
    "id": "SI6bwdwHoVKk",
    "outputId": "8f7a5c2e-0076-4304-e22d-0c84bf0e1ade"
   },
   "source": [
    "\n",
    "X_word_embedded = TSNE(n_components=2).fit_transform(X_word_transformed)    \n",
    "X_char_embedded = TSNE(n_components=2).fit_transform(X_char_transformed)    \n",
    "\n",
    "X_word_embedded.shape"
   ],
   "execution_count": 8,
   "outputs": [
    {
     "output_type": "execute_result",
     "data": {
      "text/plain": [
       "(2600, 2)"
      ]
     },
     "metadata": {
      "tags": []
     },
     "execution_count": 8
    }
   ]
  },
  {
   "cell_type": "markdown",
   "metadata": {
    "id": "iUpCYJT2Nw-Y"
   },
   "source": [
    "### Normalizando \n",
    "\n",
    "Aqui os dados são colocados entre 0 e 1"
   ]
  },
  {
   "cell_type": "markdown",
   "metadata": {
    "id": "0cQq7Re1N7R7"
   },
   "source": [
    "### Visalização \n",
    "\n",
    "Em análise preliminar, pode-se ver na figura a disposição dos idiomas em uma projeção 2D. \n",
    "Foi utilizado (TSNE) para a redução da dimensionalidade e uma visualização dos dados.\n",
    "Essa é uma forma bastante popular para visualização de dados em alta-dimensionalidade.\n",
    "Nessa técnica os objetos são distribuídos de tal forma que pares semelhantes tem uma alta probabilidade na distribuição.\n",
    "O modelo é treinado para minimizar a divergência em Kullback-Leibler *van2014accelerating*.\n",
    "Após a redução da dimensionalidade das originais 18095 para apenas duas,  os dados foram postos em uma escala entre 0 e 1."
   ]
  },
  {
   "cell_type": "code",
   "metadata": {
    "colab": {
     "base_uri": "https://localhost:8080/",
     "height": 419
    },
    "id": "ab9FYytVdhC1",
    "outputId": "2e2fa8a7-cb49-4d5f-a56b-7173cc25c3de"
   },
   "source": [
    "word_df = pd.DataFrame(X_word_embedded, columns=['D1', 'D2'])\n",
    "word_df['Language'] = y\n",
    "word_df['analyzer'] = 'word'\n",
    "\n",
    "word_df"
   ],
   "execution_count": 9,
   "outputs": [
    {
     "output_type": "execute_result",
     "data": {
      "text/html": [
       "<div>\n",
       "<style scoped>\n",
       "    .dataframe tbody tr th:only-of-type {\n",
       "        vertical-align: middle;\n",
       "    }\n",
       "\n",
       "    .dataframe tbody tr th {\n",
       "        vertical-align: top;\n",
       "    }\n",
       "\n",
       "    .dataframe thead th {\n",
       "        text-align: right;\n",
       "    }\n",
       "</style>\n",
       "<table border=\"1\" class=\"dataframe\">\n",
       "  <thead>\n",
       "    <tr style=\"text-align: right;\">\n",
       "      <th></th>\n",
       "      <th>D1</th>\n",
       "      <th>D2</th>\n",
       "      <th>Language</th>\n",
       "      <th>analyzer</th>\n",
       "    </tr>\n",
       "  </thead>\n",
       "  <tbody>\n",
       "    <tr>\n",
       "      <th>0</th>\n",
       "      <td>-11.206353</td>\n",
       "      <td>6.958729</td>\n",
       "      <td>apalai</td>\n",
       "      <td>word</td>\n",
       "    </tr>\n",
       "    <tr>\n",
       "      <th>1</th>\n",
       "      <td>-14.878751</td>\n",
       "      <td>6.856498</td>\n",
       "      <td>apalai</td>\n",
       "      <td>word</td>\n",
       "    </tr>\n",
       "    <tr>\n",
       "      <th>2</th>\n",
       "      <td>-13.647000</td>\n",
       "      <td>8.879553</td>\n",
       "      <td>apalai</td>\n",
       "      <td>word</td>\n",
       "    </tr>\n",
       "    <tr>\n",
       "      <th>3</th>\n",
       "      <td>-10.906829</td>\n",
       "      <td>4.137383</td>\n",
       "      <td>apalai</td>\n",
       "      <td>word</td>\n",
       "    </tr>\n",
       "    <tr>\n",
       "      <th>4</th>\n",
       "      <td>-18.934649</td>\n",
       "      <td>11.903968</td>\n",
       "      <td>apalai</td>\n",
       "      <td>word</td>\n",
       "    </tr>\n",
       "    <tr>\n",
       "      <th>...</th>\n",
       "      <td>...</td>\n",
       "      <td>...</td>\n",
       "      <td>...</td>\n",
       "      <td>...</td>\n",
       "    </tr>\n",
       "    <tr>\n",
       "      <th>2595</th>\n",
       "      <td>-39.089184</td>\n",
       "      <td>-22.058907</td>\n",
       "      <td>xavante</td>\n",
       "      <td>word</td>\n",
       "    </tr>\n",
       "    <tr>\n",
       "      <th>2596</th>\n",
       "      <td>-0.778545</td>\n",
       "      <td>1.383812</td>\n",
       "      <td>xavante</td>\n",
       "      <td>word</td>\n",
       "    </tr>\n",
       "    <tr>\n",
       "      <th>2597</th>\n",
       "      <td>-37.951019</td>\n",
       "      <td>-30.592882</td>\n",
       "      <td>xavante</td>\n",
       "      <td>word</td>\n",
       "    </tr>\n",
       "    <tr>\n",
       "      <th>2598</th>\n",
       "      <td>-36.271015</td>\n",
       "      <td>-27.084986</td>\n",
       "      <td>xavante</td>\n",
       "      <td>word</td>\n",
       "    </tr>\n",
       "    <tr>\n",
       "      <th>2599</th>\n",
       "      <td>-35.320141</td>\n",
       "      <td>-31.815325</td>\n",
       "      <td>xavante</td>\n",
       "      <td>word</td>\n",
       "    </tr>\n",
       "  </tbody>\n",
       "</table>\n",
       "<p>2600 rows × 4 columns</p>\n",
       "</div>"
      ],
      "text/plain": [
       "             D1         D2 Language analyzer\n",
       "0    -11.206353   6.958729   apalai     word\n",
       "1    -14.878751   6.856498   apalai     word\n",
       "2    -13.647000   8.879553   apalai     word\n",
       "3    -10.906829   4.137383   apalai     word\n",
       "4    -18.934649  11.903968   apalai     word\n",
       "...         ...        ...      ...      ...\n",
       "2595 -39.089184 -22.058907  xavante     word\n",
       "2596  -0.778545   1.383812  xavante     word\n",
       "2597 -37.951019 -30.592882  xavante     word\n",
       "2598 -36.271015 -27.084986  xavante     word\n",
       "2599 -35.320141 -31.815325  xavante     word\n",
       "\n",
       "[2600 rows x 4 columns]"
      ]
     },
     "metadata": {
      "tags": []
     },
     "execution_count": 9
    }
   ]
  },
  {
   "cell_type": "code",
   "metadata": {
    "colab": {
     "base_uri": "https://localhost:8080/",
     "height": 419
    },
    "id": "svoeW_Uwd0wF",
    "outputId": "6a4ff27d-207c-4652-9857-3cdd57f9e8d5"
   },
   "source": [
    "char_df = pd.DataFrame(X_char_embedded, columns=['D1', 'D2'])\n",
    "char_df['Language'] = y\n",
    "char_df['analyzer'] = 'char'\n",
    "char_df"
   ],
   "execution_count": 10,
   "outputs": [
    {
     "output_type": "execute_result",
     "data": {
      "text/html": [
       "<div>\n",
       "<style scoped>\n",
       "    .dataframe tbody tr th:only-of-type {\n",
       "        vertical-align: middle;\n",
       "    }\n",
       "\n",
       "    .dataframe tbody tr th {\n",
       "        vertical-align: top;\n",
       "    }\n",
       "\n",
       "    .dataframe thead th {\n",
       "        text-align: right;\n",
       "    }\n",
       "</style>\n",
       "<table border=\"1\" class=\"dataframe\">\n",
       "  <thead>\n",
       "    <tr style=\"text-align: right;\">\n",
       "      <th></th>\n",
       "      <th>D1</th>\n",
       "      <th>D2</th>\n",
       "      <th>Language</th>\n",
       "      <th>analyzer</th>\n",
       "    </tr>\n",
       "  </thead>\n",
       "  <tbody>\n",
       "    <tr>\n",
       "      <th>0</th>\n",
       "      <td>-18.419529</td>\n",
       "      <td>-38.906513</td>\n",
       "      <td>apalai</td>\n",
       "      <td>char</td>\n",
       "    </tr>\n",
       "    <tr>\n",
       "      <th>1</th>\n",
       "      <td>-18.066486</td>\n",
       "      <td>-41.387135</td>\n",
       "      <td>apalai</td>\n",
       "      <td>char</td>\n",
       "    </tr>\n",
       "    <tr>\n",
       "      <th>2</th>\n",
       "      <td>-22.102474</td>\n",
       "      <td>-41.966396</td>\n",
       "      <td>apalai</td>\n",
       "      <td>char</td>\n",
       "    </tr>\n",
       "    <tr>\n",
       "      <th>3</th>\n",
       "      <td>-18.181709</td>\n",
       "      <td>-40.467262</td>\n",
       "      <td>apalai</td>\n",
       "      <td>char</td>\n",
       "    </tr>\n",
       "    <tr>\n",
       "      <th>4</th>\n",
       "      <td>-18.707504</td>\n",
       "      <td>-39.199951</td>\n",
       "      <td>apalai</td>\n",
       "      <td>char</td>\n",
       "    </tr>\n",
       "    <tr>\n",
       "      <th>...</th>\n",
       "      <td>...</td>\n",
       "      <td>...</td>\n",
       "      <td>...</td>\n",
       "      <td>...</td>\n",
       "    </tr>\n",
       "    <tr>\n",
       "      <th>2595</th>\n",
       "      <td>35.004093</td>\n",
       "      <td>-2.234784</td>\n",
       "      <td>xavante</td>\n",
       "      <td>char</td>\n",
       "    </tr>\n",
       "    <tr>\n",
       "      <th>2596</th>\n",
       "      <td>33.606026</td>\n",
       "      <td>-2.007572</td>\n",
       "      <td>xavante</td>\n",
       "      <td>char</td>\n",
       "    </tr>\n",
       "    <tr>\n",
       "      <th>2597</th>\n",
       "      <td>36.300022</td>\n",
       "      <td>-3.098833</td>\n",
       "      <td>xavante</td>\n",
       "      <td>char</td>\n",
       "    </tr>\n",
       "    <tr>\n",
       "      <th>2598</th>\n",
       "      <td>33.598019</td>\n",
       "      <td>-2.564097</td>\n",
       "      <td>xavante</td>\n",
       "      <td>char</td>\n",
       "    </tr>\n",
       "    <tr>\n",
       "      <th>2599</th>\n",
       "      <td>37.302826</td>\n",
       "      <td>-1.157690</td>\n",
       "      <td>xavante</td>\n",
       "      <td>char</td>\n",
       "    </tr>\n",
       "  </tbody>\n",
       "</table>\n",
       "<p>2600 rows × 4 columns</p>\n",
       "</div>"
      ],
      "text/plain": [
       "             D1         D2 Language analyzer\n",
       "0    -18.419529 -38.906513   apalai     char\n",
       "1    -18.066486 -41.387135   apalai     char\n",
       "2    -22.102474 -41.966396   apalai     char\n",
       "3    -18.181709 -40.467262   apalai     char\n",
       "4    -18.707504 -39.199951   apalai     char\n",
       "...         ...        ...      ...      ...\n",
       "2595  35.004093  -2.234784  xavante     char\n",
       "2596  33.606026  -2.007572  xavante     char\n",
       "2597  36.300022  -3.098833  xavante     char\n",
       "2598  33.598019  -2.564097  xavante     char\n",
       "2599  37.302826  -1.157690  xavante     char\n",
       "\n",
       "[2600 rows x 4 columns]"
      ]
     },
     "metadata": {
      "tags": []
     },
     "execution_count": 10
    }
   ]
  },
  {
   "cell_type": "code",
   "metadata": {
    "colab": {
     "base_uri": "https://localhost:8080/",
     "height": 419
    },
    "id": "c0A5fQY5d8lk",
    "outputId": "790e2414-175c-4ca8-ad74-cd595b4f985a"
   },
   "source": [
    "df = pd.concat([word_df, char_df])\n",
    "df"
   ],
   "execution_count": 11,
   "outputs": [
    {
     "output_type": "execute_result",
     "data": {
      "text/html": [
       "<div>\n",
       "<style scoped>\n",
       "    .dataframe tbody tr th:only-of-type {\n",
       "        vertical-align: middle;\n",
       "    }\n",
       "\n",
       "    .dataframe tbody tr th {\n",
       "        vertical-align: top;\n",
       "    }\n",
       "\n",
       "    .dataframe thead th {\n",
       "        text-align: right;\n",
       "    }\n",
       "</style>\n",
       "<table border=\"1\" class=\"dataframe\">\n",
       "  <thead>\n",
       "    <tr style=\"text-align: right;\">\n",
       "      <th></th>\n",
       "      <th>D1</th>\n",
       "      <th>D2</th>\n",
       "      <th>Language</th>\n",
       "      <th>analyzer</th>\n",
       "    </tr>\n",
       "  </thead>\n",
       "  <tbody>\n",
       "    <tr>\n",
       "      <th>0</th>\n",
       "      <td>-11.206353</td>\n",
       "      <td>6.958729</td>\n",
       "      <td>apalai</td>\n",
       "      <td>word</td>\n",
       "    </tr>\n",
       "    <tr>\n",
       "      <th>1</th>\n",
       "      <td>-14.878751</td>\n",
       "      <td>6.856498</td>\n",
       "      <td>apalai</td>\n",
       "      <td>word</td>\n",
       "    </tr>\n",
       "    <tr>\n",
       "      <th>2</th>\n",
       "      <td>-13.647000</td>\n",
       "      <td>8.879553</td>\n",
       "      <td>apalai</td>\n",
       "      <td>word</td>\n",
       "    </tr>\n",
       "    <tr>\n",
       "      <th>3</th>\n",
       "      <td>-10.906829</td>\n",
       "      <td>4.137383</td>\n",
       "      <td>apalai</td>\n",
       "      <td>word</td>\n",
       "    </tr>\n",
       "    <tr>\n",
       "      <th>4</th>\n",
       "      <td>-18.934649</td>\n",
       "      <td>11.903968</td>\n",
       "      <td>apalai</td>\n",
       "      <td>word</td>\n",
       "    </tr>\n",
       "    <tr>\n",
       "      <th>...</th>\n",
       "      <td>...</td>\n",
       "      <td>...</td>\n",
       "      <td>...</td>\n",
       "      <td>...</td>\n",
       "    </tr>\n",
       "    <tr>\n",
       "      <th>2595</th>\n",
       "      <td>35.004093</td>\n",
       "      <td>-2.234784</td>\n",
       "      <td>xavante</td>\n",
       "      <td>char</td>\n",
       "    </tr>\n",
       "    <tr>\n",
       "      <th>2596</th>\n",
       "      <td>33.606026</td>\n",
       "      <td>-2.007572</td>\n",
       "      <td>xavante</td>\n",
       "      <td>char</td>\n",
       "    </tr>\n",
       "    <tr>\n",
       "      <th>2597</th>\n",
       "      <td>36.300022</td>\n",
       "      <td>-3.098833</td>\n",
       "      <td>xavante</td>\n",
       "      <td>char</td>\n",
       "    </tr>\n",
       "    <tr>\n",
       "      <th>2598</th>\n",
       "      <td>33.598019</td>\n",
       "      <td>-2.564097</td>\n",
       "      <td>xavante</td>\n",
       "      <td>char</td>\n",
       "    </tr>\n",
       "    <tr>\n",
       "      <th>2599</th>\n",
       "      <td>37.302826</td>\n",
       "      <td>-1.157690</td>\n",
       "      <td>xavante</td>\n",
       "      <td>char</td>\n",
       "    </tr>\n",
       "  </tbody>\n",
       "</table>\n",
       "<p>5200 rows × 4 columns</p>\n",
       "</div>"
      ],
      "text/plain": [
       "             D1         D2 Language analyzer\n",
       "0    -11.206353   6.958729   apalai     word\n",
       "1    -14.878751   6.856498   apalai     word\n",
       "2    -13.647000   8.879553   apalai     word\n",
       "3    -10.906829   4.137383   apalai     word\n",
       "4    -18.934649  11.903968   apalai     word\n",
       "...         ...        ...      ...      ...\n",
       "2595  35.004093  -2.234784  xavante     char\n",
       "2596  33.606026  -2.007572  xavante     char\n",
       "2597  36.300022  -3.098833  xavante     char\n",
       "2598  33.598019  -2.564097  xavante     char\n",
       "2599  37.302826  -1.157690  xavante     char\n",
       "\n",
       "[5200 rows x 4 columns]"
      ]
     },
     "metadata": {
      "tags": []
     },
     "execution_count": 11
    }
   ]
  },
  {
   "cell_type": "code",
   "metadata": {
    "colab": {
     "base_uri": "https://localhost:8080/",
     "height": 358
    },
    "id": "tDZxfVrOq4au",
    "outputId": "c8d6b8f0-ee6e-4e65-83f6-5bf58754dc35"
   },
   "source": [
    "import matplotlib.pyplot as plt\n",
    "\n",
    "import seaborn as sns\n",
    "\n",
    "\n",
    "sns.set_theme(style=\"darkgrid\")\n",
    "\n",
    "g = sns.FacetGrid(df, col=\"analyzer\", hue=\"Language\", height=4,\n",
    "                       legend_out=True)\n",
    "g.map(sns.scatterplot, \"D1\", \"D2\")\n",
    "g.add_legend(loc='lower center',\n",
    "             bbox_to_anchor=(0.3, -0.2),\n",
    "             \n",
    "          ncol=4)\n",
    "\n",
    "plt.savefig('tsne_vis.pdf')"
   ],
   "execution_count": 12,
   "outputs": [
    {
     "output_type": "display_data",
     "data": {
      "image/png": "[encoded data removed]",
      "text/plain": [
       "<Figure size 1024.62x288 with 2 Axes>"
      ]
     },
     "metadata": {
      "tags": []
     }
    }
   ]
  },
  {
   "cell_type": "markdown",
   "metadata": {
    "id": "FmblnpqcRQ6G"
   },
   "source": [
    "### Preprocessando e Extraindo Features"
   ]
  },
  {
   "cell_type": "code",
   "metadata": {
    "id": "bYMpK5CBpYNe"
   },
   "source": [
    "CLFS_LIST = [('Word TFIDF+LinearSVC',  Pipeline([('tfidf', TfidfVectorizer(analyzer='word', ngram_range=(2, 3))), ('svc', LinearSVC())])),\n",
    "             ('Word TFIDF+MultinomialNB',Pipeline([('tfidf', TfidfVectorizer(analyzer='word', ngram_range=(2, 3))), ('multinomialnb', MultinomialNB())])),\n",
    "             ('Word TFIDF+LogisticRegression',Pipeline([('tfidf', TfidfVectorizer(analyzer='word', ngram_range=(2, 3))), ('multinomialnb', LogisticRegression())])),\n",
    "             ('Char TFIDF+LinearSVC',  Pipeline([('tfidf', TfidfVectorizer(analyzer='char', ngram_range=(2, 3))), ('svc', LinearSVC())])),\n",
    "             ('Char TFIDF+MultinomialNB',Pipeline([('tfidf', TfidfVectorizer(analyzer='char', ngram_range=(2, 3))), ('multinomialnb', MultinomialNB())])),\n",
    "             ('Char TFIDF+LogisticRegression',Pipeline([('tfidf', TfidfVectorizer(analyzer='char', ngram_range=(2, 3))), ('multinomialnb', LogisticRegression())]))]\n"
   ],
   "execution_count": 13,
   "outputs": []
  },
  {
   "cell_type": "code",
   "metadata": {
    "colab": {
     "base_uri": "https://localhost:8080/"
    },
    "id": "Rf7OtLbwphzl",
    "outputId": "f087ba4d-16cb-4029-b6ae-1e4ff3626755"
   },
   "source": [
    "samples.sample(frac=0.1).value_counts('LANG')"
   ],
   "execution_count": 14,
   "outputs": [
    {
     "output_type": "execute_result",
     "data": {
      "text/plain": [
       "LANG\n",
       "macushi         15\n",
       "bakairi         14\n",
       "kadiweu         14\n",
       "kagwahiva       14\n",
       "kaigang         13\n",
       "maxakali        12\n",
       "terena          11\n",
       "apinaye         11\n",
       "paumari         11\n",
       "nadeb           11\n",
       "urubu-kaapor    11\n",
       "apalai          10\n",
       "tukano          10\n",
       "rikbaktsa       10\n",
       "kaiwa            9\n",
       "xavante          9\n",
       "satere-mawe      9\n",
       "kayapo           9\n",
       "karaja           8\n",
       "munduruku        8\n",
       "guarani          8\n",
       "parecis          8\n",
       "apurina          8\n",
       "kayabi           7\n",
       "nambikuara       6\n",
       "guajajara        4\n",
       "dtype: int64"
      ]
     },
     "metadata": {
      "tags": []
     },
     "execution_count": 14
    }
   ]
  },
  {
   "cell_type": "code",
   "metadata": {
    "colab": {
     "base_uri": "https://localhost:8080/",
     "height": 572
    },
    "id": "gaWU92zgpZLX",
    "outputId": "5696dd20-9ef2-4ca7-9d06-2b6c79a6e9f4"
   },
   "source": [
    "from sklearn.model_selection import StratifiedKFold\n",
    "exp_timeline = pd.DataFrame({'accuracy': [],'classifier_name':[]})\n",
    "from tqdm import tqdm\n",
    "for i in range(2,11):\n",
    "  for clf_name,estimator in tqdm(CLFS_LIST):\n",
    "    skf = StratifiedKFold(n_splits=10)\n",
    "    small_sample = samples.sample(frac=i/10)\n",
    "    X_sample = small_sample['TEXT'].apply(preprocess_sentence).to_numpy()\n",
    "    y_sample = small_sample['LANG'].to_numpy()\n",
    "\n",
    "    scores = cross_validate(estimator, X_sample, y_sample, cv=skf,\n",
    "                              scoring=('accuracy', 'f1_macro'), return_train_score=False)\n",
    "    exp_df = pd.DataFrame({\n",
    "        'exp_id':i-1,\n",
    "        'accuracy':scores['test_accuracy'],\n",
    "        'f1_macro':scores['test_f1_macro'],\n",
    "        'classifier_name':[clf_name for _ in range(10)],\n",
    "        \n",
    "        'dataset_name':[str(i*10)+'%' for _ in range(10)]\n",
    "    })\n",
    "\n",
    "    exp_timeline = exp_timeline.append(exp_df)\n",
    "\n",
    "exp_timeline"
   ],
   "execution_count": 15,
   "outputs": [
    {
     "output_type": "stream",
     "text": [
      "100%|██████████| 6/6 [01:12<00:00, 12.02s/it]\n",
      "100%|██████████| 6/6 [01:50<00:00, 18.45s/it]\n",
      "100%|██████████| 6/6 [02:28<00:00, 24.72s/it]\n",
      "100%|██████████| 6/6 [03:07<00:00, 31.32s/it]\n",
      "100%|██████████| 6/6 [03:49<00:00, 38.25s/it]\n",
      "100%|██████████| 6/6 [04:15<00:00, 42.53s/it]\n",
      "100%|██████████| 6/6 [05:03<00:00, 50.63s/it]\n",
      "100%|██████████| 6/6 [05:46<00:00, 57.82s/it]\n",
      "100%|██████████| 6/6 [05:50<00:00, 58.47s/it]\n"
     ],
     "name": "stderr"
    },
    {
     "output_type": "execute_result",
     "data": {
      "text/html": [
       "<div>\n",
       "<style scoped>\n",
       "    .dataframe tbody tr th:only-of-type {\n",
       "        vertical-align: middle;\n",
       "    }\n",
       "\n",
       "    .dataframe tbody tr th {\n",
       "        vertical-align: top;\n",
       "    }\n",
       "\n",
       "    .dataframe thead th {\n",
       "        text-align: right;\n",
       "    }\n",
       "</style>\n",
       "<table border=\"1\" class=\"dataframe\">\n",
       "  <thead>\n",
       "    <tr style=\"text-align: right;\">\n",
       "      <th></th>\n",
       "      <th>accuracy</th>\n",
       "      <th>classifier_name</th>\n",
       "      <th>exp_id</th>\n",
       "      <th>f1_macro</th>\n",
       "      <th>dataset_name</th>\n",
       "    </tr>\n",
       "  </thead>\n",
       "  <tbody>\n",
       "    <tr>\n",
       "      <th>0</th>\n",
       "      <td>0.923077</td>\n",
       "      <td>Word TFIDF+LinearSVC</td>\n",
       "      <td>1.0</td>\n",
       "      <td>0.917949</td>\n",
       "      <td>20%</td>\n",
       "    </tr>\n",
       "    <tr>\n",
       "      <th>1</th>\n",
       "      <td>0.903846</td>\n",
       "      <td>Word TFIDF+LinearSVC</td>\n",
       "      <td>1.0</td>\n",
       "      <td>0.892774</td>\n",
       "      <td>20%</td>\n",
       "    </tr>\n",
       "    <tr>\n",
       "      <th>2</th>\n",
       "      <td>0.942308</td>\n",
       "      <td>Word TFIDF+LinearSVC</td>\n",
       "      <td>1.0</td>\n",
       "      <td>0.935897</td>\n",
       "      <td>20%</td>\n",
       "    </tr>\n",
       "    <tr>\n",
       "      <th>3</th>\n",
       "      <td>0.884615</td>\n",
       "      <td>Word TFIDF+LinearSVC</td>\n",
       "      <td>1.0</td>\n",
       "      <td>0.886325</td>\n",
       "      <td>20%</td>\n",
       "    </tr>\n",
       "    <tr>\n",
       "      <th>4</th>\n",
       "      <td>0.923077</td>\n",
       "      <td>Word TFIDF+LinearSVC</td>\n",
       "      <td>1.0</td>\n",
       "      <td>0.921795</td>\n",
       "      <td>20%</td>\n",
       "    </tr>\n",
       "    <tr>\n",
       "      <th>...</th>\n",
       "      <td>...</td>\n",
       "      <td>...</td>\n",
       "      <td>...</td>\n",
       "      <td>...</td>\n",
       "      <td>...</td>\n",
       "    </tr>\n",
       "    <tr>\n",
       "      <th>5</th>\n",
       "      <td>1.000000</td>\n",
       "      <td>Char TFIDF+LogisticRegression</td>\n",
       "      <td>9.0</td>\n",
       "      <td>1.000000</td>\n",
       "      <td>100%</td>\n",
       "    </tr>\n",
       "    <tr>\n",
       "      <th>6</th>\n",
       "      <td>1.000000</td>\n",
       "      <td>Char TFIDF+LogisticRegression</td>\n",
       "      <td>9.0</td>\n",
       "      <td>1.000000</td>\n",
       "      <td>100%</td>\n",
       "    </tr>\n",
       "    <tr>\n",
       "      <th>7</th>\n",
       "      <td>1.000000</td>\n",
       "      <td>Char TFIDF+LogisticRegression</td>\n",
       "      <td>9.0</td>\n",
       "      <td>1.000000</td>\n",
       "      <td>100%</td>\n",
       "    </tr>\n",
       "    <tr>\n",
       "      <th>8</th>\n",
       "      <td>1.000000</td>\n",
       "      <td>Char TFIDF+LogisticRegression</td>\n",
       "      <td>9.0</td>\n",
       "      <td>1.000000</td>\n",
       "      <td>100%</td>\n",
       "    </tr>\n",
       "    <tr>\n",
       "      <th>9</th>\n",
       "      <td>1.000000</td>\n",
       "      <td>Char TFIDF+LogisticRegression</td>\n",
       "      <td>9.0</td>\n",
       "      <td>1.000000</td>\n",
       "      <td>100%</td>\n",
       "    </tr>\n",
       "  </tbody>\n",
       "</table>\n",
       "<p>540 rows × 5 columns</p>\n",
       "</div>"
      ],
      "text/plain": [
       "    accuracy                classifier_name  exp_id  f1_macro dataset_name\n",
       "0   0.923077           Word TFIDF+LinearSVC     1.0  0.917949          20%\n",
       "1   0.903846           Word TFIDF+LinearSVC     1.0  0.892774          20%\n",
       "2   0.942308           Word TFIDF+LinearSVC     1.0  0.935897          20%\n",
       "3   0.884615           Word TFIDF+LinearSVC     1.0  0.886325          20%\n",
       "4   0.923077           Word TFIDF+LinearSVC     1.0  0.921795          20%\n",
       "..       ...                            ...     ...       ...          ...\n",
       "5   1.000000  Char TFIDF+LogisticRegression     9.0  1.000000         100%\n",
       "6   1.000000  Char TFIDF+LogisticRegression     9.0  1.000000         100%\n",
       "7   1.000000  Char TFIDF+LogisticRegression     9.0  1.000000         100%\n",
       "8   1.000000  Char TFIDF+LogisticRegression     9.0  1.000000         100%\n",
       "9   1.000000  Char TFIDF+LogisticRegression     9.0  1.000000         100%\n",
       "\n",
       "[540 rows x 5 columns]"
      ]
     },
     "metadata": {
      "tags": []
     },
     "execution_count": 15
    }
   ]
  },
  {
   "cell_type": "code",
   "metadata": {
    "colab": {
     "base_uri": "https://localhost:8080/"
    },
    "id": "2AvobI7C7V7b",
    "outputId": "a2d49f1c-5aae-4da1-8207-27287228cc81"
   },
   "source": [
    "exp_timeline['dataset_name'].value_counts()"
   ],
   "execution_count": 16,
   "outputs": [
    {
     "output_type": "execute_result",
     "data": {
      "text/plain": [
       "20%     60\n",
       "60%     60\n",
       "30%     60\n",
       "70%     60\n",
       "50%     60\n",
       "40%     60\n",
       "100%    60\n",
       "90%     60\n",
       "80%     60\n",
       "Name: dataset_name, dtype: int64"
      ]
     },
     "metadata": {
      "tags": []
     },
     "execution_count": 16
    }
   ]
  },
  {
   "cell_type": "code",
   "metadata": {
    "id": "jjIqzx7X9PA-"
   },
   "source": [
    "time_analyses = exp_timeline.groupby(['dataset_name', 'classifier_name', 'exp_id']).agg({'accuracy': ['mean', 'std'], 'f1_macro': ['mean', 'std']})"
   ],
   "execution_count": 31,
   "outputs": []
  },
  {
   "cell_type": "code",
   "metadata": {
    "id": "-N6iHKjU-xCt"
   },
   "source": [
    "time_analyses.round(2).to_latex('agg.txt')"
   ],
   "execution_count": 43,
   "outputs": []
  },
  {
   "cell_type": "code",
   "metadata": {
    "id": "phRcyYdmIpBL"
   },
   "source": [
    "acc_time_analyses = time_analyses['accuracy'].reset_index(level=['dataset_name', 'classifier_name', 'exp_id'])\n",
    "acc_time_analyses.sort_values(by='exp_id', inplace=True)"
   ],
   "execution_count": 36,
   "outputs": []
  },
  {
   "cell_type": "code",
   "metadata": {
    "colab": {
     "base_uri": "https://localhost:8080/",
     "height": 355
    },
    "id": "B1j9k-dw8yAv",
    "outputId": "7c131d7f-0309-4d0a-b2fe-0cfc91249631"
   },
   "source": [
    "import seaborn as sns\n",
    "sns.set(rc={'figure.figsize':(7.,5)})\n",
    "g = sns.lineplot(data=exp_timeline,x='dataset_name', y='accuracy', hue='classifier_name')\n",
    "\n",
    "g.set_title('Accuracy vs Dataset')\n",
    "plt.savefig('acc_timeline_graph.pdf')"
   ],
   "execution_count": 42,
   "outputs": [
    {
     "output_type": "display_data",
     "data": {
      "image/png": "[encoded data removed]",
      "text/plain": [
       "<Figure size 504x360 with 1 Axes>"
      ]
     },
     "metadata": {
      "tags": []
     }
    }
   ]
  },
  {
   "cell_type": "code",
   "metadata": {
    "colab": {
     "base_uri": "https://localhost:8080/"
    },
    "id": "KLY9Ebhms71k",
    "outputId": "1ab7dc09-c673-42cb-d378-acdf7a6d5043"
   },
   "source": [
    "g.get_xticklabels()"
   ],
   "execution_count": 21,
   "outputs": [
    {
     "output_type": "execute_result",
     "data": {
      "text/plain": [
       "<a list of 9 Text major ticklabel objects>"
      ]
     },
     "metadata": {
      "tags": []
     },
     "execution_count": 21
    }
   ]
  },
  {
   "cell_type": "code",
   "metadata": {
    "id": "dbDA0s_JLYfQ"
   },
   "source": [
    "skf = StratifiedKFold(n_splits=10)\n",
    "#cv = ShuffleSplit(n_splits=10, test_size=0.33, random_state=42)\n",
    "\n",
    "def run_experiment(X_, y_):\n",
    " \n",
    "  exp_results = pd.DataFrame({'accuracy': [],'classifier_name':[],'fit_time':[]})\n",
    "  \n",
    "  \n",
    "  for clf in CLFS_LIST:\n",
    "    step = 1\n",
    "    clf_name, estimator = clf\n",
    "    print(f\"Treinando {clf_name}...\")\n",
    "    scores = cross_validate(estimator, X_, y_, cv=skf,\n",
    "                            scoring=('accuracy', 'f1_macro'),\n",
    "                            return_train_score=False)\n",
    "    exp_df = pd.DataFrame({\n",
    "        'accuracy':scores['test_accuracy'],\n",
    "        'f1_macro':scores['test_f1_macro'],\n",
    "        'classifier_name':[clf_name for _ in range(10)],\n",
    "        \n",
    "        'dataset_name':['dataset'+str(i) for i in range(step, step+10)]\n",
    "    })\n",
    "    exp_results = exp_results.append(exp_df)\n",
    " \n",
    "  return exp_results.fillna(0)"
   ],
   "execution_count": 22,
   "outputs": []
  },
  {
   "cell_type": "code",
   "metadata": {
    "id": "pOYUf0MYnLi4"
   },
   "source": [
    "!mkdir results/"
   ],
   "execution_count": 23,
   "outputs": []
  },
  {
   "cell_type": "code",
   "metadata": {
    "colab": {
     "base_uri": "https://localhost:8080/"
    },
    "id": "01cvJMxYOoe_",
    "outputId": "6e5b1e3d-68d8-4267-8ae8-887309fc43f8"
   },
   "source": [
    "result_df = run_experiment(X, y)\n",
    "result_df.to_csv('results/result.csv')"
   ],
   "execution_count": 24,
   "outputs": [
    {
     "output_type": "stream",
     "text": [
      "Treinando Word TFIDF+LinearSVC...\n",
      "Treinando Word TFIDF+MultinomialNB...\n",
      "Treinando Word TFIDF+LogisticRegression...\n",
      "Treinando Char TFIDF+LinearSVC...\n",
      "Treinando Char TFIDF+MultinomialNB...\n",
      "Treinando Char TFIDF+LogisticRegression...\n"
     ],
     "name": "stdout"
    }
   ]
  },
  {
   "cell_type": "code",
   "metadata": {
    "colab": {
     "base_uri": "https://localhost:8080/",
     "height": 297
    },
    "id": "o8NOrlFUOvOH",
    "outputId": "41f8913f-123c-414d-89b7-5380283154c3"
   },
   "source": [
    "groups = result_df.groupby(['classifier_name'])\n",
    "summary = groups.agg({'accuracy':['mean', 'median', 'std'],'f1_macro':['mean', 'median', 'std']}).round(3)\n",
    "\n",
    "open('results/result.txt', 'w', encoding='utf-8').write(summary.to_latex())\n",
    "summary"
   ],
   "execution_count": 25,
   "outputs": [
    {
     "output_type": "execute_result",
     "data": {
      "text/html": [
       "<div>\n",
       "<style scoped>\n",
       "    .dataframe tbody tr th:only-of-type {\n",
       "        vertical-align: middle;\n",
       "    }\n",
       "\n",
       "    .dataframe tbody tr th {\n",
       "        vertical-align: top;\n",
       "    }\n",
       "\n",
       "    .dataframe thead tr th {\n",
       "        text-align: left;\n",
       "    }\n",
       "\n",
       "    .dataframe thead tr:last-of-type th {\n",
       "        text-align: right;\n",
       "    }\n",
       "</style>\n",
       "<table border=\"1\" class=\"dataframe\">\n",
       "  <thead>\n",
       "    <tr>\n",
       "      <th></th>\n",
       "      <th colspan=\"3\" halign=\"left\">accuracy</th>\n",
       "      <th colspan=\"3\" halign=\"left\">f1_macro</th>\n",
       "    </tr>\n",
       "    <tr>\n",
       "      <th></th>\n",
       "      <th>mean</th>\n",
       "      <th>median</th>\n",
       "      <th>std</th>\n",
       "      <th>mean</th>\n",
       "      <th>median</th>\n",
       "      <th>std</th>\n",
       "    </tr>\n",
       "    <tr>\n",
       "      <th>classifier_name</th>\n",
       "      <th></th>\n",
       "      <th></th>\n",
       "      <th></th>\n",
       "      <th></th>\n",
       "      <th></th>\n",
       "      <th></th>\n",
       "    </tr>\n",
       "  </thead>\n",
       "  <tbody>\n",
       "    <tr>\n",
       "      <th>Char TFIDF+LinearSVC</th>\n",
       "      <td>1.000</td>\n",
       "      <td>1.000</td>\n",
       "      <td>0.000</td>\n",
       "      <td>1.000</td>\n",
       "      <td>1.000</td>\n",
       "      <td>0.000</td>\n",
       "    </tr>\n",
       "    <tr>\n",
       "      <th>Char TFIDF+LogisticRegression</th>\n",
       "      <td>1.000</td>\n",
       "      <td>1.000</td>\n",
       "      <td>0.000</td>\n",
       "      <td>1.000</td>\n",
       "      <td>1.000</td>\n",
       "      <td>0.000</td>\n",
       "    </tr>\n",
       "    <tr>\n",
       "      <th>Char TFIDF+MultinomialNB</th>\n",
       "      <td>1.000</td>\n",
       "      <td>1.000</td>\n",
       "      <td>0.000</td>\n",
       "      <td>1.000</td>\n",
       "      <td>1.000</td>\n",
       "      <td>0.000</td>\n",
       "    </tr>\n",
       "    <tr>\n",
       "      <th>Word TFIDF+LinearSVC</th>\n",
       "      <td>0.972</td>\n",
       "      <td>0.979</td>\n",
       "      <td>0.018</td>\n",
       "      <td>0.975</td>\n",
       "      <td>0.980</td>\n",
       "      <td>0.015</td>\n",
       "    </tr>\n",
       "    <tr>\n",
       "      <th>Word TFIDF+LogisticRegression</th>\n",
       "      <td>0.972</td>\n",
       "      <td>0.977</td>\n",
       "      <td>0.017</td>\n",
       "      <td>0.974</td>\n",
       "      <td>0.978</td>\n",
       "      <td>0.015</td>\n",
       "    </tr>\n",
       "    <tr>\n",
       "      <th>Word TFIDF+MultinomialNB</th>\n",
       "      <td>0.950</td>\n",
       "      <td>0.954</td>\n",
       "      <td>0.018</td>\n",
       "      <td>0.953</td>\n",
       "      <td>0.956</td>\n",
       "      <td>0.015</td>\n",
       "    </tr>\n",
       "  </tbody>\n",
       "</table>\n",
       "</div>"
      ],
      "text/plain": [
       "                              accuracy               f1_macro              \n",
       "                                  mean median    std     mean median    std\n",
       "classifier_name                                                            \n",
       "Char TFIDF+LinearSVC             1.000  1.000  0.000    1.000  1.000  0.000\n",
       "Char TFIDF+LogisticRegression    1.000  1.000  0.000    1.000  1.000  0.000\n",
       "Char TFIDF+MultinomialNB         1.000  1.000  0.000    1.000  1.000  0.000\n",
       "Word TFIDF+LinearSVC             0.972  0.979  0.018    0.975  0.980  0.015\n",
       "Word TFIDF+LogisticRegression    0.972  0.977  0.017    0.974  0.978  0.015\n",
       "Word TFIDF+MultinomialNB         0.950  0.954  0.018    0.953  0.956  0.015"
      ]
     },
     "metadata": {
      "tags": []
     },
     "execution_count": 25
    }
   ]
  },
  {
   "cell_type": "markdown",
   "metadata": {
    "id": "LOw3Es8bPPMJ"
   },
   "source": [
    "### Experimentos Usando TSNE"
   ]
  },
  {
   "cell_type": "code",
   "metadata": {
    "colab": {
     "base_uri": "https://localhost:8080/"
    },
    "id": "fEhpAvcuSOyN",
    "outputId": "b1ce7917-b989-4f26-b075-b9511d59dbc7"
   },
   "source": [
    "!git clone https://github.com/Tiagoblima/cd-diagram.git"
   ],
   "execution_count": 26,
   "outputs": [
    {
     "output_type": "stream",
     "text": [
      "Cloning into 'cd-diagram'...\n",
      "remote: Enumerating objects: 42, done.\u001B[K\n",
      "remote: Counting objects: 100% (14/14), done.\u001B[K\n",
      "remote: Compressing objects: 100% (11/11), done.\u001B[K\n",
      "remote: Total 42 (delta 4), reused 13 (delta 3), pack-reused 28\u001B[K\n",
      "Unpacking objects: 100% (42/42), done.\n"
     ],
     "name": "stdout"
    }
   ]
  },
  {
   "cell_type": "code",
   "metadata": {
    "id": "cZSzgjtO2ZPy"
   },
   "source": [
    "!mkdir images"
   ],
   "execution_count": 27,
   "outputs": []
  },
  {
   "cell_type": "code",
   "metadata": {
    "colab": {
     "base_uri": "https://localhost:8080/",
     "height": 289
    },
    "id": "hViNn3e9RCub",
    "outputId": "79ce7ebf-8408-4421-8a9d-6dd9f1551c29"
   },
   "source": [
    "from IPython.display import Image, display\n",
    "\n",
    "!python cd-diagram/main.py --results results/result.csv --metric accuracy --img images/cd-accuracy.pdf\n",
    "display(Image('images/cd-accuracy.png'))"
   ],
   "execution_count": 28,
   "outputs": [
    {
     "output_type": "stream",
     "text": [
      "['Word TFIDF+LinearSVC' 'Word TFIDF+MultinomialNB'\n",
      " 'Word TFIDF+LogisticRegression' 'Char TFIDF+LinearSVC'\n",
      " 'Char TFIDF+MultinomialNB' 'Char TFIDF+LogisticRegression']\n",
      "Traceback (most recent call last):\n",
      "  File \"cd-diagram/main.py\", line 403, in <module>\n",
      "    main(sys.argv[1:])\n",
      "  File \"cd-diagram/main.py\", line 399, in main\n",
      "    draw_cd_diagram(df_perf=df_perf, title=args.metric, labels=True, filename=args.img)\n",
      "  File \"cd-diagram/main.py\", line 287, in draw_cd_diagram\n",
      "    p_values, average_ranks, _ = wilcoxon_holm(df_perf=df_perf, alpha=alpha, metric=title)\n",
      "  File \"cd-diagram/main.py\", line 347, in wilcoxon_holm\n",
      "    p_value = wilcoxon(perf_1, perf_2, zero_method='pratt')[1]\n",
      "  File \"/usr/local/lib/python3.7/dist-packages/scipy/stats/morestats.py\", line 2870, in wilcoxon\n",
      "    raise ValueError(\"zero_method 'wilcox' and 'pratt' do not work if \"\n",
      "ValueError: zero_method 'wilcox' and 'pratt' do not work if the x - y is zero for all elements.\n"
     ],
     "name": "stdout"
    },
    {
     "output_type": "display_data",
     "data": {
      "image/png": "images/cd-accuracy.png",
      "text/plain": [
       "<IPython.core.display.Image object>"
      ]
     },
     "metadata": {
      "tags": []
     }
    }
   ]
  },
  {
   "cell_type": "code",
   "metadata": {
    "colab": {
     "base_uri": "https://localhost:8080/",
     "height": 340
    },
    "id": "inAFgv4XMOZG",
    "outputId": "baddfd82-2e34-40fe-969f-f789300fc575"
   },
   "source": [
    "from IPython.display import Image, display\n",
    "\n",
    "!python cd-diagram/main.py --results results/result_char.csv --metric f1_macro --img images/cd-f1_macro.pdf\n",
    "display(Image('images/cd-f1_macro.png'))"
   ],
   "execution_count": 29,
   "outputs": [
    {
     "output_type": "stream",
     "text": [
      "Traceback (most recent call last):\n",
      "  File \"cd-diagram/main.py\", line 403, in <module>\n",
      "    main(sys.argv[1:])\n",
      "  File \"cd-diagram/main.py\", line 397, in main\n",
      "    df_perf = pd.read_csv(args.results, index_col=False)\n",
      "  File \"/usr/local/lib/python3.7/dist-packages/pandas/io/parsers.py\", line 688, in read_csv\n",
      "    return _read(filepath_or_buffer, kwds)\n",
      "  File \"/usr/local/lib/python3.7/dist-packages/pandas/io/parsers.py\", line 454, in _read\n",
      "    parser = TextFileReader(fp_or_buf, **kwds)\n",
      "  File \"/usr/local/lib/python3.7/dist-packages/pandas/io/parsers.py\", line 948, in __init__\n",
      "    self._make_engine(self.engine)\n",
      "  File \"/usr/local/lib/python3.7/dist-packages/pandas/io/parsers.py\", line 1180, in _make_engine\n",
      "    self._engine = CParserWrapper(self.f, **self.options)\n",
      "  File \"/usr/local/lib/python3.7/dist-packages/pandas/io/parsers.py\", line 2010, in __init__\n",
      "    self._reader = parsers.TextReader(src, **kwds)\n",
      "  File \"pandas/_libs/parsers.pyx\", line 382, in pandas._libs.parsers.TextReader.__cinit__\n",
      "  File \"pandas/_libs/parsers.pyx\", line 674, in pandas._libs.parsers.TextReader._setup_parser_source\n",
      "FileNotFoundError: [Errno 2] No such file or directory: 'results/result_char.csv'\n"
     ],
     "name": "stdout"
    },
    {
     "output_type": "display_data",
     "data": {
      "image/png": "images/cd-f1_macro.png",
      "text/plain": [
       "<IPython.core.display.Image object>"
      ]
     },
     "metadata": {
      "tags": []
     }
    }
   ]
  }
 ]
}