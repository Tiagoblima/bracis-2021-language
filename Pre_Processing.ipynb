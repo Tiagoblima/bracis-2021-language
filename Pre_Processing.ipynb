{
  "nbformat": 4,
  "nbformat_minor": 0,
  "metadata": {
    "colab": {
      "name": "MultLangBibleCorpus.ipynb",
      "provenance": []
    },
    "kernelspec": {
      "name": "python3",
      "display_name": "Python 3"
    },
    "language_info": {
      "name": "python"
    }
  },
  "cells": [
    {
      "cell_type": "markdown",
      "metadata": {
        "id": "iYbR59m79Odg"
      },
      "source": [
        "## Multi-Language Bible Corpus Analyses"
      ]
    },
    {
      "cell_type": "code",
      "metadata": {
        "colab": {
          "base_uri": "https://localhost:8080/"
        },
        "id": "z2LZXpk39Jet",
        "outputId": "dd012133-8824-4593-cfe1-b46f17ea1fb7"
      },
      "source": [
        "!git clone https://github.com/Tiagoblima/bible-corpus.git"
      ],
      "execution_count": 1,
      "outputs": [
        {
          "output_type": "stream",
          "text": [
            "Cloning into 'bible-corpus'...\n",
            "remote: Enumerating objects: 313, done.\u001b[K\n",
            "remote: Counting objects: 100% (16/16), done.\u001b[K\n",
            "remote: Compressing objects: 100% (13/13), done.\u001b[K\n",
            "remote: Total 313 (delta 6), reused 12 (delta 3), pack-reused 297\u001b[K\n",
            "Receiving objects: 100% (313/313), 134.55 MiB | 17.25 MiB/s, done.\n",
            "Resolving deltas: 100% (52/52), done.\n",
            "Checking out files: 100% (114/114), done.\n"
          ],
          "name": "stdout"
        }
      ]
    },
    {
      "cell_type": "markdown",
      "metadata": {
        "id": "HxAv45IF9zM6"
      },
      "source": [
        "## Reading Bible in XML"
      ]
    },
    {
      "cell_type": "code",
      "metadata": {
        "id": "DLq5l4XyAUzt"
      },
      "source": [
        "import xml.etree.ElementTree as ET\n",
        "import numpy as np \n",
        "import os\n",
        "import pandas as pd \n",
        "import json"
      ],
      "execution_count": 6,
      "outputs": []
    },
    {
      "cell_type": "code",
      "metadata": {
        "id": "li8BAL4a9yaU"
      },
      "source": [
        "\n",
        "BIBLES_DIR = 'bible-corpus/bibles/'\n",
        "languages_files = os.listdir(BIBLES_DIR)\n",
        "dataset = []\n",
        "for lang_file in languages_files:\n",
        "  lang = lang_file.split('.')[0].split('-')[0]\n",
        "  \n",
        "  path_to_file = os.path.join(BIBLES_DIR,lang_file)\n",
        "  root = ET.fromstring(open(path_to_file).read())\n",
        "  #lang = root[1][0].attrib['lang']\n",
        "  root = ET.fromstring(open(path_to_file).read())\n",
        "  for n in root.iter('seg'):\n",
        "      try:\n",
        "        dataset.append({'LANG':lang, 'TEXT': n.text.strip() + '\\n'})\n",
        "      except AttributeError:\n",
        "        pass"
      ],
      "execution_count": 8,
      "outputs": []
    },
    {
      "cell_type": "code",
      "metadata": {
        "colab": {
          "base_uri": "https://localhost:8080/",
          "height": 419
        },
        "id": "oyHiG_J2zVxz",
        "outputId": "753832d0-c61e-4b2f-b624-e2d8d87851e9"
      },
      "source": [
        "df = pd.DataFrame(dataset)\n",
        "df"
      ],
      "execution_count": 9,
      "outputs": [
        {
          "output_type": "execute_result",
          "data": {
            "text/html": [
              "<div>\n",
              "<style scoped>\n",
              "    .dataframe tbody tr th:only-of-type {\n",
              "        vertical-align: middle;\n",
              "    }\n",
              "\n",
              "    .dataframe tbody tr th {\n",
              "        vertical-align: top;\n",
              "    }\n",
              "\n",
              "    .dataframe thead th {\n",
              "        text-align: right;\n",
              "    }\n",
              "</style>\n",
              "<table border=\"1\" class=\"dataframe\">\n",
              "  <thead>\n",
              "    <tr style=\"text-align: right;\">\n",
              "      <th></th>\n",
              "      <th>LANG</th>\n",
              "      <th>TEXT</th>\n",
              "    </tr>\n",
              "  </thead>\n",
              "  <tbody>\n",
              "    <tr>\n",
              "      <th>0</th>\n",
              "      <td>Wolaytta</td>\n",
              "      <td>Hagee Daawita zarenne Abrahaama zare gidida Ye...</td>\n",
              "    </tr>\n",
              "    <tr>\n",
              "      <th>1</th>\n",
              "      <td>Wolaytta</td>\n",
              "      <td>Abrahaami Yisaaqa yeliis; Yisaaqi Yaaqooba yel...</td>\n",
              "    </tr>\n",
              "    <tr>\n",
              "      <th>2</th>\n",
              "      <td>Wolaytta</td>\n",
              "      <td>Yihudai Ti7imaaro giyo maccaaseeppe Paareesann...</td>\n",
              "    </tr>\n",
              "    <tr>\n",
              "      <th>3</th>\n",
              "      <td>Wolaytta</td>\n",
              "      <td>Raami Aminadaaba yeliis; Aminadaabi Na7asoona ...</td>\n",
              "    </tr>\n",
              "    <tr>\n",
              "      <th>4</th>\n",
              "      <td>Wolaytta</td>\n",
              "      <td>Solomoni Ra7aabo giyo maccaaseeppe Boo7eeza ye...</td>\n",
              "    </tr>\n",
              "    <tr>\n",
              "      <th>...</th>\n",
              "      <td>...</td>\n",
              "      <td>...</td>\n",
              "    </tr>\n",
              "    <tr>\n",
              "      <th>2261163</th>\n",
              "      <td>Basque</td>\n",
              "      <td>Eta Spirituac eta Sposac erraiten duté, Athor....</td>\n",
              "    </tr>\n",
              "    <tr>\n",
              "      <th>2261164</th>\n",
              "      <td>Basque</td>\n",
              "      <td>Ecen protestatzen draucat liburu hunetaco prop...</td>\n",
              "    </tr>\n",
              "    <tr>\n",
              "      <th>2261165</th>\n",
              "      <td>Basque</td>\n",
              "      <td>Eta baldin nehorc ken badeça deus prophetia hu...</td>\n",
              "    </tr>\n",
              "    <tr>\n",
              "      <th>2261166</th>\n",
              "      <td>Basque</td>\n",
              "      <td>Gauça hauçaz testificatzen duenac dio, Segur b...</td>\n",
              "    </tr>\n",
              "    <tr>\n",
              "      <th>2261167</th>\n",
              "      <td>Basque</td>\n",
              "      <td>Iesus Christ gure Iaunaren gratia dela çuequin...</td>\n",
              "    </tr>\n",
              "  </tbody>\n",
              "</table>\n",
              "<p>2261168 rows × 2 columns</p>\n",
              "</div>"
            ],
            "text/plain": [
              "             LANG                                               TEXT\n",
              "0        Wolaytta  Hagee Daawita zarenne Abrahaama zare gidida Ye...\n",
              "1        Wolaytta  Abrahaami Yisaaqa yeliis; Yisaaqi Yaaqooba yel...\n",
              "2        Wolaytta  Yihudai Ti7imaaro giyo maccaaseeppe Paareesann...\n",
              "3        Wolaytta  Raami Aminadaaba yeliis; Aminadaabi Na7asoona ...\n",
              "4        Wolaytta  Solomoni Ra7aabo giyo maccaaseeppe Boo7eeza ye...\n",
              "...           ...                                                ...\n",
              "2261163    Basque  Eta Spirituac eta Sposac erraiten duté, Athor....\n",
              "2261164    Basque  Ecen protestatzen draucat liburu hunetaco prop...\n",
              "2261165    Basque  Eta baldin nehorc ken badeça deus prophetia hu...\n",
              "2261166    Basque  Gauça hauçaz testificatzen duenac dio, Segur b...\n",
              "2261167    Basque  Iesus Christ gure Iaunaren gratia dela çuequin...\n",
              "\n",
              "[2261168 rows x 2 columns]"
            ]
          },
          "metadata": {
            "tags": []
          },
          "execution_count": 9
        }
      ]
    },
    {
      "cell_type": "markdown",
      "metadata": {
        "id": "RAPjRVmWDHOB"
      },
      "source": [
        "### Joining with the Brazilian Native Languages"
      ]
    },
    {
      "cell_type": "code",
      "metadata": {
        "colab": {
          "base_uri": "https://localhost:8080/"
        },
        "id": "-ayLU7qq2lXX",
        "outputId": "a3ac835e-2b4a-49e0-fc59-c197854beff9"
      },
      "source": [
        "indigenous_df = pd.read_csv('bible-corpus/BibleMulti.csv')\n",
        "ind_languages = list(indigenous_df.columns[3:])\n",
        "ind_languages.remove('portuguese')\n",
        "ind_languages"
      ],
      "execution_count": 10,
      "outputs": [
        {
          "output_type": "execute_result",
          "data": {
            "text/plain": [
              "['apalai',\n",
              " 'apinaye',\n",
              " 'apurina',\n",
              " 'bakairi',\n",
              " 'guajajara',\n",
              " 'guarani',\n",
              " 'kadiweu',\n",
              " 'kagwahiva',\n",
              " 'kaigang',\n",
              " 'kaiwa',\n",
              " 'karaja',\n",
              " 'kayabi',\n",
              " 'kayapo',\n",
              " 'macushi',\n",
              " 'maxakali',\n",
              " 'munduruku',\n",
              " 'nadeb',\n",
              " 'nambikuara',\n",
              " 'parecis',\n",
              " 'paumari',\n",
              " 'rikbaktsa',\n",
              " 'satere-mawe',\n",
              " 'terena',\n",
              " 'tukano',\n",
              " 'urubu-kaapor',\n",
              " 'xavante']"
            ]
          },
          "metadata": {
            "tags": []
          },
          "execution_count": 10
        }
      ]
    },
    {
      "cell_type": "code",
      "metadata": {
        "colab": {
          "base_uri": "https://localhost:8080/"
        },
        "id": "bVJswAmrI_o_",
        "outputId": "f8ad4f0a-add1-4de0-abac-9e5a4e52efc7"
      },
      "source": [
        "len(ind_languages)"
      ],
      "execution_count": 17,
      "outputs": [
        {
          "output_type": "execute_result",
          "data": {
            "text/plain": [
              "26"
            ]
          },
          "metadata": {
            "tags": []
          },
          "execution_count": 17
        }
      ]
    },
    {
      "cell_type": "code",
      "metadata": {
        "colab": {
          "base_uri": "https://localhost:8080/",
          "height": 419
        },
        "id": "WPhAZZkk0ksf",
        "outputId": "2c02dde2-695d-43b5-d349-407ef7a1f9b9"
      },
      "source": [
        "ind_dataset = []\n",
        "for lang in ind_languages:\n",
        "  texts = indigenous_df[lang]\n",
        "  data = map(lambda text: {'LANG':lang.capitalize(), 'TEXT':text}, texts)\n",
        "  ind_dataset.extend(data)\n",
        "\n",
        "df = df.append(ind_dataset).sample(frac=1).replace('', np.nan).dropna()\n",
        "df"
      ],
      "execution_count": 48,
      "outputs": [
        {
          "output_type": "execute_result",
          "data": {
            "text/html": [
              "<div>\n",
              "<style scoped>\n",
              "    .dataframe tbody tr th:only-of-type {\n",
              "        vertical-align: middle;\n",
              "    }\n",
              "\n",
              "    .dataframe tbody tr th {\n",
              "        vertical-align: top;\n",
              "    }\n",
              "\n",
              "    .dataframe thead th {\n",
              "        text-align: right;\n",
              "    }\n",
              "</style>\n",
              "<table border=\"1\" class=\"dataframe\">\n",
              "  <thead>\n",
              "    <tr style=\"text-align: right;\">\n",
              "      <th></th>\n",
              "      <th>LANG</th>\n",
              "      <th>TEXT</th>\n",
              "    </tr>\n",
              "  </thead>\n",
              "  <tbody>\n",
              "    <tr>\n",
              "      <th>1169004</th>\n",
              "      <td>Romanian</td>\n",
              "      <td>Poporul a ieşit din Iordan în ziua a zecea a l...</td>\n",
              "    </tr>\n",
              "    <tr>\n",
              "      <th>1012923</th>\n",
              "      <td>K'iche'</td>\n",
              "      <td>Je cˈu riˈ, jas ri xibano, xicˈamowaj ri Jesuc...</td>\n",
              "    </tr>\n",
              "    <tr>\n",
              "      <th>127694</th>\n",
              "      <td>Satere-mawe</td>\n",
              "      <td>Miꞌi hawyi totioto Peteru iꞌewyte typy ok Sepe...</td>\n",
              "    </tr>\n",
              "    <tr>\n",
              "      <th>356904</th>\n",
              "      <td>Greek</td>\n",
              "      <td>Η πολις της ερημωσεως ηφανισθη πασα οικια εκλε...</td>\n",
              "    </tr>\n",
              "    <tr>\n",
              "      <th>1707260</th>\n",
              "      <td>Gujarati</td>\n",
              "      <td>દરેક ઉત્તમ વસ્તુ દેવ પાસેથી જ આવે છે અને બધીજ ...</td>\n",
              "    </tr>\n",
              "    <tr>\n",
              "      <th>...</th>\n",
              "      <td>...</td>\n",
              "      <td>...</td>\n",
              "    </tr>\n",
              "    <tr>\n",
              "      <th>123260</th>\n",
              "      <td>Rikbaktsa</td>\n",
              "      <td>Batu paikpa mytsaty tsimykaranaha. Bykyze siak...</td>\n",
              "    </tr>\n",
              "    <tr>\n",
              "      <th>126763</th>\n",
              "      <td>Rikbaktsa</td>\n",
              "      <td>Kaharere nitsasobanahaze sirara tserirẽta mozu...</td>\n",
              "    </tr>\n",
              "    <tr>\n",
              "      <th>1752633</th>\n",
              "      <td>Russian</td>\n",
              "      <td>И сказал Самсон: челюстью ослиною толпу, две т...</td>\n",
              "    </tr>\n",
              "    <tr>\n",
              "      <th>1155997</th>\n",
              "      <td>Hungarian</td>\n",
              "      <td>A ki pedig az egyet kapta vala, elmenvén, elás...</td>\n",
              "    </tr>\n",
              "    <tr>\n",
              "      <th>2071047</th>\n",
              "      <td>Lithuanian</td>\n",
              "      <td>Jėzui gimus Judėjos Betliejuje karaliaus Erodo...</td>\n",
              "    </tr>\n",
              "  </tbody>\n",
              "</table>\n",
              "<p>3044783 rows × 2 columns</p>\n",
              "</div>"
            ],
            "text/plain": [
              "                LANG                                               TEXT\n",
              "1169004     Romanian  Poporul a ieşit din Iordan în ziua a zecea a l...\n",
              "1012923      K'iche'  Je cˈu riˈ, jas ri xibano, xicˈamowaj ri Jesuc...\n",
              "127694   Satere-mawe  Miꞌi hawyi totioto Peteru iꞌewyte typy ok Sepe...\n",
              "356904         Greek  Η πολις της ερημωσεως ηφανισθη πασα οικια εκλε...\n",
              "1707260     Gujarati  દરેક ઉત્તમ વસ્તુ દેવ પાસેથી જ આવે છે અને બધીજ ...\n",
              "...              ...                                                ...\n",
              "123260     Rikbaktsa  Batu paikpa mytsaty tsimykaranaha. Bykyze siak...\n",
              "126763     Rikbaktsa  Kaharere nitsasobanahaze sirara tserirẽta mozu...\n",
              "1752633      Russian  И сказал Самсон: челюстью ослиною толпу, две т...\n",
              "1155997    Hungarian  A ki pedig az egyet kapta vala, elmenvén, elás...\n",
              "2071047   Lithuanian  Jėzui gimus Judėjos Betliejuje karaliaus Erodo...\n",
              "\n",
              "[3044783 rows x 2 columns]"
            ]
          },
          "metadata": {
            "tags": []
          },
          "execution_count": 48
        }
      ]
    },
    {
      "cell_type": "code",
      "metadata": {
        "id": "V2Kwbdm-PNlr"
      },
      "source": [
        "pd.DataFrame(ind_dataset).to_csv('ind_cls.csv', index=False, index_label=False)"
      ],
      "execution_count": 76,
      "outputs": []
    },
    {
      "cell_type": "code",
      "metadata": {
        "colab": {
          "base_uri": "https://localhost:8080/"
        },
        "id": "uxyQTe1-JW25",
        "outputId": "f592d561-955f-40e7-f395-ad9860f34861"
      },
      "source": [
        "df.groupby('LANG').size()"
      ],
      "execution_count": 49,
      "outputs": [
        {
          "output_type": "execute_result",
          "data": {
            "text/plain": [
              "LANG\n",
              "Achuar        7646\n",
              "Afrikaans    31163\n",
              "Aguaruna      7946\n",
              "Akawaio       7734\n",
              "Albanian     31102\n",
              "             ...  \n",
              "Wolof         7920\n",
              "Xavante      30035\n",
              "Xhosa        31102\n",
              "Zarma        31155\n",
              "Zulu          7975\n",
              "Length: 128, dtype: int64"
            ]
          },
          "metadata": {
            "tags": []
          },
          "execution_count": 49
        }
      ]
    },
    {
      "cell_type": "code",
      "metadata": {
        "id": "KBCq2ibnA2NH"
      },
      "source": [
        "sizes = []\n",
        "\n",
        "for lang, lang_df in df.groupby('LANG'):\n",
        "  sizes.append(lang_df.shape[0])"
      ],
      "execution_count": 50,
      "outputs": []
    },
    {
      "cell_type": "code",
      "metadata": {
        "colab": {
          "base_uri": "https://localhost:8080/",
          "height": 298
        },
        "id": "mObvcLQnBOBG",
        "outputId": "020465bd-15f8-4e84-92c8-3cb35c5c78db"
      },
      "source": [
        "import seaborn as sns\n",
        "\n",
        "hist = sns.histplot(sizes)\n",
        "hist.set_title('Document Count')"
      ],
      "execution_count": 51,
      "outputs": [
        {
          "output_type": "execute_result",
          "data": {
            "text/plain": [
              "Text(0.5, 1.0, 'Document Count')"
            ]
          },
          "metadata": {
            "tags": []
          },
          "execution_count": 51
        },
        {
          "output_type": "display_data",
          "data": {
            "image/png": "[encoded data removed]",
            "text/plain": [
              "<Figure size 432x288 with 1 Axes>"
            ]
          },
          "metadata": {
            "tags": [],
            "needs_background": "light"
          }
        }
      ]
    },
    {
      "cell_type": "code",
      "metadata": {
        "id": "_hU96EB5D2Hc"
      },
      "source": [
        "balanced_dataset = []\n",
        "SMALLER_SIZE = min(sizes)\n",
        "for lang, lang_df in df.groupby('LANG'):\n",
        "\n",
        "  balanced_dataset.append(lang_df.sample(n=SMALLER_SIZE))"
      ],
      "execution_count": 52,
      "outputs": []
    },
    {
      "cell_type": "code",
      "metadata": {
        "colab": {
          "base_uri": "https://localhost:8080/",
          "height": 419
        },
        "id": "W2QmSl-9EQAU",
        "outputId": "469b698d-7405-4c9f-cfb5-5bb1837b5812"
      },
      "source": [
        "balanced_df = pd.concat(balanced_dataset).sample(frac=1)\n",
        "balanced_df"
      ],
      "execution_count": 53,
      "outputs": [
        {
          "output_type": "execute_result",
          "data": {
            "text/html": [
              "<div>\n",
              "<style scoped>\n",
              "    .dataframe tbody tr th:only-of-type {\n",
              "        vertical-align: middle;\n",
              "    }\n",
              "\n",
              "    .dataframe tbody tr th {\n",
              "        vertical-align: top;\n",
              "    }\n",
              "\n",
              "    .dataframe thead th {\n",
              "        text-align: right;\n",
              "    }\n",
              "</style>\n",
              "<table border=\"1\" class=\"dataframe\">\n",
              "  <thead>\n",
              "    <tr style=\"text-align: right;\">\n",
              "      <th></th>\n",
              "      <th>LANG</th>\n",
              "      <th>TEXT</th>\n",
              "    </tr>\n",
              "  </thead>\n",
              "  <tbody>\n",
              "    <tr>\n",
              "      <th>1434136</th>\n",
              "      <td>Akawaio</td>\n",
              "      <td>Sises uya to' usenuminkato' i'tusa' esi'pʉ, mɨ...</td>\n",
              "    </tr>\n",
              "    <tr>\n",
              "      <th>1478866</th>\n",
              "      <td>Nepali</td>\n",
              "      <td>वकील जीनस र अपोल्लसले आफ्ना यात्रा यहाँदेखि जा...</td>\n",
              "    </tr>\n",
              "    <tr>\n",
              "      <th>2219310</th>\n",
              "      <td>Ukranian</td>\n",
              "      <td>Хто ж сумнить ся, чи їсти, осудить ся, бо (їст...</td>\n",
              "    </tr>\n",
              "    <tr>\n",
              "      <th>871353</th>\n",
              "      <td>Zarma</td>\n",
              "      <td>Kala ni ma hanga jeeri sohõ ay sanno se ay ma...</td>\n",
              "    </tr>\n",
              "    <tr>\n",
              "      <th>749380</th>\n",
              "      <td>Chamorro</td>\n",
              "      <td>Na, noseaja derepente ufato, ya infansineda ma...</td>\n",
              "    </tr>\n",
              "    <tr>\n",
              "      <th>...</th>\n",
              "      <td>...</td>\n",
              "      <td>...</td>\n",
              "    </tr>\n",
              "    <tr>\n",
              "      <th>1747572</th>\n",
              "      <td>Russian</td>\n",
              "      <td>Когда же фараон отпустил народ, Бог не повел е...</td>\n",
              "    </tr>\n",
              "    <tr>\n",
              "      <th>73652</th>\n",
              "      <td>Kayapo</td>\n",
              "      <td>Nhym me kum, —‍Môjdjê ne memã kum, “Gê me prõ'...</td>\n",
              "    </tr>\n",
              "    <tr>\n",
              "      <th>238695</th>\n",
              "      <td>Dinka</td>\n",
              "      <td>Ku na de raan reec week tɔ ye kamaan, ku reec ...</td>\n",
              "    </tr>\n",
              "    <tr>\n",
              "      <th>463848</th>\n",
              "      <td>Somali</td>\n",
              "      <td>Aabraamna wuxuu jiray lix iyo siddeetan sannad...</td>\n",
              "    </tr>\n",
              "    <tr>\n",
              "      <th>1515644</th>\n",
              "      <td>Latin</td>\n",
              "      <td>Moses quoque tollens tabernaculum tetendit ext...</td>\n",
              "    </tr>\n",
              "  </tbody>\n",
              "</table>\n",
              "<p>86656 rows × 2 columns</p>\n",
              "</div>"
            ],
            "text/plain": [
              "             LANG                                               TEXT\n",
              "1434136   Akawaio  Sises uya to' usenuminkato' i'tusa' esi'pʉ, mɨ...\n",
              "1478866    Nepali  वकील जीनस र अपोल्लसले आफ्ना यात्रा यहाँदेखि जा...\n",
              "2219310  Ukranian  Хто ж сумнить ся, чи їсти, осудить ся, бо (їст...\n",
              "871353      Zarma  Kala ni ma hanga jeeri sohõ ay sanno se ay ma...\n",
              "749380   Chamorro  Na, noseaja derepente ufato, ya infansineda ma...\n",
              "...           ...                                                ...\n",
              "1747572   Russian  Когда же фараон отпустил народ, Бог не повел е...\n",
              "73652      Kayapo  Nhym me kum, —‍Môjdjê ne memã kum, “Gê me prõ'...\n",
              "238695      Dinka  Ku na de raan reec week tɔ ye kamaan, ku reec ...\n",
              "463848     Somali  Aabraamna wuxuu jiray lix iyo siddeetan sannad...\n",
              "1515644     Latin  Moses quoque tollens tabernaculum tetendit ext...\n",
              "\n",
              "[86656 rows x 2 columns]"
            ]
          },
          "metadata": {
            "tags": []
          },
          "execution_count": 53
        }
      ]
    },
    {
      "cell_type": "code",
      "metadata": {
        "id": "vmytaN1rG-jc"
      },
      "source": [
        "balanced_df.to_csv('cls_dataset.csv', index=False, index_label=False)"
      ],
      "execution_count": 68,
      "outputs": []
    },
    {
      "cell_type": "code",
      "metadata": {
        "colab": {
          "base_uri": "https://localhost:8080/"
        },
        "id": "8n3YfZ5QJHDM",
        "outputId": "74343444-8fe2-4c0d-fe54-f92cdac0d5c7"
      },
      "source": [
        "balanced_df.groupby('LANG').size().min()"
      ],
      "execution_count": 56,
      "outputs": [
        {
          "output_type": "execute_result",
          "data": {
            "text/plain": [
              "677"
            ]
          },
          "metadata": {
            "tags": []
          },
          "execution_count": 56
        }
      ]
    },
    {
      "cell_type": "code",
      "metadata": {
        "colab": {
          "base_uri": "https://localhost:8080/"
        },
        "id": "qvlMc-UKL9ou",
        "outputId": "dc4028f2-d078-455a-ba3f-119e209e67b9"
      },
      "source": [
        "balanced_df['LANG'].unique()"
      ],
      "execution_count": 64,
      "outputs": [
        {
          "output_type": "execute_result",
          "data": {
            "text/plain": [
              "array(['Akawaio', 'Nepali', 'Ukranian', 'Zarma', 'Chamorro', 'Estonian',\n",
              "       'Cakchiquel', 'Barasana', 'Slovene', 'Portuguese', 'Russian',\n",
              "       'Coptic', 'Romanian', 'Aukan', 'Gujarati', 'Manx', 'Paumari',\n",
              "       'Nambikuara', 'Nadeb', 'Maxakali', 'Nahuatl', 'Armenian', 'Shona',\n",
              "       'Ojibwa', 'Maori', 'Bakairi', 'Turkish', 'Amuzgo', 'Uma', 'Apalai',\n",
              "       'Karaja', 'Vietnamese', 'Dutch', 'Tukano', 'Guajajara', 'Danish',\n",
              "       'Rikbaktsa', 'Guarani', 'Zulu', 'Malayalam', 'English',\n",
              "       'Potawatomi', 'Kadiweu', 'Creole', 'Wolof', 'Macushi',\n",
              "       'Urubu-kaapor', 'Syriac', 'Icelandic', 'Apurina', 'Campa',\n",
              "       'Galela', 'Apinaye', 'Albanian', 'Amharic', 'Kagwahiva', 'Slovak',\n",
              "       'Italian', 'Aguaruna', 'Myanmar', 'Shuar', 'Latvian', 'Cherokee',\n",
              "       'Camsa', 'Bulgarian', 'Ewe', 'Tagalog', 'Croatian', 'Wolaytta',\n",
              "       'Arabic', 'Satere-mawe', 'Czech', 'Xavante', 'Finnish', 'German',\n",
              "       'Kannada', 'Telugu', 'Lithuanian', 'Kaiwa', 'Cebuano', 'Polish',\n",
              "       'Korean', 'Dinka', 'Munduruku', 'Uspanteco', 'Achuar', 'Swahili',\n",
              "       'Hindi', 'Esperanto', 'Latin', 'Hungarian', 'Tachelhit', 'Quichua',\n",
              "       'Gaelic', 'Paite', 'Farsi', 'Spanish', 'Swedish', \"K'iche'\",\n",
              "       'Chinantec', 'French', 'Greek', \"Q'eqchi'\", 'Serbian', 'Somali',\n",
              "       'Hebrew', 'Kayabi', 'Mam', 'Lukpa', 'Kaigang', 'Kabyle', 'Chinese',\n",
              "       'Marathi', 'Jakalteko', 'Japanese', 'Malagasy', 'Cabecar',\n",
              "       'Basque', 'Norwegian', 'Indonesian', 'Kayapo', 'Romani', 'Tuareg',\n",
              "       'Xhosa', 'Parecis', 'Thai', 'Afrikaans', 'Terena'], dtype=object)"
            ]
          },
          "metadata": {
            "tags": []
          },
          "execution_count": 64
        }
      ]
    },
    {
      "cell_type": "code",
      "metadata": {
        "id": "55hyvAGHLFB_"
      },
      "source": [
        "DATASET_DIR = 'datasets/'\n",
        "\n",
        "try:\n",
        "  os.mkdir(DATASET_DIR)\n",
        "except OSError:\n",
        "  pass"
      ],
      "execution_count": 57,
      "outputs": []
    },
    {
      "cell_type": "code",
      "metadata": {
        "id": "twK_FO2jLmrL"
      },
      "source": [
        "\n",
        "for data_size in range(10, 110, 10):\n",
        "  samples = []\n",
        "  for lang, lang_df in balanced_df.groupby('LANG'):\n",
        "      samples.append(lang_df.sample(n=data_size))\n",
        "  pd.concat(samples).to_csv(os.path.join(DATASET_DIR, \n",
        "                                         f'samples_{data_size}.csv'), \n",
        "                                        index=False, index_label=False)"
      ],
      "execution_count": 71,
      "outputs": []
    },
    {
      "cell_type": "code",
      "metadata": {
        "id": "9-3r4Re4O2Ml"
      },
      "source": [
        "!rm -r datasets/.ipynb_checkpoints"
      ],
      "execution_count": 73,
      "outputs": []
    },
    {
      "cell_type": "code",
      "metadata": {
        "colab": {
          "base_uri": "https://localhost:8080/"
        },
        "id": "D5deh4UFNvS9",
        "outputId": "21383e54-0e7b-4029-9cbc-32f76449db3d"
      },
      "source": [
        "datasets_lists = os.listdir('datasets')"
      ],
      "execution_count": 74,
      "outputs": [
        {
          "output_type": "execute_result",
          "data": {
            "text/plain": [
              "['samples_40.csv',\n",
              " 'samples_20.csv',\n",
              " 'samples_80.csv',\n",
              " 'samples_60.csv',\n",
              " 'samples_100.csv',\n",
              " 'samples_70.csv',\n",
              " 'samples_50.csv',\n",
              " 'samples_90.csv',\n",
              " 'samples_10.csv',\n",
              " 'samples_30.csv']"
            ]
          },
          "metadata": {
            "tags": []
          },
          "execution_count": 74
        }
      ]
    },
    {
      "cell_type": "code",
      "metadata": {
        "colab": {
          "base_uri": "https://localhost:8080/"
        },
        "id": "4-v1B3GnQXI2",
        "outputId": "cb2eafc5-f5b1-425c-a3a3-bac2c1a0b84f"
      },
      "source": [
        "!zip -r datasets.zip datasets/"
      ],
      "execution_count": 79,
      "outputs": [
        {
          "output_type": "stream",
          "text": [
            "updating: datasets/ (stored 0%)\n",
            "  adding: datasets/samples_40.csv (deflated 64%)\n",
            "  adding: datasets/samples_20.csv (deflated 62%)\n",
            "  adding: datasets/samples_80.csv (deflated 67%)\n",
            "  adding: datasets/samples_60.csv (deflated 66%)\n",
            "  adding: datasets/samples_100.csv (deflated 67%)\n",
            "  adding: datasets/samples_70.csv (deflated 66%)\n",
            "  adding: datasets/samples_50.csv (deflated 65%)\n",
            "  adding: datasets/samples_90.csv (deflated 67%)\n",
            "  adding: datasets/samples_10.csv (deflated 58%)\n",
            "  adding: datasets/samples_30.csv (deflated 63%)\n"
          ],
          "name": "stdout"
        }
      ]
    }
  ]
}